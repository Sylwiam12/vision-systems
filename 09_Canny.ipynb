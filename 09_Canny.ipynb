{
  "cells": [
    {
      "cell_type": "markdown",
      "metadata": {
        "pycharm": {
          "name": "#%% md\n"
        },
        "id": "dAAnf-rzhdMN"
      },
      "source": [
        "# Detekcja krawędzi"
      ]
    },
    {
      "cell_type": "markdown",
      "metadata": {
        "collapsed": false,
        "pycharm": {
          "name": "#%% md\n"
        },
        "id": "uT2ZY5-DhdMR"
      },
      "source": [
        "## Cel ćwiczenia\n",
        "\n",
        "- Zapoznanie z metodami detekcji krawędzi:\n",
        "    - Sobel, Prewitt, Roberts - przypomnienie,\n",
        "    - Laplasjan z Gaussa (LoG – ang. Laplacian of Gaussian),\n",
        "    - Canny.\n",
        "\n",
        "Detekcja krawędzi przez wiele lat była podstawą algorytmów segmentacji.\n",
        "Krawędzie wykrywane są najczęściej z wykorzystaniem pierwszej (gradient) i drugiej (Laplasjan) pochodnej przestrzennej.\n",
        "Wykorzystanie obu metod zaprezentowane zostało w ćwiczeniu *Przetwarzanie wstępne. Filtracja kontekstowa*.\n",
        "\n",
        "W niniejszym ćwiczeniu poznane detektory krawędzi zostaną porównane z bardziej zaawansowanymi: Laplasjan z funkcji Gaussa (LoG), Zero Crossing i Canny."
      ]
    },
    {
      "cell_type": "markdown",
      "metadata": {
        "collapsed": false,
        "pycharm": {
          "name": "#%% md\n"
        },
        "id": "8pSTAeCwhdMU"
      },
      "source": [
        "## Laplasjan z Gaussa (LoG)\n",
        "\n",
        "Funkcja Gaussa:<br>\n",
        "\\begin{equation}\n",
        "h(r) = e^{\\frac{-r^2}{2 \\sigma^2}}\n",
        "\\end{equation}<br>\n",
        "gdzie:\n",
        "- $r^2 = x^2 + y^2$\n",
        "- $\\sigma$ to odchylenie standardowe.\n",
        "\n",
        "Działanie filtracji Gaussowskiej zostało przedstawione w ćwiczeniu \"Przetwarzanie wstępne\". W jej wyniku następuje rozmazanie obrazu.\n",
        "Laplasjan tej funkcji dany jest wzorem:\n",
        "\n",
        "\\begin{equation}\n",
        "\\nabla^2 h(r) = \\frac{r^2 - 2\\sigma^2}{\\sigma^4} e^{-\\frac{r^2}{2\\sigma^2}}\n",
        "\\end{equation}\n",
        "\n",
        "Funkcję (z oczywistych powodów) nazywamy Laplasjan z Gaussa (LoG).\n",
        "Ponieważ druga pochodna jest operacją liniową, konwolucja obrazu z $\\nabla^2 h(r)$ daje taki sam efekt jak zastosowanie filtracji Gaussa na obrazie, a następnie obliczenie Laplasjanu z wyniku.\n",
        "Lokalizacja krawędzi polega na znalezieniu miejsca, gdzie po filtracji LoG następuje zmiana znaku.\n",
        "\n",
        "1. Wczytaj obraz *house.png*.\n",
        "2. Wykonaj rozmycie Gaussowskie obrazu wejściowego.\n",
        "W tym celu wykorzysaj funkcję `cv2.GaussianBlur(img, kSize, sigma)`.\n",
        "Pierwszy argument jest obrazem wejśćiowym.\n",
        "Drugi jest rozmiarem filtru (podanym w nawiasach okrągłych, np. *(3, 3)*).\n",
        "Trzecim argumentem jest odchylenie standardowe. Wartość jest dobrana automatycznie, jeśli zosanie podana wartość `0` (będą równe rozmiarowi).\n",
        "3. Oblicz laplasjan obrazu rozmytego.\n",
        "W tym celu wykorzysaj funkcję `cv2.Laplacian(img, ddepth)`.\n",
        "Pierszym argumentem jest obraz wejściowy.\n",
        "Drugim argumentem jest typ danych wejściowych. Użyj `cv2.CV_32F`.\n",
        "4. Wyznacz miejsca zmiany znaku.\n",
        "Zaimplementuj funkcję `crossing(LoG, thr)`:\n",
        "    - Najpierw stwórz tablicę, do której zostanie zapisany wynik.\n",
        "    Jej rozmiar jest taki sam jak przetwarzanego obrazu.\n",
        "    - Następnie wykonaj pętle po obrazie (bez ramki jednopikselowej).\n",
        "    W każdej iteracji stwórz otoczenie o rozmiarze $3 \\times 3$.\n",
        "    Dla otoczenia oblicz wartość maksymalną i minimalną.\n",
        "    - Jeśli wartości te mają przeciwne znaki, to do danego miejsca tablicy przypisz wartość:\n",
        "        - jeśli piksel wejściowy > 0, to dodaj do niego wartość bezwzględną minimum.\n",
        "        - jeśli piksel wejściowy < 0, to do jego wartości bezwzględnej dodaj maksimum.\n",
        "    - Zmień zakres wykonanej tablicy do $<0, 255>$.\n",
        "    - Wykonaj progowanie tablicy. Próg jest argumentem wejściowym.\n",
        "    - Przeskaluj dane binarne do wartości `[0, 255]`.\n",
        "    - Wykonaj konwersję do typu *uint8*.\n",
        "    - Wykonaj rozmycie medianowe wyniku.\n",
        "    Wykorzystaj funkcję `cv2.medianBlur(img, kSize)`.\n",
        "    Pierwszym argumentem jest obraz wejśćiowy, a drugim rozmiar filtra.\n",
        "    - Zwróć wyznaczoną tablicę.\n",
        "5. Wyświetl obraz wynikowy.\n",
        "6. Dobierz parametry (rozmiar filtru Gaussa, odchylenie standardowe, próg binaryzacji) tak, by widoczne były kontury domu, ale nie dachówki."
      ]
    },
    {
      "cell_type": "code",
      "execution_count": null,
      "metadata": {
        "pycharm": {
          "name": "#%% Zadanie 1 - LoG\n"
        },
        "id": "A-BqJ2BbhdMX"
      },
      "outputs": [],
      "source": [
        "import cv2\n",
        "from matplotlib import pyplot as plt\n",
        "import numpy as np\n",
        "import math\n",
        "import os\n",
        "\n",
        "if not os.path.exists(\"dom.png\") :\n",
        "    !wget https://raw.githubusercontent.com/vision-agh/poc_sw/master/09_Canny/dom.png --no-check-certificate\n",
        "\n",
        "dom=cv2.imread('dom.png',cv2.IMREAD_GRAYSCALE)\n",
        "dom_blur=cv2.GaussianBlur(dom,(5,5),0)\n",
        "dom_blur_lapl=cv2.Laplacian(dom_blur,cv2.CV_32F)\n",
        "\n",
        "def crossing(LoG,thr):\n",
        "    x,y=LoG.shape\n",
        "    result=np.ones(LoG.shape)\n",
        "    for k in range(1,x-1):\n",
        "        for m in range(1,y-1):\n",
        "            otoczenie=LoG[k-1:k+2,m-1:m+2]\n",
        "            max_otoczenie=otoczenie.max()\n",
        "            min_otoczenie=otoczenie.min()\n",
        "            if min_otoczenie*max_otoczenie<0:\n",
        "                if LoG[k,m]>0:\n",
        "                     result[k,m]=LoG[k,m]+np.abs(min_otoczenie)\n",
        "                if LoG[k,m]<0:\n",
        "                     result[k,m]=np.abs(LoG[k,m])+max_otoczenie\n",
        "                \n",
        "    new_result=cv2.normalize(result,None,0,255,cv2.NORM_MINMAX)\n",
        "    Result=np.where(new_result < thr, 0, 1)\n",
        "    result_scale=Result*255\n",
        "    resultn=result_scale.astype('uint8')\n",
        "    final_result=cv2.medianBlur(resultn,5)\n",
        "    return final_result\n",
        "\n",
        "dom_crossing=crossing(dom_blur_lapl,3)\n",
        "plt.imshow(dom_crossing,cmap='gray',vmin=0,vmax=256)\n",
        "plt.axis('off')\n",
        "plt.show()"
      ]
    },
    {
      "cell_type": "markdown",
      "metadata": {
        "collapsed": false,
        "pycharm": {
          "name": "#%% md\n"
        },
        "id": "yKZcHNgxhdMb"
      },
      "source": [
        "## Algorytm Canny'ego\n",
        "\n",
        "> Algorytm Canny'ego to często wykorzystywana metoda detekcji krawędzi.\n",
        "> Zaproponowana została w~1986r. przez Johna F. Cannego.\n",
        "> Przy jego projektowaniu założono trzy cele:\n",
        "> - niska liczba błędów - algorytm powinien znajdywać wszystkie krawędzie oraz generować jak najmniej fałszywych detekcji,\n",
        "> - punkty krawędziowe powinny być poprawnie lokalizowane - wykryte punkty powinny być jak najbardziej zbliżone do rzeczywistych,\n",
        "> - krawędzie o szerokości 1 piksela - algorytm powinien zwrócić jeden punkt dla każdej rzeczywistej krawędzi.\n",
        "\n",
        "Zaimplementuj pierwszą część algorytmu detekcji krawędzi Canny'ego:\n",
        "1. W pierwszym kroku obraz przefiltruj dwuwymiarowym filtrem Gaussa.\n",
        "2. Następnie oblicz gradient pionowy i poziomy ($g_x $ i $g_y$).\n",
        "Jedną z metod jest filtracja Sobela.\n",
        "3. Dalej oblicz amplitudę:\n",
        "$M(x,y)  = \\sqrt{g_x^2+g_y^2}$ oraz kąt:\n",
        "$\\alpha(x,y) = arctan(\\frac{g_y}{g_x})$.\n",
        "Do obliczenia kąta wykorzystaj funkcję `np.arctan2(x1, x2)`.\n",
        "Wynik jest w radianach.\n",
        "4. W kolejnym etapie wykonaj kwantyzację kątów gradientu.\n",
        "Kąty od $-180^\\circ$ do $180^\\circ$ można podzielić na 8 przedziałów:\n",
        "[$-22.5^\\circ, 22.5^\\circ$], [$22.5^\\circ, 67.5^\\circ$],\n",
        "[$67.5^\\circ, 112.5^\\circ$], [$112.5^\\circ, 157.5^\\circ$],\n",
        "[$157.5^\\circ, -157.5^\\circ$], [$-157.5^\\circ, -112.5^\\circ$],\n",
        "[$-112.5^\\circ, -67.5^\\circ$], [$-67.5^\\circ, -22.5^\\circ$].\n",
        "Przy czym należy rozpatrywać tylko 4 kierunki:\n",
        "    - pionowy ($d_1$),\n",
        "    - poziomy ($d_2$),\n",
        "    - skośny lewy ($d_3$),\n",
        "    - skośny prawy ($d_4$).\n",
        "5. Dalej przeprowadź eliminację pikseli, które nie mają wartości maksymalnej (ang. *nonmaximal suppresion*).\n",
        "Celem tej operacji jest redukcja szerokości krawędzi do rozmiaru 1 piksela.\n",
        "Algorytm przebiega następująco.\n",
        "W rozpatrywanym otoczeniu o rozmiarze $3 \\times 3$:\n",
        "    - określ do którego przedziału należy kierunek gradientu piksela centralnego ($d_1, d_2, d_3, d_4$).\n",
        "    - przeanalizuje sąsiadów leżących na tym kierunku.\n",
        "Jeśli choć jeden z nich ma amplitudę większą niż piksel centralny, to należy uznać, że nie jest lokalnym maksimum i do wyniku przypisać $g_N(x,y) = 0$.\n",
        "W przeciwnym przypadku $g_N(x,y) = M(x,y)$.\n",
        "Przez $g_N$ rozumiemy obraz detekcji lokalnych maksimów.\n",
        "Zaimplementuj funkcję `nonmax`.\n",
        "Pierwszym argementem jest macierz kierunków (po kwantyzacji).\n",
        "Drugim argumentem jest macierz amplitudy.\n",
        "6. Ostatnią operacją jest binaryzacja obrazu $g_N$.\n",
        "Stosuje się tutaj tzw. binaryzację z histerezą.\n",
        "Wykorzystuje się w niej dwa progi: $T_L$ i $T_H$, przy czym $T_L < T_H$.\n",
        "Canny zaproponował, aby stosunek progu wyższego do niższego był jak 3 lub 2 do 1.\n",
        "Rezultaty binaryzacji można opisać jako:<br>\n",
        "$g_{NH}(x,y) = g_N(x,y) \\geq TH $<br>\n",
        "$g_{NL}(x,y) = TH > g_N(x,y) \\geq TL $<br>\n",
        "Można powiedzieć, że na obrazie $g_{NH}$ są \"pewne\" krawędzie.\n",
        "Natomiast na $g_{NL}$ \"potencjalne\".\n",
        "7. Na jednym obrazie zaznacz piksele należące do obrazu $g_{NH}$ jako czerwone oraz należące do obrazu $g_{NL}$ jako niebieskie.\n",
        "Wyświetl obraz."
      ]
    },
    {
      "cell_type": "code",
      "execution_count": null,
      "metadata": {
        "id": "QhbypGOVhdMc"
      },
      "outputs": [],
      "source": [
        "def canny(image,Th,Tl):\n",
        "    image_blur=cv2.GaussianBlur(image,(3,3),0)\n",
        "    M1=np.array([[-1,0,1],[-2,0,2],[-1,0,1]])\n",
        "    M2=np.array([[-1,-2,-1],[0,0,0],[1,2,1]])\n",
        "    Gx=cv2.filter2D(image_blur, -1, M1)\n",
        "    Gy=cv2.filter2D(image_blur, -1, M2)\n",
        "    M=np.sqrt(pow(Gx,2)+pow(Gy,2))\n",
        "    alpha=np.arctan2(Gy,Gx)\n",
        "    alpha_degrees=(alpha*180)/np.pi\n",
        "    alpha_degrees[alpha_degrees < 0] =alpha_degrees[alpha_degrees < 0]+180\n",
        "    direction=np.zeros(image.shape)\n",
        "    d1=1\n",
        "    d2=2\n",
        "    d3=3\n",
        "    d4=4\n",
        "    for k in range(image.shape[0]):\n",
        "        for m in range(image.shape[1]):\n",
        "            #1\n",
        "            if (0<alpha_degrees[k,m]<22.5) or (157.5 <= alpha_degrees[k,m] <= 180):\n",
        "                direction[k,m]=d1\n",
        "            #2\n",
        "            elif 22.5<=alpha_degrees[k,m]<67.5:\n",
        "                direction[k,m]=d2\n",
        "            #3\n",
        "            elif 67.5<=alpha_degrees[k,m]<112.5:\n",
        "                direction[k,m]=d3\n",
        "            #4\n",
        "            elif 112.5<=alpha_degrees[k,m]<157.5:\n",
        "                direction[k,m]=d4\n",
        "    Gn=nonmax(direction,M)\n",
        "    Ghn=Gn>=Th\n",
        "    Gnl=np.where(np.logical_and(Th>Gn,Gn>=Tl),1,0)\n",
        "    return Ghn,Gnl"
      ]
    },
    {
      "cell_type": "code",
      "execution_count": null,
      "metadata": {
        "id": "E8FlhFvohdMe"
      },
      "outputs": [],
      "source": [
        "def nonmax(direction,M,d1=1,d2=2,d3=3,d4=4):\n",
        "    result=np.zeros(direction.shape)\n",
        "    for k in range(1,direction.shape[0]-1):\n",
        "        for m in range(1,direction.shape[1]-1):\n",
        "            if direction[k,m]==d1:\n",
        "                if M[k,m-1]>M[k,m] or M[k,m+1]>M[k,m]:\n",
        "                    result[k,m]=0\n",
        "                else:\n",
        "                    result[k,m]=M[k,m]\n",
        "            elif direction[k,m]==d2:\n",
        "                if M[k+1,m-1]>M[k,m] or M[k-1,m+1]>M[k,m]:\n",
        "                    result[k,m]=0\n",
        "                else:\n",
        "                    result[k,m]=M[k,m]            \n",
        "            elif direction[k,m]==d3:\n",
        "                if M[k+1,m]>M[k,m] or M[k-1,m]>M[k,m]:\n",
        "                    result[k,m]=0\n",
        "                else:\n",
        "                    result[k,m]=M[k,m]\n",
        "            elif direction[k,m]==d4:\n",
        "                if M[k-1,m-1]>M[k,m] or M[k+1,m+1]>M[k,m]:\n",
        "                    result[k,m]=0\n",
        "                else:\n",
        "                    result[k,m]=M[k,m]\n",
        "\n",
        "    return result\n",
        "    "
      ]
    },
    {
      "cell_type": "code",
      "execution_count": null,
      "metadata": {
        "id": "mjpB9qohhdMf"
      },
      "outputs": [],
      "source": [
        "dom=cv2.imread('dom.png',cv2.IMREAD_GRAYSCALE)\n",
        "result=canny(dom,12,6)\n",
        "x,y=result[1].shape\n",
        "result_image=np.zeros((x,y,3))\n",
        "for k in range(x):\n",
        "  for m in range(y):\n",
        "    if result[1][k,m]==1:\n",
        "      result_image[k,m]=[0,0,255]\n",
        "    if result[0][k,m]==1:\n",
        "      result_image[k,m]=[255,0,0]\n",
        "plt.imshow(result_image)\n",
        "plt.axis('off')\n",
        "plt.title('Gnh-czerwony,Gnl-niebieski')"
      ]
    },
    {
      "cell_type": "markdown",
      "metadata": {
        "collapsed": false,
        "pycharm": {
          "name": "#%% md\n"
        },
        "id": "8Khc-FkuhdMh"
      },
      "source": [
        "## Algorytm Canny'ego - OpenCV\n",
        "\n",
        "1. Wykonaj dektekcję krawędzi metodą Canny'ego wykorzystując funkcję `cv2.Canny`.\n",
        "    - Pierwszym argumentem funkcji jest obraz wejściowy.\n",
        "    - Drugim argumentem jest mniejszy próg.\n",
        "    - Trzecim argumentem jest większy próg.\n",
        "    - Czwarty argument to tablica, do której wpisany zostanie wynik.\n",
        "    Można zwrócić go przez wartość i podać wartość `None`.\n",
        "    - Piąty argument to rozmiar operatora Sobela (w naszym przypadku 3).\n",
        "    - Szósty argument to rodzaj używanej normy.\n",
        "    0 oznacza normę $L_1$, 1 oznacza normę $L_2$. Użyj $L_2$.\n",
        "2. Wynik wyświetl i porównaj z wykonaną częściową implementacją w poprzednim ćwiczeniu.\n",
        "Na czym polegają różnice?"
      ]
    },
    {
      "cell_type": "code",
      "execution_count": null,
      "metadata": {
        "pycharm": {
          "name": "#%% Zadanie 3 - Canny opencv\n"
        },
        "id": "phbfi8uxhdMi"
      },
      "outputs": [],
      "source": [
        "dom=cv2.imread('dom.png',cv2.IMREAD_GRAYSCALE)\n",
        "result=canny(dom,12,6)\n",
        "dom_canny=cv2.Canny(dom,6,12,None,3,1)\n",
        "fig,ax=plt.subplots(1,2,figsize=(10,10))\n",
        "ax[0].imshow(dom_canny,cmap='gray')\n",
        "ax[0].axis('off')\n",
        "ax[0].set_title('funkcja z biblioteki')\n",
        "ax[1].imshow((result[0]+result[1]),cmap='gray')\n",
        "ax[1].axis('off')\n",
        "ax[1].set_title('zaimplementowana funkcja')\n",
        "\n",
        "#zaimpelmentowan  funkcja canny poradziła sobie lepiej z tłem,ale ta z biblioteki zdecydowanie lepiej z obiektem "
      ]
    }
  ],
  "metadata": {
    "kernelspec": {
      "display_name": "Python 3.9.2 64-bit",
      "language": "python",
      "name": "python3"
    },
    "language_info": {
      "codemirror_mode": {
        "name": "ipython",
        "version": 3
      },
      "file_extension": ".py",
      "mimetype": "text/x-python",
      "name": "python",
      "nbconvert_exporter": "python",
      "pygments_lexer": "ipython3",
      "version": "3.9.2"
    },
    "vscode": {
      "interpreter": {
        "hash": "a47e1e2c49c050a34b8a1fd5e73ef0ffb5353ba12db54c1637a8441d5d8b2e0f"
      }
    },
    "colab": {
      "name": "09_Canny.ipynb",
      "provenance": []
    }
  },
  "nbformat": 4,
  "nbformat_minor": 0
}