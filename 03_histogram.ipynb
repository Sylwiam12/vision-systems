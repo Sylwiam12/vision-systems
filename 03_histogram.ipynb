{
  "cells": [
    {
      "cell_type": "markdown",
      "metadata": {
        "pycharm": {
          "name": "#%% md\n"
        },
        "id": "PBiPRf5izCM_"
      },
      "source": [
        "# Histogram obrazu. Wyrównywanie histogramu."
      ]
    },
    {
      "cell_type": "markdown",
      "source": [
        "## Cel ćwiczenia\n",
        "\n",
        "- Zapoznanie z pojęciem histogramu obrazu (w odcieniach szarości i kolorze).\n",
        "- Zapoznanie z metodami modyfikacji histogramu (rozciąganie, wyrównywanie, dopasowywanie)."
      ],
      "metadata": {
        "collapsed": false,
        "pycharm": {
          "name": "#%% md\n"
        },
        "id": "kJOk9tsBzCNC"
      }
    },
    {
      "cell_type": "markdown",
      "source": [
        "## Histogram\n",
        "\n",
        "- Histogramem obrazu nazywamy wykres słupkowy zdefiniowany następującymi zależnościami:<br>\n",
        "\\begin{equation}\n",
        "h(i) = \\sum_{x=0}^{N-1} \\sum_{y=0}^{M-1} p(i,(x,y))\n",
        "\\end{equation}<br>\n",
        "gdzie:<br>\n",
        "\\begin{equation}\n",
        "p(i) =  \\left\\{\n",
        "  \\begin{array}{l l}\n",
        "    1 & \\quad \\text{gdy} f(x,y) = i\\\\\n",
        "    0 & \\quad \\text{gdy} f(x,y) \\ne i\n",
        "  \\end{array} \\right.\n",
        "\\end{equation}\n",
        "\n",
        "- Inaczej mówiąc, histogram zawiera informacje na temat tego ile pikseli o danym poziomie jasności występuje na obrazie (w przypadku obrazu w odcieniach szarości). Określa się to także rozkładem empirycznym cechy.\n",
        "\n",
        "- Często wykorzystuje się tzw. znormalizowaną postać histogramu  – wszystkie wartości $h(i)$ są dzielone przez liczbę pikseli na obrazie.\n",
        "Otrzymana w ten sposób wielkość to gęstość prawdopodobieństwa wystąpienia na obrazie pikseli o odcieniu $i$.\n",
        "\n",
        "- Histogram można zdefiniować również dla obrazów kolorowych.\n",
        "Otrzymujemy wtedy 3 histogramy – po jednym dla danej składowej: R,G,B (lub HSV, YCbCr, itp.) lub histogram trójwymiarowy.\n",
        "\n",
        "- Histogram jest bardzo użyteczny w przetwarzaniu i analizie obrazów.\n",
        "Wykorzystywany jest przy binaryzacji (szerzej na jednym z kolejnych laboratoriów) oraz do oceny jakości (dynamiki, kontrastu) obrazu.\n",
        "W idealnym przypadku wszystkie poziomy jasności w obrazie powinny być wykorzystane (i to najlepiej w miarę jednolicie)  – obrazowo mówiąc histogram powinien rozciągać się od 0  – 255 (obraz w skali szarości).\n",
        "\n",
        "- W przypadku gdy  wykorzystujemy jedynie fragment dostępnego zakresu (wąski histogram)  lub histogram nie jest jednolity (występują dominujące grupy pikseli) obraz ma dość słaby kontrast.\n",
        "Cechę tę można poprawić stosując tzw. rozciąganie albo wyrównywanie histogramu (ang. *histogram equalization*).</div>"
      ],
      "metadata": {
        "collapsed": false,
        "pycharm": {
          "name": "#%% md\n"
        },
        "id": "cuzVqg8qzCNE"
      }
    },
    {
      "cell_type": "markdown",
      "source": [
        "## Histogram dla obrazów w odcieniach szarości\n",
        "\n",
        "1. Zaimportuj potrzebne biblioteki: *OpenCV*, *pyplot* z *matplotlib* i *numpy*.\n",
        "        import cv2\n",
        "        from matplotlib import pyplot as plt\n",
        "        import numpy as np\n",
        "2. Wczytaj obrazy *lenaX.bmp* w skali szarości. *X* jest numerem wczytywanego obrazu (1 - 4).\n",
        "        I = cv2.imread('lenaX.bmp', cv2.IMREAD_GRAYSCALE)\n",
        "3. Oblicz histogram wczytanego obrazu wykorzystując funkcję `cv2.calcHist`.\n",
        "    - Pierwszym argumentem jest obraz, dla którego obliczony zostanie histogram.\n",
        "    Należy go przekazać w nawiasie kwadratowym.\n",
        "    - Drugim argumentem jest numer kanału, dla którego ma zostać obliczony histogram.\n",
        "    Również powinien być przekazany w nawiasie kwadratowym.\n",
        "    - Trzeci argument oznacza maskę, czyli obszar, dla którego ma zostać wyznaczony histogram.\n",
        "    Aby obliczyć dla całego obrazu należy przekazać *None*.\n",
        "    - Czwartym argumentem jest rozmiar histogramu (liczba przedziałów).\n",
        "    Argument powinien być w nawiasie kwadratowym. Dla pełnej skali należy przekazać wartość *256*.\n",
        "    - Ostatnim argumentem jest zakres wartości. Dla obrazów typu *uint8* powinien on wynosić *[0, 256]*.\n",
        "    - Funkcja zwraca obliczony histogram.\n",
        "4. Wyświetl wczytane obrazy i ich histogramy w jednym oknie. Użyj `plt.subplot()` w celu stworzenia siatki wykresów.\n",
        "        figLena, axsLena = plt.subplots(2, 4)\n",
        "Rozmiar utworzonego okna można zmienić wykorzystując instrukcję (uwaga w calach -  1 cal to 2.54cm):\n",
        "        figLena.set_size_inches(20, 10)\n",
        "Przykładowe wyświetlenie obrazu:\n",
        "        axsLena[0, 0].imshow(I1, 'gray', vmin=0, vmax=256)\n",
        "        axsLena[0, 0].axis('off')\n",
        "Przykładowe wyświetlenie histogramu:\n",
        "        axsLena[1, 0].plot(H1)\n",
        "        axsLena[1, 0].grid()\n",
        "5. Przeanalizuj (dokładnie) związek histogramu z jasnością i ostrością obrazu (tu rozumianą jako subiektywne odczucie)."
      ],
      "metadata": {
        "collapsed": false,
        "pycharm": {
          "name": "#%% md\n"
        },
        "id": "_BPn6dCEzCNG"
      }
    },
    {
      "cell_type": "code",
      "execution_count": null,
      "metadata": {
        "pycharm": {
          "name": "#%% Zadanie 1 - wyświetlanie\n"
        },
        "id": "3dW8OKulzCNI"
      },
      "outputs": [],
      "source": [
        "import cv2\n",
        "import os\n",
        "from matplotlib import pyplot as plt\n",
        "import numpy as np\n",
        "\n",
        "if not os.path.exists(\"lena1.bmp\") :\n",
        "    !wget https://raw.githubusercontent.com/vision-agh/poc_sw/master/03_Histogram/lena1.bmp --no-check-certificate\n",
        "\n",
        "if not os.path.exists(\"lena2.bmp\") :\n",
        "    !wget https://raw.githubusercontent.com/vision-agh/poc_sw/master/03_Histogram/lena2.bmp --no-check-certificate\n",
        "\n",
        "if not os.path.exists(\"lena3.bmp\") :\n",
        "    !wget https://raw.githubusercontent.com/vision-agh/poc_sw/master/03_Histogram/lena3.bmp --no-check-certificate\n",
        "\n",
        "if not os.path.exists(\"lena4.bmp\") :\n",
        "    !wget https://raw.githubusercontent.com/vision-agh/poc_sw/master/03_Histogram/lena4.bmp --no-check-certificate\n",
        "\n",
        "lena1=cv2.imread('lena1.bmp',cv2.IMREAD_GRAYSCALE)\n",
        "lena2=cv2.imread('lena2.bmp',cv2.IMREAD_GRAYSCALE)\n",
        "lena3=cv2.imread('lena3.bmp',cv2.IMREAD_GRAYSCALE)\n",
        "lena4=cv2.imread('lena4.bmp',cv2.IMREAD_GRAYSCALE)\n",
        "lena1_his=cv2.calcHist([lena1],[0],None,[256],[0,256])\n",
        "lena2_his=cv2.calcHist([lena2],[0],None,[256],[0,256])\n",
        "lena3_his=cv2.calcHist([lena3],[0],None,[256],[0,256])\n",
        "lena4_his=cv2.calcHist([lena4],[0],None,[256],[0,256])\n",
        "\n",
        "figLena, axsLena = plt.subplots(2, 4)\n",
        "figLena.set_size_inches(20, 10)\n",
        "\n",
        "axsLena[0, 0].imshow(lena1, 'gray', vmin=0, vmax=256)\n",
        "axsLena[0, 0].axis('off')\n",
        "axsLena[0, 0].set_title('Lena1')\n",
        "axsLena[1, 0].plot(lena1_his)\n",
        "axsLena[1, 0].set_title(\"Lena1-histogram\")\n",
        "axsLena[1, 0].grid()\n",
        "\n",
        "axsLena[0, 1].imshow(lena2, 'gray', vmin=0, vmax=256)\n",
        "axsLena[0, 1].axis('off')\n",
        "axsLena[0, 1].set_title('Lena2')\n",
        "axsLena[1, 1].plot(lena2_his)\n",
        "axsLena[1, 1].set_title(\"Lena2-histogram\")\n",
        "axsLena[1, 1].grid()\n",
        "\n",
        "axsLena[0, 2].imshow(lena3, 'gray', vmin=0, vmax=256)\n",
        "axsLena[0, 2].axis('off')\n",
        "axsLena[0, 2].set_title('Lena3')\n",
        "axsLena[1, 2].plot(lena3_his)\n",
        "axsLena[1, 2].set_title(\"Lena3-histogram\")\n",
        "axsLena[1, 2].grid()\n",
        "\n",
        "axsLena[0, 3].imshow(lena3, 'gray', vmin=0, vmax=256)\n",
        "axsLena[0, 3].axis('off')\n",
        "axsLena[0, 3].set_title('Lena4')\n",
        "axsLena[1, 3].plot(lena4_his)\n",
        "axsLena[1, 3].set_title(\"Lena4-histogram\")\n",
        "axsLena[1, 3].grid()"
      ]
    },
    {
      "cell_type": "markdown",
      "source": [
        "## Rozciąganie histogramu\n",
        "\n",
        "Najprostszą metodą poprawienia jakości obrazu jest tzw. rozciągnięcie histogramu.\n",
        "Polega na przeskalowaniu wartości pikseli w obrazie tak, aby wykorzystać cały dostępny zakres [0-255] (oczywiście w przypadku obrazów w odcieniach szarości w reprezentacji 8-bitowej).\n",
        "\n",
        "1. Wczytaj obraz *hist1.bmp* w skali szarości.\n",
        "Oblicz i wyświetl histogram rozpatrywanego obrazu (na wspólnym rysunku z obrazem).\n",
        "Zwróć uwagę na ilość widocznych szczegółów.\n",
        "2. Rozciągnij histogram obrazu. W tym celu można wykorzystać funkcję `cv2.normalize`.\n",
        "    - Pierwszym argumentem funkcji jest obraz poddawany operacji.\n",
        "    - Drugim argumentem jest tablica do której zostanie wpisany wynik.\n",
        "    Należy ją najpierw zainicjalizować.\n",
        "    Najlepiej zrobić to funkcją `np.zeros`, której pierwszym argumentem jest rozmiar obrazu (`I.shape`), a drugim typ danych (`uint8`).\n",
        "    Można również przekazać `None`, a wynik przypisać do nowej zmiennej.\n",
        "    - Trzecim argumentem jest minimalna wartość po normalizacji.\n",
        "    - Czwartym argumentem jest wartość maksymalna po normalizacji.\n",
        "    - Ostatnim argumentem jest typ wykorzystanej normy (uogólnienie pojęcia długości wektora).\n",
        "    Należy wykorzystać normę `cv2.NORM_MINMAX`.\n",
        "3. Rezultat operacji wyświetl (obraz i jego histogram).\n",
        "4. Czy ilość \"widocznych\" szczegółów uległa zmianie?"
      ],
      "metadata": {
        "collapsed": false,
        "pycharm": {
          "name": "#%% md\n"
        },
        "id": "sbLAAAd4zCNL"
      }
    },
    {
      "cell_type": "code",
      "execution_count": null,
      "outputs": [],
      "source": [
        "if not os.path.exists(\"hist1.bmp\") :\n",
        "    !wget https://raw.githubusercontent.com/vision-agh/poc_sw/master/03_Histogram/hist1.bmp --no-check-certificate\n",
        "\n",
        "if not os.path.exists(\"hist2.bmp\") :\n",
        "    !wget https://raw.githubusercontent.com/vision-agh/poc_sw/master/03_Histogram/hist2.bmp --no-check-certificate\n",
        "\n",
        "if not os.path.exists(\"hist3.bmp\") :\n",
        "    !wget https://raw.githubusercontent.com/vision-agh/poc_sw/master/03_Histogram/hist3.bmp --no-check-certificate\n",
        "\n",
        "if not os.path.exists(\"hist4.bmp\") :\n",
        "    !wget https://raw.githubusercontent.com/vision-agh/poc_sw/master/03_Histogram/hist4.bmp --no-check-certificate\n",
        "\n",
        "hist1 = cv2.imread(\"hist1.bmp\", cv2.IMREAD_GRAYSCALE)\n",
        "hist2 = cv2.imread(\"hist2.bmp\", cv2.IMREAD_GRAYSCALE)\n",
        "hist3 = cv2.imread(\"hist3.bmp\", cv2.IMREAD_GRAYSCALE)\n",
        "hist4 = cv2.imread(\"hist4.bmp\", cv2.IMREAD_GRAYSCALE)\n",
        "\n",
        "H1=cv2.calcHist([hist1],[0],None,[256],[0,256])\n",
        "tab1=np.ones(H1.shape,'uint8')\n",
        "\n",
        "figure,ax=plt.subplots(1,2,figsize=(10,5))\n",
        "ax[0].imshow(hist1,'gray',vmin=0,vmax=256)\n",
        "ax[0].axis('off')\n",
        "ax[0].set_title('hist1')\n",
        "ax[1].plot(H1)\n",
        "ax[1].set_title('hist1-histogram')\n",
        "\n",
        "hist1_nor=cv2.normalize(hist1,tab1,0,255,cv2.NORM_MINMAX)\n",
        "hist1_nor_h=cv2.calcHist([hist1_nor],[0],None,[256],[0,256])\n",
        "\n",
        "figure2,ax2=plt.subplots(1,2,figsize=(10,5))\n",
        "ax2[0].imshow(hist1_nor,'gray',vmin=0,vmax=256)\n",
        "ax2[0].axis('off')\n",
        "ax2[1].plot(hist1_nor_h)\n",
        "ax2[1].set_title('hist1-histogram po rozciągnięciu')\n",
        "\n",
        "#Ilość widocznych szczegółów wzrosła"
      ],
      "metadata": {
        "pycharm": {
          "name": "#%% Zadanie 2 - rozciąganie\n"
        },
        "id": "4kTeQu6qzCNL"
      }
    },
    {
      "cell_type": "markdown",
      "source": [
        "## Wyrównywanie histogramu\n",
        "\n",
        "<div style=\"text-align: justify\">\n",
        "Bardziej zaawansowaną metodą jest tzw. wyrównywanie histogramu (ang. *histogram equalization – HE*).\n",
        "Idea jest następująca: z punktu widzenia lepszego wykorzystania dostępnych poziomów jasności pożądane jest rozciągnięcie \"szczytów\" histogramu, a~skompresowanie \"dolin\" tak, aby taka sama liczba pikseli reprezentowana była przez każdy z dostępnych poziomów jasności (a przynjamniej przybliżona).\n",
        "Warto zwrócić uwagę, że takie przekształcenie powoduje częściową utratę informacji o szczegółach w obszarach \"dolin\".\n",
        "Inaczej mówiąc, dążymy do sytuacji, aby histogram był względnie jednostajny.\n",
        "Operacją, która pozwala wykonać wyrównywanie histogramu, jest przekształcenie LUT z funkcją przejścia w postaci histogramu skumulowanego danego obrazu.</div><br>\n",
        "\n",
        "<div style=\"text-align: justify\">\n",
        "Histogram skumulowany to funkcja obliczona na podstawie histogramu.\n",
        "Jej pierwszy element to liczba pikseli o odcieniu $0$.\n",
        "Kolejne wartości to liczba pikseli o odcieniach od $0$ do $n$.</div>\n",
        "\n",
        "\\begin{equation}\n",
        "C(n) = \\sum_{i=0}^{n} h(i)\n",
        "\\end{equation}\n",
        "\n",
        "<div style=\"text-align: justify\">\n",
        "Jeżeli histogram jest w postaci znormalizowanej (gęstość rozkładu prawdopodobieństwa) to histogram skumulowany stanowi dystrybuantę rozkładu prawdopodobieństwa.</div><br>\n",
        "\n",
        "1. Wyznacz histogram skumulowany dla obrazu *hist1.bmp*.\n",
        "W tym celu wykorzystaj metodę `cumsum` dla histogramu wczytanego obrazu.\n",
        "Nie przyjmuje ona żadnych argumentów, a zwraca skumulowane wartości tablicy, dla której została użyta.\n",
        "Histogram należy wyliczyć dla **obrazka wejściowego**, a nie dla wyniku rozciągania.\n",
        "2. Histogram skumulowany wyświetl razem z histogramem zwykłym na jednym wykresie (nie obok siebie).\n",
        "Na potrzeby wyświetlenia przeskaluj histogram skumulowany tak, by miał taką samą wartość maksymalną jak zwykły histogram.\n",
        "W tym celu wykorzystaj metodę `max`.\n",
        "3. Wyświetlenie kilku linii na jednym wykresie może być zrealizowane w następujący sposób:\n",
        "        figHistCum, axsHistCum = plt.subplots()\n",
        "\n",
        "        axsHistCum.plot(HHist)\n",
        "        axsHistCum.plot(CHistNorm)\n",
        "        axsHistCum.grid()\n",
        "4. Teraz zaimplementuj klasyczny algorytm wyrównywania histogramu.\n",
        "Wykorzystać należy obliczony histogram skumulowany.\n",
        "Należy go przeskalować w taki sposób aby na jego podstawie zrealizować przekształcenie LUT, czyli do zakresu 0 - 255.\n",
        "\n",
        ">Uwaga. Opisany algorytm wyrównywania histogramu jest wersją uproszczoną.\n",
        ">W wersji pełnej należy podczas skalowania tablicy przekodowań LUT pominąć elementy równe *0*.\n",
        ">\n",
        ">W tym celu należy wykorzystać funkcje `np.ma.masked_equal` i `np.ma.filled`.\n",
        ">Pierwsza służy do ukrywania elementów tablicy, natomiast druga zamienia ukryte elementy na podaną wartość.\n",
        ">W tym przypadku elementem ukrywanym i wpisywaną wartością byłoby *0*.\n",
        "\n",
        "5. Na kolejnym rysunku wyświetl obrazek po przekształceniu, jego histogram oraz histogram skumulowany.\n",
        "Co szczególnego można powiedzieć o jego histogramie i histogramie skumulowanym?\n",
        "6. W bibliotece *OpenCV* dostępna jest funkcja wykonująca wyrównywanie histogramu `cv2.equalizeHist`.\n",
        "Jej argumentem jest obraz, którego histogram zostanie wyrównany. Zwraca natomiast obraz wynikowy.\n",
        "Na kolejnym rysunku wyświetl wynik funkcji, jego histogram oraz histogram skumulowany.\n",
        "7. W wykorzystywanej bibliotece zaimplementowana jest również metoda adaptacyjnego wyrównywania histogramu algorytmem CLAHE (ang. *Contrast Limited Adaptive Histogram Equalization*}.\n",
        "   Kilka słów wyjaśnienia.\n",
        "   Wadą poznanej metody HE jest jej \"globalność\" rozumiana jako nieuwzględnianie lokalnych właściwości obrazu.\n",
        "   Dlatego też powstała metoda adaptacyjnego wyrównywania histogramu (AHE).\n",
        "   Jest ona spotykana w dwóch wariantach:\n",
        "   - dla każdego piksela niezależnie, w pewnym jego otoczeniu, wyznaczany jest histogram i przeprowadzane wyrównywanie.\n",
        "     Jak nietrudno się domyślić rozwiązanie jest dość kosztowne obliczeniowo.\n",
        "   - obraz wejściowy dzielony jest na nienachodzące na siebie prostokątne okna.\n",
        "     W każdym z okien obliczany jest histogram i przeprowadzane jest wyrównywanie.\n",
        "     W celu eliminacji błędów na granicy okien, stosuje się interpolację.\n",
        "\n",
        "   Metoda AHE ma jednak tą wadę, że w obszarach jednorodnych wzmacnia szum.\n",
        "   Dlatego też zaproponowano rozwiązanie CLAHE, które zakłada ograniczenie kontrastu (CL).\n",
        "   W metodzie definiuje się maksymalną wartość danego przedziału histogramu (próg ograniczenia kontrastu).\n",
        "   Piksele, które przekraczają próg są następnie równomiernie rozdzielane pomiędzy poszczególne przedziały.\n",
        "   Bardziej szczegółowy opis obu metod dostępny jest na [Wikipedii](https://en.wikipedia.org/wiki/Adaptive_histogram_equalization).\n",
        "\n",
        "8.W celu użycia algorytmu należy wywołać funkcję `cv2.createCLAHE`.\n",
        "    - Pierwszym parametrem jest próg ograniczenia kontrastu.\n",
        "    - Drugi parametr definiuje na ile prostokątów zostanie podzielony obraz w rzęch i kolumnach.\n",
        "    - Zwracany jest zainicjalizowany *smart pointer* do klasy `cv::CLAHE`.\n",
        "9. Aby wykonać wyrównywanie należy użyć metody `apply`.\n",
        "Jej argumentem jest obraz wejściowy. Zwracany jest obraz o zmodyfikowanym histogramie.\n",
        "10. Przetestuj różne parametry algorytmu CLAHE.\n",
        "11. W kolejnym etapie należy przetestować operacje (rozciąganie, wyrównywanie (HE) i adaptacyjne wyrównywanie CLAHE)  na histogramie dla obrazów rzeczywistych. *hist2.bmp*, *hist3.bmp*, *hist4.jpg*.\n",
        "W jednym oknie wyświetl: obraz oryginalny, rozciąganie, wyrównywanie HE oraz wyrównywanie CLAHE."
      ],
      "metadata": {
        "collapsed": false,
        "pycharm": {
          "name": "#%% md\n"
        },
        "id": "Fp7pntaPzCNM"
      }
    },
    {
      "cell_type": "code",
      "execution_count": null,
      "outputs": [],
      "source": [
        "if not os.path.exists(\"hist1.bmp\") :\n",
        "    !wget https://raw.githubusercontent.com/vision-agh/poc_sw/master/03_Histogram/hist1.bmp --no-check-certificate\n",
        "\n",
        "hist1=cv2.imread('hist1.bmp',cv2.IMREAD_GRAYSCALE)\n",
        "H1=cv2.calcHist([hist1],[0],None,[256],[0,256])\n",
        "H1_cumsum=np.cumsum(H1)\n",
        "tab1=np.ones(H1_cumsum.shape,'uint8')\n",
        "H1_cumsum_n=cv2.normalize(H1_cumsum,tab1,0,H1.max(),cv2.NORM_MINMAX)\n",
        "\n",
        "figHistCum, axsHistCum = plt.subplots()\n",
        "axsHistCum.plot(H1)\n",
        "axsHistCum.plot(H1_cumsum_n)\n",
        "axsHistCum.grid()\n"
      ],
      "metadata": {
        "pycharm": {
          "name": "#%% Zadanie 3 - histogram skumulowany\n"
        },
        "id": "ztm8MYPyzCNO"
      }
    },
    {
      "cell_type": "code",
      "execution_count": null,
      "outputs": [],
      "source": [
        "histo1=cv2.normalize(H1_cumsum_n,None,0,255,cv2.NORM_MINMAX)\n",
        "histo1_lut=cv2.LUT(hist1,histo1)\n",
        "H1=cv2.calcHist([histo1_lut],[0],None,[256],[0,256])\n",
        "H1_cum=H1.cumsum()\n",
        "\n",
        "fig,ax=plt.subplots(1,3,figsize=(12,5))\n",
        "ax[0].imshow(histo1_lut.astype('uint8'),cmap='gray',vmin=0,vmax=256)\n",
        "ax[0].axis('off')\n",
        "ax[0].set_title('obraz')\n",
        "ax[1].plot(H1)\n",
        "ax[1].set_title('histogram')\n",
        "ax[1].grid()\n",
        "ax[2].plot(H1_cum,'m')\n",
        "ax[2].set_title('histogram skumulowany')\n",
        "ax[2].grid()\n"
      ],
      "metadata": {
        "pycharm": {
          "name": "#%% Zadanie 3 - wyrównywanie\n"
        },
        "id": "m7WOiRYCzCNP"
      }
    },
    {
      "cell_type": "code",
      "execution_count": null,
      "outputs": [],
      "source": [
        "hist1eq=cv2.equalizeHist(hist1)\n",
        "fig,ax=plt.subplots(1,3,figsize=(12,5))\n",
        "ax[0].imshow(hist1eq.astype('uint8'),cmap='gray',vmin=0,vmax=256)\n",
        "ax[0].axis('off')\n",
        "ax[0].set_title('obraz')\n",
        "ax[1].plot(H1)\n",
        "ax[1].set_title('histogram')\n",
        "ax[1].grid()\n",
        "ax[2].plot(H1_cum,'m')\n",
        "ax[2].set_title('histogram skumulowany')\n",
        "ax[2].grid()"
      ],
      "metadata": {
        "pycharm": {
          "name": "#%% Zadanie 3 - wyrównywanie OpenCV\n"
        },
        "id": "aQPNVP1DzCNP"
      }
    },
    {
      "cell_type": "code",
      "execution_count": null,
      "outputs": [],
      "source": [
        "hist1_c=cv2.createCLAHE(clipLimit=60, tileGridSize=(3,5))\n",
        "Hc=hist1_c.apply(hist1)\n",
        "HC=cv2.calcHist([Hc],[0],None,[256],[0,256])\n",
        "HC_cum=HC.cumsum()\n",
        "fig,ax=plt.subplots(1,3,figsize=(12,5))\n",
        "ax[0].imshow(Hc.astype('uint8'),cmap='gray',vmin=0,vmax=256)\n",
        "ax[0].axis('off')\n",
        "ax[0].set_title('obraz')\n",
        "ax[1].plot(HC)\n",
        "ax[1].set_title('histogram')\n",
        "ax[1].grid()\n",
        "ax[2].plot(HC_cum,'m')\n",
        "ax[2].set_title('histogram skumulowany')\n",
        "ax[2].grid()"
      ],
      "metadata": {
        "pycharm": {
          "name": "#%% Zadanie 3 - CLAHE\n"
        },
        "id": "h6qi0R_9zCNQ"
      }
    },
    {
      "cell_type": "code",
      "source": [
        "def func(image,CL,TG):\n",
        "  norm=cv2.normalize(image,None,0,255,cv2.NORM_MINMAX)\n",
        "  norm_his=cv2.calcHist([norm],[0],None,[256],[0,256])\n",
        "  his_cum=norm_his.cumsum()\n",
        "  fig,ax=plt.subplots(1,3,figsize=(12,5))\n",
        "  ax[0].imshow(norm.astype('uint8'),cmap='gray',vmin=0,vmax=256)\n",
        "  ax[0].axis('off')\n",
        "  ax[0].set_title('obraz')\n",
        "  ax[1].plot(norm_his)\n",
        "  ax[1].set_title('histogram')\n",
        "  ax[1].grid()\n",
        "  ax[2].plot(his_cum,'m')\n",
        "  ax[2].set_title('histogram skumulowany')\n",
        "  ax[2].grid()\n",
        "\n",
        "  i_eq=cv2.equalizeHist(image)\n",
        "  inorm_his=cv2.calcHist([norm],[0],None,[256],[0,256])\n",
        "  ihis_cum=inorm_his.cumsum()\n",
        "  fig2,ax2=plt.subplots(1,3,figsize=(12,5))\n",
        "  ax2[0].imshow(i_eq.astype('uint8'),cmap='gray',vmin=0,vmax=256)\n",
        "  ax2[0].axis('off')\n",
        "  ax2[0].set_title('obraz')\n",
        "  ax2[1].plot(inorm_his)\n",
        "  ax2[1].set_title('histogram')\n",
        "  ax2[1].grid()\n",
        "  ax2[2].plot(ihis_cum,'m')\n",
        "  ax2[2].set_title('histogram skumulowany')\n",
        "  ax2[2].grid()\n",
        "\n",
        "  i_c=cv2.createCLAHE(clipLimit=CL, tileGridSize=TG)\n",
        "  Ic=i_c.apply(hist1)\n",
        "  IC=cv2.calcHist([Hc],[0],None,[256],[0,256])\n",
        "  IC_cum=IC.cumsum()\n",
        "  fig3,ax3=plt.subplots(1,3,figsize=(12,5))\n",
        "  ax3[0].imshow(Ic.astype('uint8'),cmap='gray',vmin=0,vmax=256)\n",
        "  ax3[0].axis('off')\n",
        "  ax3[0].set_title('obraz')\n",
        "  ax3[1].plot(IC)\n",
        "  ax3[1].set_title('histogram')\n",
        "  ax3[1].grid()\n",
        "  ax3[2].plot(IC_cum,'m')\n",
        "  ax3[2].set_title('histogram skumulowany')\n",
        "  ax3[2].grid()"
      ],
      "metadata": {
        "id": "6HwMHhKt-gN7"
      },
      "execution_count": null,
      "outputs": []
    },
    {
      "cell_type": "code",
      "source": [
        "func(hist2,44,(5,5))\n",
        "func(hist3,17,(5,5))\n",
        "func(hist4,53,(5,5))"
      ],
      "metadata": {
        "id": "FvFrDMA6B_SV"
      },
      "execution_count": null,
      "outputs": []
    },
    {
      "cell_type": "markdown",
      "source": [
        "## Histogram dla obrazów kolorowych i jego wyrównywanie\n",
        "\n",
        "1. Wczytaj obraz *lenaRGB.bmp*.\n",
        "2. Wykonaj konwersję przestrzeni barw z BGR do RGB.\n",
        "3. Wyświetl wczytany obraz oraz histogram dla każdej składowej przestrzeni barw.\n",
        "W tym celu można użyć drugiego argumentu wykorzystywanej funkcji (numer kanału).\n",
        "4. Wykonaj wyrównywanie dla każdej składowej obrazu.\n",
        "Połącz otrzymane składowe w nowy obraz i wyświetl go.\n",
        "Jaka jest zasadnicza wada takiego podejścia?\n",
        "5. Przekształć obraz wejściowy do przestrzeni HSV (flaga `cv2.COLOR_BGR2HSV`).\n",
        "Wyświetl histogramy poszczególnych składowych.\n",
        "Manipulacji dokonujemy na składowej odpowiadającej za jasność, czyli V.\n",
        "Wykonaj wyrównywanie histogramu dla tej składowej.\n",
        "Dokonaj podmiany składowej V i wyświetl rezultat operacji.\n",
        "Uprzednio przeprowadź konwersję HSV->RGB (flaga `cv2.COLOR_HSV2RGB`).\n",
        "6. Wykonaj te same operacje dla obrazu *jezioro.jpg*."
      ],
      "metadata": {
        "collapsed": false,
        "pycharm": {
          "name": "#%% md\n"
        },
        "id": "4-eoPRaEzCNQ"
      }
    },
    {
      "cell_type": "code",
      "execution_count": null,
      "outputs": [],
      "source": [
        "if not os.path.exists(\"lenaRGB.bmp\") :\n",
        "    !wget https://raw.githubusercontent.com/vision-agh/poc_sw/master/03_Histogram/lenaRGB.bmp --no-check-certificate\n",
        "\n",
        "if not os.path.exists(\"jezioro.jpg\") :\n",
        "    !wget https://raw.githubusercontent.com/vision-agh/poc_sw/master/03_Histogram/jezioro.jpg --no-check-certificate\n",
        "\n",
        "#lena\n",
        "lena=cv2.imread(\"lenaRGB.bmp\")\n",
        "lena= cv2.cvtColor(lena, cv2.COLOR_BGR2RGB)\n",
        "lena1=cv2.calcHist([lena],[0],None,[256],[0,256])\n",
        "lena2=cv2.calcHist([lena],[1],None,[256],[0,256])\n",
        "lena3=cv2.calcHist([lena],[2],None,[256],[0,256])\n",
        "\n",
        "figure, axs = plt.subplots(2, 2)\n",
        "figure.set_size_inches(20, 10)\n",
        "\n",
        "axs[0, 0].imshow(lena, vmin=0, vmax=256)\n",
        "axs[0, 0].axis('off')\n",
        "axs[1, 0].plot(lena1)\n",
        "axs[1, 0].grid()\n",
        "axs[0, 1].plot(lena2)\n",
        "axs[0, 1].grid()\n",
        "axs[1, 1].plot(lena3)\n",
        "axs[1, 1].grid()"
      ],
      "metadata": {
        "pycharm": {
          "name": "#%% Zadanie 4 - histogram\n"
        },
        "id": "RYgXzKXDzCNR"
      }
    },
    {
      "cell_type": "code",
      "execution_count": null,
      "outputs": [],
      "source": [
        "lena1_r=cv2.equalizeHist(lena[:,:,0])\n",
        "lena2_r=cv2.equalizeHist(lena[:,:,1])\n",
        "lena3_r=cv2.equalizeHist(lena[:,:,2])\n",
        "\n",
        "reconstruction=np.zeros(lena.shape)\n",
        "reconstruction[:,:,0]=lena1_r\n",
        "reconstruction[:,:,1]=lena2_r\n",
        "reconstruction[:,:,2]=lena3_r\n",
        "new=cv2.normalize(reconstruction,None,0,255,cv2.NORM_MINMAX)\n",
        "\n",
        "plt.imshow(new.astype('uint8'))\n",
        "plt.xticks([]), plt.yticks([])\n",
        "plt.show()\n",
        "\n",
        "#zmienia się kolorystyka i intensywność barw"
      ],
      "metadata": {
        "pycharm": {
          "name": "#%% Zadanie 4 - wyrównanie\n"
        },
        "id": "9EOC3cvOzCNS"
      }
    },
    {
      "cell_type": "code",
      "execution_count": null,
      "outputs": [],
      "source": [
        "lenaHSV = cv2.cvtColor(lena, cv2.COLOR_BGR2HSV)\n",
        "\n",
        "lenaHSV_1=cv2.calcHist([lenaHSV],[0],None,[256],[0,256])\n",
        "lenaHSV_2=cv2.calcHist([lenaHSV],[1],None,[256],[0,256])\n",
        "lenaHSV_3=cv2.calcHist([lenaHSV],[2],None,[256],[0,256])\n",
        "\n",
        "fig,ax = plt.subplots(1,3,figsize=(15,5))\n",
        "ax[0].plot(lenaHSV_1)\n",
        "ax[0].grid()\n",
        "ax[1].plot(lenaHSV_2)\n",
        "ax[1].grid()\n",
        "ax[2].plot(lenaHSV_3)\n",
        "ax[2].grid()"
      ],
      "metadata": {
        "pycharm": {
          "name": "#%% Zadanie 4 - HSV histogram\n"
        },
        "id": "1r4PR5gZzCNS"
      }
    },
    {
      "cell_type": "code",
      "execution_count": null,
      "outputs": [],
      "source": [
        "lena1=cv2.imread(\"lenaRGB.bmp\")\n",
        "lenaHSV = cv2.cvtColor(lena1, cv2.COLOR_BGR2HSV)\n",
        "lenaHSV_n=cv2.equalizeHist(lenaHSV[:,:,2])\n",
        "lenaHSV[:,:,2]=lenaHSV_n\n",
        "lenaHSV_nor= cv2.cvtColor(lenaHSV, cv2.COLOR_HSV2RGB)\n",
        "lenaHSV_nr=cv2.normalize(lenaHSV_nor,None,0,255,cv2.NORM_MINMAX)\n",
        "plt.imshow(lenaHSV_nr)\n",
        "plt.xticks([]), plt.yticks([])\n",
        "plt.show()"
      ],
      "metadata": {
        "pycharm": {
          "name": "#%% Zadanie 4 - HSV wyrównanie\n"
        },
        "id": "83a4dfaDzCNT"
      }
    },
    {
      "cell_type": "code",
      "source": [
        "#jezioro\n",
        "jeziorko=cv2.imread(\"jezioro.jpg\")\n",
        "jezioro= cv2.cvtColor(jeziorko, cv2.COLOR_BGR2RGB)\n",
        "jezioro1=cv2.calcHist([jeziorko],[0],None,[256],[0,256])\n",
        "jezioro2=cv2.calcHist([jeziorko],[1],None,[256],[0,256])\n",
        "jezioro3=cv2.calcHist([jeziorko],[2],None,[256],[0,256])\n",
        "\n",
        "figure, axs = plt.subplots(2, 2)\n",
        "figure.set_size_inches(20, 10)\n",
        "\n",
        "axs[0, 0].imshow(jezioro, vmin=0, vmax=256)\n",
        "axs[0, 0].axis('off')\n",
        "axs[1, 0].plot(jezioro1)\n",
        "axs[1, 0].grid()\n",
        "axs[0, 1].plot(jezioro2)\n",
        "axs[0, 1].grid()\n",
        "axs[1, 1].plot(jezioro3)\n",
        "axs[1, 1].grid()\n",
        "\n",
        "\n"
      ],
      "metadata": {
        "id": "BO5jKQtWqOwV"
      },
      "execution_count": null,
      "outputs": []
    },
    {
      "cell_type": "code",
      "source": [
        "jezioro1_r=cv2.equalizeHist(jezioro[:,:,0])\n",
        "jezioro2_r=cv2.equalizeHist(jezioro[:,:,1])\n",
        "jezioro3_r=cv2.equalizeHist(jezioro[:,:,2])\n",
        "\n",
        "reconstruction=np.zeros(jezioro.shape)\n",
        "reconstruction[:,:,0]=jezioro1_r\n",
        "reconstruction[:,:,1]=jezioro2_r\n",
        "reconstruction[:,:,2]=jezioro3_r\n",
        "new=cv2.normalize(reconstruction,None,0,255,cv2.NORM_MINMAX)\n",
        "\n",
        "\n",
        "plt.imshow(new.astype('uint8'))\n",
        "plt.xticks([]), plt.yticks([])\n",
        "plt.show()\n"
      ],
      "metadata": {
        "id": "LWeaAwSurA8G"
      },
      "execution_count": null,
      "outputs": []
    },
    {
      "cell_type": "code",
      "source": [
        "jezioroHSV = cv2.cvtColor(jezioro, cv2.COLOR_BGR2HSV)\n",
        "jezioroHSV_1=cv2.calcHist([jezioroHSV],[0],None,[256],[0,256])\n",
        "jezioroHSV_2=cv2.calcHist([jezioroHSV],[1],None,[256],[0,256])\n",
        "jezioroHSV_3=cv2.calcHist([jezioroHSV],[2],None,[256],[0,256])\n",
        "\n",
        "fig,ax = plt.subplots(1,3,figsize=(15,5))\n",
        "ax[0].plot(jezioroHSV_1)\n",
        "ax[0].grid()\n",
        "ax[1].plot(jezioroHSV_2)\n",
        "ax[1].grid()\n",
        "ax[2].plot(jezioroHSV_3)\n",
        "ax[2].grid()\n"
      ],
      "metadata": {
        "id": "oK_zx7yprF8U"
      },
      "execution_count": null,
      "outputs": []
    },
    {
      "cell_type": "code",
      "source": [
        "jezioroHSV_n=cv2.equalizeHist(jezioroHSV[:,:,2])\n",
        "jezioroHSV[:,:,2]=jezioroHSV_n\n",
        "jezioroHSV_n= cv2.cvtColor(jezioroHSV, cv2.COLOR_HSV2RGB)\n",
        "jezioroHSV_nr=cv2.normalize(jezioroHSV_n,None,0,255,cv2.NORM_MINMAX)\n",
        "plt.imshow(jezioroHSV_nr.astype('uint'))\n",
        "plt.xticks([]), plt.yticks([])\n",
        "plt.show()"
      ],
      "metadata": {
        "id": "sZvKha3PrPLo"
      },
      "execution_count": null,
      "outputs": []
    }
  ],
  "metadata": {
    "kernelspec": {
      "display_name": "Python 3",
      "language": "python",
      "name": "python3"
    },
    "language_info": {
      "codemirror_mode": {
        "name": "ipython",
        "version": 3
      },
      "file_extension": ".py",
      "mimetype": "text/x-python",
      "name": "python",
      "nbconvert_exporter": "python",
      "pygments_lexer": "ipython3",
      "version": "3.8.3"
    },
    "colab": {
      "name": "03_histogram.ipynb",
      "provenance": [],
      "collapsed_sections": []
    }
  },
  "nbformat": 4,
  "nbformat_minor": 0
}