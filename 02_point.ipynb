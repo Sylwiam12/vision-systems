{
  "cells": [
    {
      "cell_type": "markdown",
      "metadata": {
        "id": "VJNsOvqixVU5"
      },
      "source": [
        "# Przekształcenia punktowe"
      ]
    },
    {
      "cell_type": "markdown",
      "metadata": {
        "id": "VW299FiRxVVE"
      },
      "source": [
        "W trakcie niniejszego ćwiczenia zapoznamy się z podstawowymi operacjami punktowymi (bezkontekstowymi) przeprowadzanymi na obrazach cyfrowych:\n",
        "- typu LUT (operacja jednoargumentowa),\n",
        "- arytmetycznymi (operacje dwuargumentowe): dodawanie, odejmowanie, mnożenie, dzielenie,\n",
        "- logicznymi (operacje jedno i dwuargumentowe): AND, OR, XOR, NOT."
      ]
    },
    {
      "cell_type": "markdown",
      "metadata": {
        "id": "dZepGub0xVVG"
      },
      "source": [
        "Na początku zaimportuj potrzebne biblioteki."
      ]
    },
    {
      "cell_type": "code",
      "execution_count": null,
      "metadata": {
        "id": "3D7H0BfJxVVI"
      },
      "outputs": [],
      "source": [
        "import cv2\n",
        "import numpy as np\n",
        "import matplotlib.pyplot as plt\n",
        "import os"
      ]
    },
    {
      "cell_type": "markdown",
      "metadata": {
        "id": "5rG0ms_2xVVL"
      },
      "source": [
        "## Operacja LUT\n",
        "\n",
        "**Operacja LUT** polega na przekształcaniu wartości poszczególnych pikseli obrazu przy użyciu z góry przygotowanych tabel przekodowań (tabel korekcji).\n",
        "\n",
        "W przetwarzaniu obrazów najczęściej wykorzystuje się następujące funkcje:\n",
        "- typu kwadratowa, pierwiastek kwadratowy\n",
        "- typu logarytm, odwrócony logarytm\n",
        "- typu wykładnicza,\n",
        "- inne (np. piłokształtna)."
      ]
    },
    {
      "cell_type": "markdown",
      "metadata": {
        "id": "YAARpBoRxVVN"
      },
      "source": [
        "W tym zadaniu zostały dla Państwa przygotowane tablice przekodowania.\n",
        "Proszę pobrać je z githuba `https://raw.githubusercontent.com/vision-agh/poc_sw/master/02_Point/lut.py` (można użyć znanego polecenia !wget), a następnie zaimportować je poleceniem `import lut`.\n",
        "Od tego momentu można się do nich odwoływać w następujący sposób: `lut.log` itd."
      ]
    },
    {
      "cell_type": "code",
      "execution_count": null,
      "metadata": {
        "id": "4EyblBkExVVO"
      },
      "outputs": [],
      "source": [
        "if not os.path.exists(\"lut.py\"):\n",
        "  !wget https://raw.githubusercontent.com/vision-agh/poc_sw/master/02_Point/lut.py"
      ]
    },
    {
      "cell_type": "markdown",
      "metadata": {
        "id": "9ZZk3xZ4xVVS"
      },
      "source": [
        "Wyświetl przykładowe przekodowanie wykorzystując funkcję `plt.plot(lut.kwadratowa)`."
      ]
    },
    {
      "cell_type": "code",
      "execution_count": null,
      "metadata": {
        "id": "Kdzy1ZGUxVVU"
      },
      "outputs": [],
      "source": [
        "import lut\n",
        "plt.plot(lut.kwadratowa,'m')"
      ]
    },
    {
      "cell_type": "markdown",
      "metadata": {
        "id": "vvKXtt2BxVVV"
      },
      "source": [
        "Wybierz jeden z obrazów: _lena.bmp_ lub _jet.bmp_ (w razie potrzeby pobierz go z githuba):\n",
        "- https://raw.githubusercontent.com/vision-agh/poc_sw/master/02_Point/lena.bmp\n",
        "- https://raw.githubusercontent.com/vision-agh/poc_sw/master/02_Point/jet.bmp\n",
        "\n",
        "Wczytaj go i wyświetl."
      ]
    },
    {
      "cell_type": "code",
      "execution_count": null,
      "metadata": {
        "id": "8neqf1MaxVVX"
      },
      "outputs": [],
      "source": [
        "if not os.path.exists(\"lena.bmp\"):\n",
        "  !wget https://raw.githubusercontent.com/vision-agh/poc_sw/master/02_Point/lena.bmp\n",
        "lena=cv2.imread(\"lena.bmp\")\n",
        "lena= cv2.cvtColor(lena,cv2.COLOR_BGR2RGB)\n",
        "plt.imshow(lena)\n",
        "plt.xticks([]), plt.yticks([])\n",
        "plt.show()"
      ]
    },
    {
      "cell_type": "markdown",
      "metadata": {
        "id": "2QZiB5K1xVVY"
      },
      "source": [
        "Na wybranym obrazie wykonaj operację LUT.\n",
        "Służy do tego funkcja `cv2.LUT` przyjmująca dwa argumenty: obraz oraz tablicę przekodowania.\n",
        "Wybierz dowolną z zaimportowanych tablic i wyświetl wynikowy obraz."
      ]
    },
    {
      "cell_type": "code",
      "execution_count": null,
      "metadata": {
        "id": "6iXYUjTpxVVZ"
      },
      "outputs": [],
      "source": [
        "lut_image=cv2.LUT(lena,lut.pierwiastkowa)\n",
        "plt.imshow(lut_image)\n",
        "plt.xticks([]), plt.yticks([])\n",
        "plt.show()"
      ]
    },
    {
      "cell_type": "markdown",
      "metadata": {
        "id": "25XzJXUvxVVZ"
      },
      "source": [
        "Aby lepiej zobaczyć w jaki sposób działają różne przekodowania LUT, skonstruujemy funkcję, która jako argumenty pobierać będzie obrazek oryginalny oraz tablicę przekodowania, a następnie na wspólnym rysunku będzie wyświetlać: funkcję, obraz wejściowy oraz wynik przekodowania.\n",
        "\n",
        "Przypomnienie składni tworzenia funkcji w pythonie:\n",
        "```{python}\n",
        "  def nazwa_funkcji(para, metry):\n",
        "  \t# cialo funkcji\n",
        "```"
      ]
    },
    {
      "cell_type": "markdown",
      "metadata": {
        "id": "7-JhYA8_xVVa"
      },
      "source": [
        "  - Stwórz nową funkcję i nazwij ją LUT.\n",
        "  - Funkcja powinna przyjmować dwa parametry: obraz oraz tablicę przekodowania.\n",
        "  - W ciele funkcji wykonaj przekodowanie LUT, podobnie jak wcześniej w przykładzie.\n",
        "  - Funkcja powinna wyświetlić wykres składający się z 3 umieszczonych obok siebie pól: wykres przekodowania, obraz oryginalny oraz obraz przekształcony.\n",
        "    Każdy z wykresów powinien być podpisany.\n",
        "    _(W razie problemów można przypomnieć sobie te zagadnienia z laboratorium wprowadzającego)_\n",
        "  - Jeśli wykres przekodowania jest zbyt rozciągnięty, można go wyrównać, np. `ax2.set_aspect('equal')`."
      ]
    },
    {
      "cell_type": "code",
      "execution_count": null,
      "metadata": {
        "id": "cHMvpKEOxVVb"
      },
      "outputs": [],
      "source": [
        "def LUT(obraz,tablica_przekodowania):\n",
        "  lut_image=cv2.LUT(obraz,tablica_przekodowania)\n",
        "  fig,ax=plt.subplots(1,3,figsize=(10,10))\n",
        "  ax[0].plot(tablica_przekodowania,'m')\n",
        "  ax[1].imshow(obraz)\n",
        "  ax[2].imshow(lut_image)\n",
        "  ax[0].set_title(\"Wykres przekodowania\")\n",
        "  ax[1].set_title(\"Obraz oryginalny\")\n",
        "  ax[2].set_title(\"Obraz przekształcony\")\n",
        "  ax[0].set_aspect('equal')\n",
        "  ax[1].set_xticks([])\n",
        "  ax[1].set_yticks([])\n",
        "  ax[2].set_xticks([])\n",
        "  ax[2].set_yticks([])\n",
        "  plt.show()"
      ]
    },
    {
      "cell_type": "markdown",
      "metadata": {
        "id": "h9PMUeiqxVVc"
      },
      "source": [
        "Wywołaj przygotowaną funkcję dla każdego z przekształceń.\n",
        "W wyniku powinno powstać 7 wykresów."
      ]
    },
    {
      "cell_type": "code",
      "execution_count": null,
      "metadata": {
        "id": "s5Y0khkqxVVd"
      },
      "outputs": [],
      "source": [
        "przeksztalcenia=[lut.log,lut.pila,lut.odwlog,lut.wykladnicza,lut.kwadratowa,lut.odwrotna,lut.pierwiastkowa]\n",
        "for element in przeksztalcenia:\n",
        "  LUT(lena,element)"
      ]
    },
    {
      "cell_type": "markdown",
      "metadata": {
        "id": "8UhzTxpQxVVd"
      },
      "source": [
        "## Operacja arytmetyczne\n",
        "\n",
        "### Dodawanie\n",
        "\n",
        "Wczytaj dwa obrazy _lena.bmp_ i _jet.bmp_ i wyświetl je."
      ]
    },
    {
      "cell_type": "code",
      "execution_count": null,
      "metadata": {
        "id": "gaKkB7FkxVVe"
      },
      "outputs": [],
      "source": [
        "if not os.path.exists(\"lena.bmp\"):\n",
        "  !wget https://raw.githubusercontent.com/vision-agh/poc_sw/master/02_Point/lena.bmp\n",
        "if not os.path.exists(\"jet.bmp\"):\n",
        "  !wget https://raw.githubusercontent.com/vision-agh/poc_sw/master/02_Point/jet.bmp\n",
        "lena=cv2.imread(\"lena.bmp\")\n",
        "jet=cv2.imread(\"jet.bmp\")\n",
        "tab=[lena,jet]\n",
        "for k in tab:\n",
        "  plt.imshow(k)\n",
        "  plt.xticks([]), plt.yticks([])\n",
        "  plt.show()"
      ]
    },
    {
      "cell_type": "markdown",
      "metadata": {
        "id": "pd4w_N1kxVVe"
      },
      "source": [
        "Dodaj obrazy _lena_ i _jet_, wykorzystaj funkcję `cv2.add`.\n",
        "Uzyskany wynik wyświetl."
      ]
    },
    {
      "cell_type": "code",
      "execution_count": null,
      "metadata": {
        "id": "5huWLFH8xVVf"
      },
      "outputs": [],
      "source": [
        "add_images=cv2.add(lena,jet)\n",
        "plt.imshow(add_images)\n",
        "plt.xticks([]), plt.yticks([])\n",
        "plt.show()"
      ]
    },
    {
      "cell_type": "markdown",
      "metadata": {
        "id": "enr0YXpFxVVf"
      },
      "source": [
        "Czy wynik sumowania jest satysfakcjonujący?\n",
        "Co może niekorzystnie wpływać na rezultat operacji?\n",
        "Spróbuj wykonać dodawanie ponownie wykorzystując typ uint16 (`jet.astype('uint16')`).\n",
        "Wynikowy obraz należy przeskalować do zakresu 0-255, zamienić na typ uint8 i wyświetlić. _\n",
        "Uwaga: operacja ta jest użyteczna w przypadku, gdy dane do wyświetlenia wykraczają poza zakres 0-255, w przeciwnym przypadku jej wykorzystanie może zniekształcić wyniki._"
      ]
    },
    {
      "cell_type": "code",
      "execution_count": null,
      "metadata": {
        "id": "W_MdGcfpxVVg"
      },
      "outputs": [],
      "source": [
        "add_16=cv2.add(lena.astype('uint16'),jet.astype('uint16'))\n",
        "result=cv2.normalize(add_16, add_16, 0, 255, cv2.NORM_MINMAX)\n",
        "result_image=result.astype('uint8')\n",
        "plt.imshow(result_image)\n",
        "plt.xticks([]), plt.yticks([])\n",
        "plt.show()"
      ]
    },
    {
      "cell_type": "markdown",
      "metadata": {
        "id": "eu6ilu68xVVg"
      },
      "source": [
        "### Kombinacja liniowa\n",
        "\n",
        "Do wykonywania operacji kombinacji liniowej służy funkcja `cv2.addWeighted`.\n",
        "Zapoznaj się z dokumentacją tej funkcji i przetestuj kilka kombinacji liniowych obrazów _lena_ i _jet_.\n",
        "Wyświetl wynik dowolnej z nich."
      ]
    },
    {
      "cell_type": "code",
      "execution_count": null,
      "metadata": {
        "id": "a8HU2VJuxVVh"
      },
      "outputs": [],
      "source": [
        "result=cv2.addWeighted(lena,0.5,jet,0.5,0.4)\n",
        "result2=cv2.addWeighted(lena, 1, jet, 1, 0.0)\n",
        "result3=cv2.addWeighted(lena,0.9,jet,0.7,0)\n",
        "plt.imshow(result3)\n",
        "plt.xticks([]), plt.yticks([])\n",
        "plt.show()"
      ]
    },
    {
      "cell_type": "markdown",
      "metadata": {
        "id": "IaOvwNodxVVh"
      },
      "source": [
        "### Odejmowanie\n",
        "\n",
        "Wykorzystując funkcję `cv2.subtract` odejmij obrazy _lena_ i _jet_."
      ]
    },
    {
      "cell_type": "code",
      "execution_count": null,
      "metadata": {
        "id": "C3_q1bRUxVVi"
      },
      "outputs": [],
      "source": [
        "difference=cv2.subtract(lena,jet)\n",
        "plt.imshow(difference)\n",
        "plt.xticks([]), plt.yticks([])\n",
        "plt.show()"
      ]
    },
    {
      "cell_type": "markdown",
      "metadata": {
        "id": "Th8OHdd6xVVi"
      },
      "source": [
        "Czy wynik odejmowania jest satysfakcjonujący?\n",
        "Co może niekorzystnie wpływać na rezultat operacji?\n",
        "Często zamiast zwykłego odejmowania wykorzystuje się operację wartość bezwzględna z różnicy (pozwala to między innymi uniknąć pokazanych powyżej problemów).\n",
        "Zamień typ obrazów _lena_ i _jet_ z uint8 na **int16**, odejmij je od siebie, a następnie wykorzystując funkcję `np.abs` wykonaj operację wartość bezwzględna z różnicy.\n",
        "Wyświetl ten obraz.\n",
        "Zastanów się, dlaczego ta zmiana poprawia wynik odejmowania?"
      ]
    },
    {
      "cell_type": "code",
      "execution_count": null,
      "metadata": {
        "id": "hFsOen4IxVVj"
      },
      "outputs": [],
      "source": [
        "difference_16=cv2.subtract(lena.astype('int16'),jet.astype('int16'))\n",
        "result=cv2.normalize(difference_16, difference_16, 0, 255, cv2.NORM_MINMAX)\n",
        "final_result=np.abs(result)\n",
        "plt.imshow(final_result)\n",
        "plt.xticks([]), plt.yticks([])\n",
        "plt.show()"
      ]
    },
    {
      "cell_type": "markdown",
      "metadata": {
        "id": "gO8ddTgSxVVj"
      },
      "source": [
        "### Mnożenie\n",
        "\n",
        "Mnożenie dwóch obrazów pozwala wykonać funkcja `cv2.multiply`.\n",
        "Wykonaj mnożenie obrazów _lena_ i _jet_.\n",
        "Czy wynik takiej operacji zawiera jakąś istotną informację?\n",
        "Dlaczego?"
      ]
    },
    {
      "cell_type": "code",
      "execution_count": null,
      "metadata": {
        "id": "pyWXzQUqxVVk"
      },
      "outputs": [],
      "source": [
        "mul_img=cv2.multiply(lena,jet)\n",
        "plt.imshow(mul_img)\n",
        "plt.xticks([]), plt.yticks([])\n",
        "plt.show()"
      ]
    },
    {
      "cell_type": "markdown",
      "metadata": {
        "id": "EbRpcJMQxVVk"
      },
      "source": [
        "Mnożenie częściej wykorzystuje się jako:\n",
        "  + mnożenie przez stałą $-$ co powoduje ogólne rozjaśnienie albo ściemnienie obrazu,\n",
        "  + mnożenie przez maskę $-$ czyli obraz binarny."
      ]
    },
    {
      "cell_type": "markdown",
      "metadata": {
        "id": "Lo9kSrO2xVVk"
      },
      "source": [
        "Wczytaj maskę _kolo.bmp_ (https://raw.githubusercontent.com/vision-agh/poc_sw/master/02_Point/kolo.bmp).\n",
        "Przemnóż wybrany obraz przez maskę i wyświetl wynik.\n",
        "Mnożenie przez maskę można zrealizować za pomocą funkcji `cv2.multiply`, ale maskę należy należy najpierw przekształcić z zakresu 0-255 do 0-1, na przykład `(maska).astype('bool').astype('uint8')`."
      ]
    },
    {
      "cell_type": "code",
      "execution_count": null,
      "metadata": {
        "id": "eezUClJUxVVl"
      },
      "outputs": [],
      "source": [
        "if not os.path.exists(\"kolo.bmp\") :\n",
        "    !wget https://raw.githubusercontent.com/vision-agh/poc_sw/master/02_Point/kolo.bmp\n",
        "kolo=cv2.imread(\"kolo.bmp\")\n",
        "kolo_m=kolo.astype('bool').astype('uint8')\n",
        "jet_m=cv2.multiply(lena,kolo_m)\n",
        "plt.imshow(jet_m)\n",
        "plt.xticks([]), plt.yticks([])\n",
        "plt.show()"
      ]
    },
    {
      "cell_type": "markdown",
      "metadata": {
        "id": "W9Dh-LxQxVVl"
      },
      "source": [
        "### Negatyw\n",
        "\n",
        "Negatyw obrazu uzyskuje się za pomocą funkcji `cv2.bitwise_not(img)`\n",
        "Negatyw obrazu można również uzyskać wykorzystując przekodowanie LUT.\n",
        "Można w tym celu posłużyć się przygotowaną wcześniej tablicą `lut.odwrotna`.\n",
        "Przetestuj działanie tych funkcji i wykonaj negatyw obrazu _lena_ dowolnym sposobem."
      ]
    },
    {
      "cell_type": "code",
      "execution_count": null,
      "metadata": {
        "id": "BzXXbHZNxVVm"
      },
      "outputs": [],
      "source": [
        "lena_n=cv2.bitwise_not(lena)\n",
        "lena_nlut=cv2.LUT(lena,lut.odwrotna)\n",
        "plt.imshow(lena_nlut)\n",
        "plt.xticks([]), plt.yticks([])\n",
        "plt.show()"
      ]
    },
    {
      "cell_type": "markdown",
      "metadata": {
        "id": "lsM1gt5KxVVm"
      },
      "source": [
        "## Operacje logiczne\n",
        "\n",
        "Na poszczególnych punktach obrazu (najczęściej binarnego $-$ czyli składającego się z dwóch kolorów: czarnego i białego) można wykonywać operacje logiczne: NOT, AND, OR, XOR itp.\n",
        "Wczytaj dwa obrazy: _kolo.bmp_ i _kwadrat.bmp_ (https://raw.githubusercontent.com/vision-agh/poc_sw/master/02_Point/kwadrat.bmp), następnie wyświetl je."
      ]
    },
    {
      "cell_type": "code",
      "execution_count": null,
      "metadata": {
        "id": "2wWzGTbtxVVn"
      },
      "outputs": [],
      "source": [
        "if not os.path.exists(\"kolo.bmp\"):\n",
        "  !wget https://raw.githubusercontent.com/vision-agh/poc_sw/master/02_Point/kolo.bmp\n",
        "if not os.path.exists(\"kwadrat.bmp\"):\n",
        "  !wget https://raw.githubusercontent.com/vision-agh/poc_sw/master/02_Point/kwadrat.bmp\n",
        "kolo=cv2.imread(\"kolo.bmp\")\n",
        "kwadrat=cv2.imread(\"kwadrat.bmp\")\n",
        "tab=[kolo,kwadrat]\n",
        "for k in tab:\n",
        "  plt.imshow(k)\n",
        "  plt.xticks([]), plt.yticks([])\n",
        "  plt.show()"
      ]
    },
    {
      "cell_type": "markdown",
      "metadata": {
        "id": "IhyVAjxnxVVn"
      },
      "source": [
        "Na wczytanych obrazach wykonaj wybrane operacje logiczne: NOT (operator `~`), AND (`&`), OR (`|`), XOR (`^`).\n",
        "Operator `~` jest jednoargumentowy, wszystkie pozostałe są dwuargumentowe.\n",
        "Alternatywnym sposobem jest wykorzystanie funkcji z biblioteki opencv: `cv2.bitwise_not`, `cv2.bitwise_and`, `cv2.bitwise_or`, `cv2.bitwise_xor`.\n",
        "Wyświetl rezultaty."
      ]
    },
    {
      "cell_type": "code",
      "execution_count": null,
      "metadata": {
        "id": "8u2EjrnPxVVo"
      },
      "outputs": [],
      "source": [
        "kolo_NOT=cv2.bitwise_not(kolo)\n",
        "kwadrat_NOT=cv2.bitwise_not(kwadrat)\n",
        "AND=cv2.bitwise_and(kolo,kwadrat)\n",
        "OR=cv2.bitwise_or(kolo,kwadrat)\n",
        "XOR=cv2.bitwise_xor(kolo,kwadrat)\n",
        "fig,ax=plt.subplots(1,5,figsize=(14,14))\n",
        "ax[0].imshow(kolo_NOT)\n",
        "ax[1].imshow(kwadrat_NOT)\n",
        "ax[2].imshow(AND)\n",
        "ax[3].imshow(OR)\n",
        "ax[4].imshow(XOR)\n",
        "for k in range(5):\n",
        "  ax[k].set_xticks([])\n",
        "  ax[k].set_yticks([])\n",
        "ax[0].set_title(\"operacja NOT(koło)\")\n",
        "ax[1].set_title(\"operacja NOT(kwadrat)\")\n",
        "ax[2].set_title(\"operacja AND\")\n",
        "ax[3].set_title(\"operacja OR\")\n",
        "ax[4].set_title(\"operacja XOR\")"
      ]
    }
  ],
  "metadata": {
    "colab": {
      "collapsed_sections": [],
      "name": "02_point.ipynb",
      "provenance": []
    },
    "kernelspec": {
      "display_name": "Python 3 (ipykernel)",
      "language": "python",
      "name": "python3"
    },
    "language_info": {
      "codemirror_mode": {
        "name": "ipython",
        "version": 3
      },
      "file_extension": ".py",
      "mimetype": "text/x-python",
      "name": "python",
      "nbconvert_exporter": "python",
      "pygments_lexer": "ipython3",
      "version": "3.9.7"
    }
  },
  "nbformat": 4,
  "nbformat_minor": 0
}