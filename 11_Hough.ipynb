{
  "cells": [
    {
      "cell_type": "markdown",
      "metadata": {
        "id": "46KrQ2WhEG-T"
      },
      "source": [
        "# Instrukcja - Transformacja Hougha\n",
        "\n",
        "### Cel:\n",
        "- zapoznanie z transformacją Hougha dla pojedynczego punktu,\n",
        "- kilku punktów, prostych figur\n",
        "- wykorzystanie transformacji Hougha do detekcji linii prostych na rzeczywistym obrazie\n",
        "- transformacja Hougha w przestrzeni ab\n",
        "\n",
        "### Transformacja Hougha\n",
        "\n",
        "Transformacja Hougha dla prostych jest metodą detekcji współliniowych punktów. Każda prosta może być jednoznacznie przedstawiona za pomocą dwóch parametrów. Przestrzeń tych parametrów to przestrzeń Hougha. Najczęściej wykorzystywanymi parametrami w tej metodzie są współczynniki ρ,θ\n",
        "\n",
        "opisujące równanie prostej w postaci normalnej:\n",
        "\n",
        "ρ=x⋅cos(θ)+y⋅sin(θ)\n",
        "\n",
        "gdzie: ρ - promień wodzący, θ - kąt pomiędzy ρ a osią OX.\n",
        "\n",
        "Własności transformacji Hougha:\n",
        "- prostej w przestrzeni kartezjańskiej odpowiada punkt w przestrzeni Hougha\n",
        "- pękowi prostych przechdzących przez punkt w przestrzeni kartezjańskiej odpowiada krzywa sinusoidalna w przestrzeni Hougha\n",
        "- punkty leżące na tej samej prostej (w przestrzeni kartezjańskiej) korespondują z sinusoidami przechodzącymi przez wspólny punkt w przestrzeni Hougha.\n",
        "\n",
        "Metoda wyliczania transformacji Hougha składa się z następujących kroków:\n",
        "- przez każdy badany (różny od zera) punkt obrazu prowadzony jest pęk prostych, przechodzących przez ten punkt\n",
        "- każda z tych prostych transformowana jest do przestrzeni Hougha i tworzy tam punkt o współrzędnych ρ,θ\n",
        "- w ten sposób, każdy punkt obrazu pierwotnego (pęk prostych) jest odwzorowany w sinusoidalną krzywą w przestrzeni Hougha\n",
        "\n",
        "Przestrzeń Hougha jest przestrzenią akumulacyjną tzn. punkty sinusoidalnych krzywych, wygenerowanych dla punktów obrazu pierwotnego dodają się w miejscach, w których krzywe te przecinają się. Powstałe w ten sposób (w przestrzeni Hougha) maksima odpowiadają zbiorom punktów, należących do jednej prostej. Współrzędne ρ,θ\n",
        "tego maksimum jednoznacznie określają położenie prostej na obrazie pierwotnym.\n",
        "\n",
        "### Transformacja Hougha dla małej liczby punktów.\n",
        "   1. Uruchom poniższy kod. W tablicy `im` wskaż jeden punkt, dla którego ma zostać obliczona transformata."
      ]
    },
    {
      "cell_type": "code",
      "execution_count": null,
      "metadata": {
        "id": "2fUL86HQEG-a"
      },
      "outputs": [],
      "source": [
        "import matplotlib.pyplot as plt\n",
        "import cv2\n",
        "import numpy as np\n",
        "from skimage.transform import hough_line, hough_line_peaks\n",
        "import os\n",
        "from math import pi\n",
        "if not os.path.exists(\"kwadraty.png\") :\n",
        "    !wget https://raw.githubusercontent.com/vision-agh/poc_sw/master/11_Hough/kwadraty.png --no-check-certificate\n",
        "if not os.path.exists(\"lab112.png\") :\n",
        "    !wget https://raw.githubusercontent.com/vision-agh/poc_sw/master/11_Hough/lab112.png --no-check-certificate\n",
        "if not os.path.exists(\"dom.png\") :\n",
        "    !wget https://raw.githubusercontent.com/vision-agh/poc_sw/master/11_Hough/dom.png --no-check-certificate\n",
        "\n",
        "im = np.zeros((64,64), dtype=np.uint8)\n",
        "\n",
        "im[18, 31] = 1\n",
        "\n",
        "fig, ax = plt.subplots()\n",
        "fig.set_size_inches(4, 4)\n",
        "ax.imshow(im, 'gray')\n",
        "ax.axis('off')\n"
      ]
    },
    {
      "cell_type": "markdown",
      "metadata": {
        "id": "oEGVLN2ZEG-e"
      },
      "source": [
        "3. Wykonaj transformację Hougha obazu im. Wykorzystaj funkcję *hough_line* z modułu _skimage.transform_. Funkcja zwraca: macierz H (przestrzeń Hougha) oraz dwa wektory theta i rho dla kolejnych \n",
        "4. Wyświetl przestrzeń Hougha za pomocą funkcji _plt.imshow_ (można też wykorzystać poniższą funkcję *show_hough*). Jak \"wygląda\" pojedynczy punkt w przestrzeni Hougha?"
      ]
    },
    {
      "cell_type": "code",
      "execution_count": null,
      "metadata": {
        "id": "TYCuzYXjEG-f"
      },
      "outputs": [],
      "source": [
        "def show_hough(h, image):\n",
        "    # Generating figure 1\n",
        "    fig, axes = plt.subplots(1, 2, figsize=(15, 6))\n",
        "    ax = axes.ravel()\n",
        "\n",
        "    ax[0].imshow(image, 'gray')\n",
        "    ax[0].set_title('Input image')\n",
        "    ax[0].set_axis_off()\n",
        "\n",
        "    ax[1].imshow(h, 'gray')\n",
        "    ax[1].set_title('Hough transform')\n",
        "    ax[1].set_xlabel('Angles (degrees)')\n",
        "    ax[1].set_ylabel('Distance (pixels)')\n",
        "    ax[1].axis('image')\n",
        "    \n",
        "    plt.tight_layout()\n",
        "    plt.show()    "
      ]
    },
    {
      "cell_type": "code",
      "source": [
        "#jeden punkt\n",
        "image_hough=hough_line(im)\n",
        "show_hough(image_hough[0],im)\n",
        "#jest reprezentowany tak samo jak funkcja sinusoidalna "
      ],
      "metadata": {
        "id": "zgoq46jzEpZA"
      },
      "execution_count": null,
      "outputs": []
    },
    {
      "cell_type": "code",
      "source": [
        "#dwa punkty\n",
        "im[27, 13] = 1\n",
        "image_hough=hough_line(im)\n",
        "show_hough(image_hough[0],im)"
      ],
      "metadata": {
        "id": "PXuVCwRiJHMa"
      },
      "execution_count": null,
      "outputs": []
    },
    {
      "cell_type": "code",
      "source": [
        "#trzy punkty\n",
        "im[34, 7] = 1\n",
        "image_hough=hough_line(im)\n",
        "show_hough(image_hough[0],im)"
      ],
      "metadata": {
        "id": "gZ9mS69kJg7U"
      },
      "execution_count": null,
      "outputs": []
    },
    {
      "cell_type": "code",
      "source": [
        "#pięć punkty\n",
        "im[34, 7] = 1\n",
        "im[54, 3] = 1\n",
        "im[11, 11] = 1\n",
        "image_hough=hough_line(im)\n",
        "show_hough(image_hough[0],im)"
      ],
      "metadata": {
        "id": "6RTzFpW-v0yX"
      },
      "execution_count": null,
      "outputs": []
    },
    {
      "cell_type": "markdown",
      "metadata": {
        "id": "aW-APEOAEG-g"
      },
      "source": [
        "5. Powtórz punkty 1-4, ale tym razem klinkij dwa punkty. Jak zmienia się przestrzeń Hougha?\n",
        "6. Powtórz punkty 1-4, ale tym razem kliknij kilka punktów starając się aby były współliniowe. Zaobserwuj zmiany w przestrzeni Hougha\n",
        "7. Poeksperymentuj z różnymi układami punktów"
      ]
    },
    {
      "cell_type": "markdown",
      "metadata": {
        "id": "1lgQy3thEG-h"
      },
      "source": [
        "### Transformata Hougha dla pojedynczego obiektu\n",
        "\n",
        "W tym podpunkcie pokazane zostanie praktycznie wykorzystanie transformaty Hougha - do detekcji prostych na sztucznym rysunku.\n",
        "\n",
        "   1. Wczytaj obraz \"kwadraty.png\". Wyświetl go.\n",
        "   2. Wykonaj detekcję krawędzi jedną z metod gradientowych. Ważne aby obraz krawędzi był jak najlepszej jakości - co oznacza cienkie (nawet niekoniecznie ciągłe) krawędzie - dla tego przypadku nie powinno być trudne do uzyskania. Wyświetl obraz po detekcji krawędzi.\n",
        "   3. Wykonaj transformatę Hougha obrazu krawędziowego. Wykorzystaj funkcję *hough\\_line*.\n",
        "   4. Wyświetl macierz H. Czy widoczna jest taka liczba maksimów jakiej się spodziewamy?"
      ]
    },
    {
      "cell_type": "code",
      "execution_count": null,
      "metadata": {
        "id": "yIoxSffCEG-i"
      },
      "outputs": [],
      "source": [
        "#funkcja hugh_line\n",
        "kwadraty=cv2.imread('kwadraty.png',cv2.IMREAD_GRAYSCALE)\n",
        "plt.imshow(kwadraty,cmap='gray')\n",
        "plt.axis('off')\n",
        "plt.title('obraz oryginalny')\n"
      ]
    },
    {
      "cell_type": "code",
      "source": [
        "kwadraty_canny=cv2.Canny(kwadraty,5,10,None,3,1)\n",
        "hough_kwadraty = hough_line(kwadraty_canny)\n",
        "show_hough(hough_kwadraty[0],kwadraty_canny)"
      ],
      "metadata": {
        "id": "ekqgGcXshQxH"
      },
      "execution_count": null,
      "outputs": []
    },
    {
      "cell_type": "markdown",
      "metadata": {
        "id": "Vz9jCmNyEG-i"
      },
      "source": [
        " 5. W module skimage.transform dostępna jest funkcja do automatycznej analizy przestrzeni Hougha - wyszukiwania maksimów - *hough\\_line\\_peaks*. Jako parametry przyjmuje ona wyniki funkcji *hough\\_line* (macierz H, theta i rho). Dodatkowo można podać próg powyżej którego punkt uznawany jest za maksimum (_threshold_ - domyslnie jest to połowa maksimum w przestrzeni H) oraz liczbę poszukiwanych maksimów (*num_peaks*). Funkcja zwraca współrzędne maksimów. Wykorzystaj funkcję *hough\\_line\\_peaks* do znalezienia maksimów odpowiadających krawędziom kwadratów.\n",
        " 6. Wyświetl macierz H używając konstrukcji:"
      ]
    },
    {
      "cell_type": "code",
      "execution_count": null,
      "metadata": {
        "id": "c04kzpG4EG-j"
      },
      "outputs": [],
      "source": [
        "hough_kwadraty = hough_line(kwadraty_canny)\n",
        "h, theta, dst= hough_line_peaks(hough_kwadraty[0],hough_kwadraty[1],hough_kwadraty[2])\n",
        "theta=theta*(180/pi)\n",
        "theta+=90\n",
        "dst+=363\n",
        "circles = []\n",
        "for k in range(len(theta)):\n",
        "    circles.append(plt.Circle((theta[k], dst[k]), 10, color='g', fill=False))\n",
        "\n",
        "fig,ax = plt.subplots(1)\n",
        "ax.set_aspect('equal')\n",
        "ax.imshow(hough_kwadraty[0],cmap= 'gray')\n",
        "for k in range(len(circles)):\n",
        "    ax.add_patch(circles[k])\n",
        "\n",
        "\n"
      ]
    },
    {
      "cell_type": "code",
      "source": [
        "kwadraty = cv2.imread('kwadraty.png')\n",
        "edges = cv2.Canny(kwadraty,60,100,apertureSize = 3)\n",
        "hough_lines = cv2.HoughLines(edges,1,pi/180,60)\n",
        "\n",
        "for element in hough_lines:\n",
        "    rho,theta = element[0]\n",
        "    a = np.cos(theta)\n",
        "    b = np.sin(theta)\n",
        "    x0 = a*rho\n",
        "    y0 = b*rho\n",
        "    x1 = int(x0 + 1000*(-b))\n",
        "    y1 = int(y0 + 1000*(a))\n",
        "    x2 = int(x0 - 1000*(-b))\n",
        "    y2 = int(y0 - 1000*(a))\n",
        "\n",
        "    cv2.line(kwadraty,(x1,y1),(x2,y2),(0,0,255),2)\n",
        "\n",
        "plt.imshow(kwadraty, 'gray')\n",
        "plt.axis('off')"
      ],
      "metadata": {
        "id": "OI8W38mBTwB2"
      },
      "execution_count": null,
      "outputs": []
    },
    {
      "cell_type": "markdown",
      "metadata": {
        "id": "gtrs0EG-EG-k"
      },
      "source": [
        "Taki zapis pozwoli na dołożenie annotacji (okręgów) w miejscach znalezionych maksimów. Wyrysowanie okręgu w punkcie x, y (o rozmiarze 10, w czerwonym kolorze, bez wypełnienia środka) realizuje wywołanie: \n",
        "\n",
        "**circle = plt.Circle((x, y), 10, color='r', fill=False)**\n",
        "\n",
        "natomiast dołożenie takiego okręgu do obrazu to:\n",
        "\n",
        "**ax.add_patch(circle)**\n",
        "\n",
        "Zaznacz maksima na obrazie wykorzystując rezultat funkcji *hough\\_line\\_peaks* biorąc pod uwagę, że zwraca ona kąty w radianach z przedziału od -pi/2 do pi/2, a rho z przedziału od -r/2 do r/2 gdzie r to pionowy rozmiar przestrzeni Hougha. "
      ]
    },
    {
      "cell_type": "markdown",
      "metadata": {
        "id": "t-PK-0G7EG-l"
      },
      "source": [
        "7. Istnieje też możliwość przeprowadzenia transformacji Hougha z użyciem biblioteki OpenCV. W bibliotece znajdują się dwie wersje funkcji wyszukującej linie proste - 'klasyczna' - _HoughLines_ oraz probabilistyczna _HoughLinesP_. Zadna z nich nie zwraca przestrzeni Hougha. Wynikiem działania pierwszej jest lista parametrów prostych (krotki zawierające rho, theta). Druga zwraca krotki 4-ro elementowe ze współrzędnymi końców odcinków wykorzystanych do wylicznia parametrów (czyli znalezienia prostej). \n",
        "8. Wyznacz linie obecne na obrazie za pomocą funkcji _HoughLines_. Wykryte linie wyrysuj na obrazie początkowym (UWAGA: wczytanym bez konwersji na graylevel). Do wyświetlania linii wykorzystaj przykładowy kod:"
      ]
    },
    {
      "cell_type": "markdown",
      "metadata": {
        "id": "WLvG-bLEEG-n"
      },
      "source": [
        "9. Wyznacz odcinki obecne na obrazie za pomocą funkcji _HoughLinesP_. Wykryte odcinki wyrysuj na obrazie początkowym (UWAGA: wczytanym bez konwersji na graylevel). "
      ]
    },
    {
      "cell_type": "code",
      "source": [
        "kwadraty = cv2.imread('kwadraty.png')\n",
        "hough_lines = cv2.HoughLinesP(edges,1,pi/180,20,minLineLength=30,maxLineGap=15)\n",
        "for element in hough_lines:\n",
        "    x1,y1,x2,y2 = element[0]\n",
        "    cv2.line(kwadraty,(x1,y1),(x2,y2),(0,255,0),2)\n",
        "plt.imshow(kwadraty,cmap= 'gray')\n",
        "plt.axis('off')"
      ],
      "metadata": {
        "id": "jM2Kfjn_kOiQ"
      },
      "execution_count": null,
      "outputs": []
    },
    {
      "cell_type": "markdown",
      "metadata": {
        "id": "Nq6Uk-bDEG-o"
      },
      "source": [
        "### Transformata Hougha dla obrazu rzeczywistego.\n",
        "\n",
        "Bazując na kodzie stworzonym w punkcie B wyszukamy linie na obrazie rzeczywistym.\n",
        "   1. Wczytaj obraz \"lab112.png\". Wyświetl go.\n",
        "   2. Wykorzystując wszystkie poznane techniki przetwarzania obrazów (filtracja, przekształcenia morfologiczne, binaryzację, detekcję krawędzi) wyodrębnij krawędzie samych kwadratów - tak aby były jak najlepszej jakości (cienkie) - jednocześnie eliminując z obrazu zakłócenia.\n",
        "   3. Wykorzystaj funkcje *hough_line* i *hough_line_peaks* do detekcji linii na obrazie, a następnie np. wykorzystując kod z punktu 8 poprzedniego ustępu wyrysuj na oryginalnym obrazie znalezione linie."
      ]
    },
    {
      "cell_type": "code",
      "execution_count": null,
      "metadata": {
        "id": "NAExwftYEG-p"
      },
      "outputs": [],
      "source": [
        "lab112=cv2.imread('lab112.png',cv2.IMREAD_GRAYSCALE)\n",
        "plt.imshow(lab112,cmap='gray')\n",
        "plt.axis('off')"
      ]
    },
    {
      "cell_type": "code",
      "source": [
        "lab112=cv2.imread('lab112.png',cv2.IMREAD_GRAYSCALE)\n",
        "lab112=np.where(lab112>35,0,255)\n",
        "lab112[:,540:]=0\n",
        "lab112=lab112.astype('uint8')\n",
        "new=np.zeros((lab112.shape[0],lab112.shape[1],3))\n",
        "new[:,:,0]=lab112\n",
        "new[:,:,1]=lab112\n",
        "new[:,:,2]=lab112\n",
        "new=new.astype('uint8')\n",
        "edges = cv2.Canny(new,60,100,apertureSize = 3)\n",
        "hough_lab112 = hough_line(edges)\n",
        "h, ntheta, dst= hough_line_peaks(hough_lab112[0],hough_lab112[1],hough_lab112[2])\n",
        "result= cv2.cvtColor(lab112, cv2.COLOR_GRAY2BGR)\n",
        "for element in range(len(ntheta)):\n",
        "    rho=dst[element]\n",
        "    theta = ntheta[element]\n",
        "    a = np.cos(theta)\n",
        "    b = np.sin(theta)\n",
        "    x0 = a*rho\n",
        "    y0 = b*rho\n",
        "    x1 = int(x0 + 1000*(-b))\n",
        "    y1 = int(y0 + 1000*(a))\n",
        "    x2 = int(x0 - 1000*(-b))\n",
        "    y2 = int(y0 - 1000*(a))\n",
        "\n",
        "    cv2.line(result,(x1,y1),(x2,y2),(0,0,255),2)\n",
        "\n",
        "\n",
        "plt.imshow(result,cmap='gray')"
      ],
      "metadata": {
        "id": "ooMQNWtUoDm0"
      },
      "execution_count": null,
      "outputs": []
    },
    {
      "cell_type": "markdown",
      "metadata": {
        "id": "N1Jy1mRzEG-p"
      },
      "source": [
        "4. Wczytaj obraz \"dom.png\". Wypróbuj działanie transformacji Hougha na tym obrazie z wykorzystaniem funkcji _cv2.HoughLinesP_  (oczywiście po odpowiednich przekształceniach). Postaraj się tak przygotować obraz z krawędziami i dobrać parametry aby wyrysować na oryginalnym obrazie odcinki obejmujące zarysy domu. Weź pod uwage dodatkowe parametry funkcji, takie jak:   minLineLength, maxLineGap."
      ]
    },
    {
      "cell_type": "code",
      "source": [
        "dom= cv2.imread('dom.png')\n",
        "ndom=cv2.imread('dom.png',cv2.IMREAD_GRAYSCALE)\n",
        "ndom=cv2.GaussianBlur(dom, (15, 15), 0)\n",
        "ndom=cv2.GaussianBlur(ndom, (9, 9), 0)\n",
        "ndom=cv2.Canny(ndom,15,25,None,3,1)\n",
        "lines = cv2.HoughLinesP(ndom,1,np.pi/180,40,minLineLength=40,maxLineGap=5)\n",
        "for element in lines:\n",
        "    x1,y1,x2,y2 = element[0]\n",
        "    cv2.line(dom,(x1,y1),(x2,y2),(255,0,0),2)\n",
        "\n",
        "plt.imshow(dom)\n",
        "plt.axis('off')"
      ],
      "metadata": {
        "id": "TcF2yulErN74"
      },
      "execution_count": null,
      "outputs": []
    }
  ],
  "metadata": {
    "celltoolbar": "Raw Cell Format",
    "kernelspec": {
      "display_name": "Python 3",
      "language": "python",
      "name": "python3"
    },
    "language_info": {
      "codemirror_mode": {
        "name": "ipython",
        "version": 3
      },
      "file_extension": ".py",
      "mimetype": "text/x-python",
      "name": "python",
      "nbconvert_exporter": "python",
      "pygments_lexer": "ipython3",
      "version": "3.9.1"
    },
    "colab": {
      "name": "11_Hough.ipynb",
      "provenance": []
    }
  },
  "nbformat": 4,
  "nbformat_minor": 0
}