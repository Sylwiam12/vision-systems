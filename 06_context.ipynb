{
  "cells": [
    {
      "cell_type": "markdown",
      "metadata": {
        "id": "cLb_C2ZR-vho"
      },
      "source": [
        "# Przetwarzanie wstępne. Filtracja kontekstowa.\n",
        "\n",
        "\n",
        "### Cel:\n",
        "- zapoznanie z pojęciem kontekstu / filtracji kontekstowej,\n",
        "- zapoznanie z pojęciem konwolucji (splotu),\n",
        "- zapoznanie z wybranymi filtrami:\n",
        "\t- filtry liniowe dolnoprzepustowe:\n",
        "\t\t- filtr uśredniający,\n",
        "\t\t- filtr Gaussa.\n",
        "\t- filtry nielinowe:\n",
        "\t\t- mediana,\n",
        "\t\t- mediana dla obrazów kolorowych.\n",
        "\t- filtry liniowe górnoprzepustowe:\n",
        "\t\t\t- laplasjan,\n",
        "\t\t\t- operator Robertsa, Prewitta, Sobela.\n",
        "- zadanie domowe: adaptacyjna filtracja medianowa.\n",
        "\n",
        "### Filtry liniowe uśredniające (dolnoprzepustowe)\n",
        "\n",
        "Jest to podstawowa rodzina filtrów stosowana w cyfrowym przetwarzaniu obrazów. \n",
        "Wykorzystuje się je w celu \"rozmazania\" obrazu i tym samym redukcji szumów (zakłóceń) na obrazie.\n",
        "Filtr określony jest przez dwa parametry: rozmiar maski (ang. _kernel_) oraz wartości współczynników maski.\n",
        "\n",
        "Warto zwrócić uwagę, że omawiane w niniejszym rozdziale operacje generują nową wartość piksela na podstawie pewnego fragmentu obrazu (tj. kontekstu), a nie jak operacje punktowe tylko na podstawie jednego piksela.\n",
        "\n",
        "\n",
        "1. Wczytaj obraz _plansza.png_.\n",
        "W dalszej części ćwiczenia sprawdzenie działania filtracji dla innych obrazów sprowadzi się do wczytania innego pliku.\n",
        "\n",
        "2. Podstawowa funkcja to `cv2.filter2D`  - realizacja filtracji konwolucyjnej.\n",
        "   Proszę sprawdzić jej dokumentację i zwrócić uwagę na obsługę problemu brzegowego (na krawędziach istnieją piksele dla których nie da się wyznaczyć otoczenia).\n",
        "\n",
        "  Uwaga. Problem ten można też rozwiązać z użyciem funkcji `signal.convolve2d` z biblioteki _scipy_ (`from scipy import signal`).\n",
        "\n",
        "3. Stwórz podstawowy filtr uśredniający o rozmiarze $3 \\times 3$ -- za pomocą funkcji `np.ones`. Wykonaj konwolucję na wczytanym obrazie. Na wspólnym rysunku wyświetl obraz oryginalny, po filtracji oraz moduł z różnicy.\n",
        "\n",
        "4. Przeanalizuj otrzymane wyniki. Jakie elementy zawiera obraz \"moduł z różnicy\"? Co na tej podstawie można powiedzieć o filtracji dolnoprzepustowej?"
      ]
    },
    {
      "cell_type": "code",
      "execution_count": null,
      "metadata": {
        "id": "wB0pn1zn-vht"
      },
      "outputs": [],
      "source": [
        "import matplotlib.pyplot as plt\n",
        "import cv2\n",
        "import os\n",
        "import numpy as np\n",
        "from scipy import signal\n",
        "\n",
        "\n",
        "# Obrazki\n",
        "if not os.path.exists(\"jet.png\") :\n",
        "    !wget https://raw.githubusercontent.com/vision-agh/poc_sw/master/06_Context/jet.png --no-check-certificate\n",
        "if not os.path.exists(\"kw.png\") :\n",
        "    !wget https://raw.githubusercontent.com/vision-agh/poc_sw/master/06_Context/kw.png --no-check-certificate\n",
        "if not os.path.exists(\"moon.png\") :\n",
        "    !wget https://raw.githubusercontent.com/vision-agh/poc_sw/master/06_Context/moon.png --no-check-certificate\n",
        "if not os.path.exists(\"lenaSzum.png\") :\n",
        "    !wget https://raw.githubusercontent.com/vision-agh/poc_sw/master/06_Context/lenaSzum.png --no-check-certificate\n",
        "if not os.path.exists(\"lena.png\") :\n",
        "    !wget https://raw.githubusercontent.com/vision-agh/poc_sw/master/06_Context/lena.png --no-check-certificate\n",
        "if not os.path.exists(\"plansza.png\") :\n",
        "    !wget https://raw.githubusercontent.com/vision-agh/poc_sw/master/06_Context/plansza.png --no-check-certificate\n",
        "\n",
        "\n"
      ]
    },
    {
      "cell_type": "code",
      "source": [
        "plansza=cv2.imread(\"plansza.png\", cv2.IMREAD_GRAYSCALE)\n",
        "aver_f=np.ones((3,3))/9\n",
        "result_image=cv2.filter2D(plansza,-1,aver_f)\n",
        "#alternatywa dla funkcji cv2.filter2D\n",
        "result_image2=signal.convolve2d(plansza,aver_f,mode='same')\n",
        "diff=np.abs(plansza-result_image)\n",
        "fig, ax = plt.subplots(1,3, figsize=(10,10))\n",
        "ax[0].imshow(plansza,cmap='gray')\n",
        "ax[0].set_title('obraz oryginalny')\n",
        "ax[1].imshow(result_image,cmap='gray')\n",
        "ax[1].set_title('obraz po filtracji')\n",
        "ax[2].imshow(diff,'gray')\n",
        "ax[2].set_title('moduł różnicy')\n",
        "for k in range(3):\n",
        "  ax[k].axis('off')"
      ],
      "metadata": {
        "id": "oDFI25-LIhDg"
      },
      "execution_count": null,
      "outputs": []
    },
    {
      "cell_type": "markdown",
      "metadata": {
        "id": "MB2wxTbK-vhv"
      },
      "source": [
        "5. Na wspólnym rysunku wyświetl wyniki filtracji uśredniającej z oknem o rozmiarze 3, 5, 9, 15 i 35. \n",
        "Wykorzystaj polecenie `plt.subplot`. \n",
        "Przeanalizuj wpływ rozmiaru maski na wynik. "
      ]
    },
    {
      "cell_type": "code",
      "execution_count": null,
      "metadata": {
        "id": "9_4DhD9M-vhw"
      },
      "outputs": [],
      "source": [
        "lst=[]\n",
        "plansza=cv2.imread(\"plansza.png\", cv2.IMREAD_GRAYSCALE)\n",
        "\n",
        "for i in [3,5,9,15,35]:\n",
        "  aver_f=np.ones((i,i))/i**2\n",
        "  result_image=cv2.filter2D(plansza,-1,aver_f)\n",
        "  lst.append(result_image)\n",
        "  diff=plansza-result_image\n",
        "  lst.append(diff)\n",
        "\n",
        "figure,axes=plt.subplots(5,3,figsize=(14,14))\n",
        "axes[0][0].imshow(plansza, cmap='gray')\n",
        "axes[1][0].imshow(plansza, cmap='gray')\n",
        "axes[2][0].imshow(plansza, cmap='gray')\n",
        "axes[3][0].imshow(plansza, cmap='gray')\n",
        "axes[4][0].imshow(plansza, cmap='gray')\n",
        "for i in range(5):\n",
        "  axes[i][0].set_title('obraz oryginalny')\n",
        "  axes[i][0].axis('off')\n",
        "axes[0][1].imshow(lst[0],cmap='gray')\n",
        "axes[1][1].imshow(lst[2],cmap='gray')\n",
        "axes[2][1].imshow(lst[4],cmap='gray')\n",
        "axes[3][1].imshow(lst[6],cmap='gray')\n",
        "axes[4][1].imshow(lst[8],cmap='gray')\n",
        "for i in range(5):\n",
        "  axes[i][1].set_title('obraz po filtracji')\n",
        "  axes[i][1].axis('off')\n",
        "axes[0][2].imshow(lst[1],cmap='gray')\n",
        "axes[1][2].imshow(lst[3],cmap='gray')\n",
        "axes[2][2].imshow(lst[5],cmap='gray')\n",
        "axes[3][2].imshow(lst[7],cmap='gray')\n",
        "axes[4][2].imshow(lst[9],cmap='gray')\n",
        "for i in range(5):\n",
        "  axes[i][2].set_title('różnica')\n",
        "  axes[i][2].axis('off')\n",
        "\n",
        "  #wraz ze wzrostem rozmiaru maski ilosć zauważalnych szczegółów maleje, jakość obrazu spada."
      ]
    },
    {
      "cell_type": "markdown",
      "metadata": {
        "id": "FPVAu7R4-vhx"
      },
      "source": [
        "6. Wczytaj obraz _lena.png_.\n",
        "Zaobserwuj efekty filtracji dolnoprzepustowej dla obrazu rzeczywistego."
      ]
    },
    {
      "cell_type": "code",
      "execution_count": null,
      "metadata": {
        "id": "c4Po1MWr-vhy"
      },
      "outputs": [],
      "source": [
        "lena=cv2.imread('lena.png',cv2.IMREAD_GRAYSCALE)\n",
        "aver_f=np.ones((3,3))/9\n",
        "result_image=cv2.filter2D(lena,-1,aver_f)\n",
        "diff=lena-result_image\n",
        "fig, ax = plt.subplots(1,3, figsize=(10,10))\n",
        "ax[0].imshow(lena,cmap='gray')\n",
        "ax[0].set_title('obraz oryginalny')\n",
        "ax[1].imshow(result_image,cmap='gray')\n",
        "ax[1].set_title('obraz po filtracji')\n",
        "ax[2].imshow(diff,'gray')\n",
        "ax[2].set_title('różnica')\n",
        "for k in range(3):\n",
        "  ax[k].axis('off')"
      ]
    },
    {
      "cell_type": "markdown",
      "metadata": {
        "id": "ia9zv8gL-vhy"
      },
      "source": [
        "7. Niekorzystny efekt towarzyszący wykonanym filtracjom dolnoprzepustowym to utrata ostrości. \n",
        "Częściowo można go zniwelować poprzez odpowiedni dobór maski. \n",
        "Wykorzystaj maskę:  `M = np.array([1 2 1; 2 4 2; 1 2 1])`. \n",
        "Przed obliczeniami należy jeszcze wykonać normalizację - podzielić każdy element maski przez sumę wszystkich elementów: `M = M/sum(sum(M));`.\n",
        "Tak przygotowaną maskę wykorzystaj w konwolucji - wyświetl wyniki tak jak wcześniej.\n",
        "Możliwe jest też wykorzystywanie innych masek - współczynniki można dopasowywać do konkretnego problemu."
      ]
    },
    {
      "cell_type": "code",
      "execution_count": null,
      "metadata": {
        "id": "NnwRII---vhz"
      },
      "outputs": [],
      "source": [
        "M = np.array([[1,2,1],[2,4,2],[1,2,1]])\n",
        "M = M/sum(sum(M))\n",
        "lena=cv2.imread('lena.png',cv2.IMREAD_GRAYSCALE)\n",
        "result_image=signal.convolve2d(lena,M,mode='same')\n",
        "diff=np.abs(lena-result_image)\n",
        "fig, ax = plt.subplots(1,3, figsize=(10,10))\n",
        "ax[0].imshow(lena,cmap='gray')\n",
        "ax[0].set_title('obraz oryginalny')\n",
        "ax[1].imshow(result_image,cmap='gray')\n",
        "ax[1].set_title('obraz po filtracji')\n",
        "ax[2].imshow(diff,cmap='gray')\n",
        "ax[2].set_title('różnica')\n",
        "for k in range(3):\n",
        "  ax[k].axis('off')"
      ]
    },
    {
      "cell_type": "markdown",
      "metadata": {
        "id": "uTKclb8B-vh0"
      },
      "source": [
        "8. Skuteczną i często wykorzystywaną maską jest tzw. maska Gasussa.\n",
        "Jest to zbiór liczb, które aproksymują dwuwymiarowy rozkład Gaussa. \n",
        "Parametrem jest odchylenie standardowe i rozmiar maski.\n",
        "\n",
        "9. Wykorzystując przygotowaną funkcję `fgaussian` stwórz maskę o rozmiarze $5 \\times 5$ i odchyleniu standardowym 0.5.\n",
        "  Wykorzystując funkcję `mesh` zwizualizuj filtr.\n",
        "  Sprawdź jak parametr `odchylenie standardowe` wpływa na `kształt` filtru.\n",
        "\n",
        "  Uwaga. W OpenCV dostępna jest *dedykowana* funkcja do filtracji Gaussa - `GaussianBlur`.\n",
        "  Proszę na jednym przykładzie porównać jej działanie z użytym wyżej rozwiązaniem.\n",
        "\n",
        "10. Wykonaj filtrację dla wybranych (2--3) wartości odchylenia standardowego.\n"
      ]
    },
    {
      "cell_type": "code",
      "execution_count": null,
      "metadata": {
        "scrolled": true,
        "id": "ZFjhhhBr-vh1"
      },
      "outputs": [],
      "source": [
        "def fgaussian(size, sigma):\n",
        "     m = n = size\n",
        "     h, k = m//2, n//2\n",
        "     x, y = np.mgrid[-h:h+1, -k:k+1]\n",
        "     g = np.exp(-(x**2 + y**2)/(2*sigma**2))\n",
        "     return g /g.sum() \n",
        "    \n",
        "    \n",
        "def mesh(fun, size):\n",
        "    fig = plt.figure()\n",
        "    ax = fig.gca(projection='3d')\n",
        "    \n",
        "\n",
        "    X = np.arange(-size//2, size//2, 1)\n",
        "    Y = np.arange(-size//2, size//2, 1)\n",
        "    X, Y = np.meshgrid(X, Y)\n",
        "    Z = fun\n",
        "    \n",
        "    ax.plot_surface(X, Y, Z)\n",
        "    \n",
        "    plt.show()"
      ]
    },
    {
      "cell_type": "code",
      "source": [
        "moon=cv2.imread('moon.png',cv2.IMREAD_GRAYSCALE)\n",
        "mask=fgaussian(5,0.5)\n",
        "result_image=signal.convolve2d(moon,mask,mode='same')\n",
        "\n",
        "result2=cv2.GaussianBlur(moon,(5,5),0.5)\n",
        "\n",
        "fig,ax=plt.subplots(1,2,figsize=(10,10))\n",
        "ax[0].imshow(result_image,cmap='gray')\n",
        "ax[0].set_title('filtracja przy użyciu funkcji fgaussian')\n",
        "ax[1].imshow(result2,cmap='gray')\n",
        "ax[1].set_title('filtracja przy użyciu funkcji GaussianBlur')\n",
        "for i in range(2):\n",
        "  ax[i].axis('off')"
      ],
      "metadata": {
        "id": "FpNP8B-aPByj"
      },
      "execution_count": null,
      "outputs": []
    },
    {
      "cell_type": "code",
      "source": [
        "mask = fgaussian(5,0.3)\n",
        "mesh(mask,5)\n",
        "mask = fgaussian(5,1)\n",
        "mesh(mask,5)\n",
        "mask = fgaussian(5,1.5)\n",
        "mesh(mask,5)"
      ],
      "metadata": {
        "id": "3ND8lhfjLSj3"
      },
      "execution_count": null,
      "outputs": []
    },
    {
      "cell_type": "markdown",
      "metadata": {
        "id": "Ef9cveZH-vh2"
      },
      "source": [
        "### Filtry nieliniowe -- mediana\n",
        "\n",
        "Filtry rozmywające redukują szum, ale niekorzystnie wpływają na ostrość obrazu.\n",
        "Dlatego często wykorzystuje się filtry nieliniowe - np. filtr medianowy (dla przypomnienia: mediana - środkowa wartość w posortowanym ciągu liczb).\n",
        "\n",
        "Podstawowa różnica pomiędzy filtrami liniowymi, a nieliniowymi polega na tym, że przy filtracji liniowej na nową wartość piksela ma wpływ wartość wszystkich pikseli z otoczenia (np. uśrednianie, czasem ważone), natomiast w przypadku filtracji nieliniowej jako nowy piksel wybierana jest któraś z wartości otoczenia - według jakiegoś wskaźnika (wartość największa, najmniejsza czy właśnie mediana).\n",
        "\n",
        "\n",
        "1. Wczytaj obraz _lenaSzum.png_ (losowe 10% pikseli białych lub czarnych - tzw. zakłócenia impulsowe). Przeprowadź filtrację uśredniającą z rozmiarem maski 3x3. Wyświetl, podobnie jak wcześniej, oryginał, wynik filtracji i moduł z różnicy. Wykorzystując funkcję `cv2.medianBlur` wykonaj filtrację medianową _lenaSzum.png_ (z rozmiarem maski $3 \\times 3$). Wyświetl, podobnie jak wcześniej, oryginał, wynik filtracji i moduł z różnicy. Która filtracja lepiej radzi sobie z tego typu szumem?\n",
        "\n",
        "  Uwaga. Taki sam efekt da również użycie funkcji `signal.medfilt2d`.\n"
      ]
    },
    {
      "cell_type": "code",
      "execution_count": null,
      "metadata": {
        "id": "vvKjj-pB-vh3"
      },
      "outputs": [],
      "source": [
        "lenaSzum=cv2.imread(\"lenaSzum.png\", cv2.IMREAD_GRAYSCALE)\n",
        "size=3\n",
        "mask=np.ones((size,size))/size**2\n",
        "med_image=cv2.medianBlur(lenaSzum,3)\n",
        "diff_szum=np.abs(lenaSzum-med_image)\n",
        "\n",
        "def result_plot(image1,image2,image3):\n",
        "  fig, ax=plt.subplots(1,3,figsize=(10,10))\n",
        "  ax[0].imshow(image1,cmap='gray')\n",
        "  ax[0].set_title('obraz oryginalny')\n",
        "  ax[1].imshow(image2,cmap='gray')\n",
        "  ax[1].set_title('obraz po filtracji')\n",
        "  ax[2].imshow(image3,cmap='gray')\n",
        "  ax[2].set_title('różnica')\n",
        "  for k in range(3):\n",
        "    ax[k].axis('off')\n",
        "\n",
        "result_plot(lenaSzum,med_image,diff_szum)"
      ]
    },
    {
      "cell_type": "markdown",
      "metadata": {
        "id": "JI1mQdTm-vh3"
      },
      "source": [
        "2. Przeprowadź filtrację uśredniającą, a następnie medianową obrazu _lena.png_.\n",
        "   Wyniki porównaj - dla obu wyświetl: oryginał, wynik filtracji i moduł z różnicy.\n",
        "   Szczególną uwagę zwróć na ostrość i krawędzie.\n",
        "   W której filtracji krawędzie zostają lepiej zachowane?"
      ]
    },
    {
      "cell_type": "code",
      "execution_count": null,
      "metadata": {
        "id": "ErDQmqk9-vh4"
      },
      "outputs": [],
      "source": [
        "lena=cv2.imread(\"lena.png\", cv2.IMREAD_GRAYSCALE)\n",
        "#filtracja uśredniająca\n",
        "aver_f=np.ones((3,3))/9\n",
        "result_image=cv2.filter2D(lena,-1,aver_f)\n",
        "diff=np.abs(lena-result_image)\n",
        "result_plot(lena,result_image,diff)\n",
        "#filtracja medianowa\n",
        "size=3\n",
        "mask=np.ones((size,size))/size**2\n",
        "med_image=cv2.medianBlur(lenaSzum,3)\n",
        "diff_szum=np.abs(lenaSzum-med_image)\n",
        "result_plot(lena,med_image,diff_szum)\n",
        "\n",
        "#lepiej efekt wizulany daje filtracja uśredniająca"
      ]
    },
    {
      "cell_type": "markdown",
      "metadata": {
        "id": "tXjE3THa-vh4"
      },
      "source": [
        "3. Ciekawy efekt można uzyskać wykonując filtrację medianową wielokrotnie. Określa się go mianem  posteryzacji.  W wyniku przetwarzania z obrazka usunięte zostają detale, a duże obszary uzyskują tą samą wartość jasności.  Wykonaj operację mediany $5 \\times 5$ na obrazie _lena.png_ 10-krotnie. (wykorzystaj np. pętlę `for`).\n",
        "\n",
        "\n",
        "Inne filtry nieliniowe:\n",
        "- filtr modowy - moda (dominanta) zamiast mediany,\n",
        "- filtr olimpijski - średnia z podzbioru otoczenia (bez wartości ekstremalnych),\n",
        "- hybrydowy filtr medianowy - mediana obliczana osobno w różnych podzbiorach otoczenia (np. kształt `x`, `+`), a jako wynik brana jest mediana ze zbioru wartość elementu centralnego, mediana z `x` i mediana z `+`,\n",
        "- filtr minimalny i maksymalny (będą omówione przy okazji operacji morfologicznych w dalszej części kursu).\n",
        "\n",
        "\n",
        "Warto zdawać sobie sprawę, z szerokich możliwości dopasowywania rodzaju filtracji do konkretnego rozważanego problemu i rodzaju zaszumienia występującego na obrazie."
      ]
    },
    {
      "cell_type": "code",
      "execution_count": null,
      "metadata": {
        "id": "P8lietVI-vh5"
      },
      "outputs": [],
      "source": [
        "lena = cv2.imread(\"lena.png\", cv2.IMREAD_GRAYSCALE)\n",
        "lena_med=cv2.medianBlur(lena,5)\n",
        "for i in range(9):\n",
        "    lena_med=cv2.medianBlur(lena_med,5)\n",
        "diff_med=np.abs(lena-lena_med)\n",
        "result_plot(lena,lena_med,diff_med)"
      ]
    },
    {
      "cell_type": "markdown",
      "metadata": {
        "id": "gr361ia0-vh5"
      },
      "source": [
        "## Filtry liniowe górnoprzepustowe (wyostrzające, wykrywające krawędzie)\n",
        "\n",
        "Zadaniem filtrów górnoprzepustowych jest wydobywanie z obrazu składników odpowiedzialnych za szybkie zmiany jasności - konturów, krawędzi, drobnych elementów tekstury.\n",
        "\n",
        "### Laplasjan (wykorzystanie drugiej pochodnej obrazu)\n",
        "\n",
        "1. Wczytaj obraz _moon.png_.\n",
        "\n",
        "2. Wprowadź podstawową maskę laplasjanu:\n",
        "\\begin{equation}\n",
        "M = \n",
        "\\begin{bmatrix}\n",
        "0 & 1& 0 \\\\ 1 & -4 & 1 \\\\ 0 & 1 & 0\n",
        "\\end{bmatrix}\n",
        "\\tag{1}\n",
        "\\end{equation}\n",
        "\n",
        "3. Przed rozpoczęciem obliczeń należy dokonać normalizacji maski - dla rozmiaru $3 \\times 3$ podzielić każdy element przez sumę wag dodatnich (ewentualnie sumę modułów wszystkich wag).\n",
        "   Proszę zwrócić uwagę, że nie można tu zastosować takiej samej normalizacji, jak dla filtrów dolnoprzepustowych, gdyż skutkowałby to dzieleniem przez 0.\n",
        "\n",
        "4. Wykonaj konwolucję obrazu z maską (`c2.filter2D`). Przed wyświetleniem, wynikowy obraz należy poddać normalizacji (występują ujemne wartości). Najczęściej wykonuje się jedną z dwóch operacji:\n",
        "- skalowanie (np. poprzez dodanie 128 do każdego z pikseli),\n",
        "- moduł (wartość bezwzględna).\n",
        "\n",
        "Wykonaj obie normalizacje. \n",
        "Na wspólnym wykresie wyświetl obraz oryginalny oraz przefiltrowany po obu normalizacjach. "
      ]
    },
    {
      "cell_type": "code",
      "execution_count": null,
      "metadata": {
        "id": "Ac4o_aD8-vh6"
      },
      "outputs": [],
      "source": [
        "moon=cv2.imread(\"moon.png\", cv2.IMREAD_GRAYSCALE)\n",
        "M=np.array([[0,1,0],[1,-4,1],[0,1,0]])\n",
        "moon2=cv2.filter2D(moon,-1,M)\n",
        "\n",
        "#normalizacja maski\n",
        "moon_n1=moon2+128\n",
        "moon_n2=np.abs(moon2)\n",
        "\n",
        "fig,ax=plt.subplots(3,1,figsize=(10,10))\n",
        "ax[0].imshow(moon,cmap='gray')\n",
        "ax[0].set_title('obraz oryginalny')\n",
        "ax[1].imshow(moon_n1,cmap='gray')\n",
        "ax[1].set_title('obraz z zastosowaniem normalizacji-skalowanie')\n",
        "ax[2].imshow(moon_n2,cmap='gray')\n",
        "ax[2].set_title('obraz z zastosowaniem normalizacji-moduł')\n",
        "for i in range(3):\n",
        "  ax[i].axis('off')"
      ]
    },
    {
      "cell_type": "markdown",
      "metadata": {
        "id": "e4hA39ms-vh6"
      },
      "source": [
        "7. Efekt wyostrzenia uzyskuje się po odjęciu/dodaniu (zależy do maski) rezultatu filtracji laplasjanowej i oryginalnego obrazu. Wyświetl na jednym wykresie: obraz oryginalny, sumę oryginału i wyniku filtracji oraz różnicę (bezwzględną) oryginału i wyniku filtracji.\n",
        " Uwaga. Aby uniknąć artefaktów, należy obraz wejściowy przekonwertować do formatu ze znakiem.\n",
        "\n"
      ]
    },
    {
      "cell_type": "code",
      "execution_count": null,
      "metadata": {
        "id": "iXqxFnuH-vh7"
      },
      "outputs": [],
      "source": [
        "new_moon=moon.astype('int')\n",
        "fig,ax=plt.subplots(3,1,figsize=(10,10))\n",
        "ax[0].imshow(new_moon,cmap='gray')\n",
        "ax[0].set_title('obraz oryginalny')\n",
        "ax[1].imshow(new_moon+moon2,cmap='gray')\n",
        "ax[1].set_title('suma')\n",
        "ax[2].imshow(np.abs(new_moon-moon2),cmap='gray')\n",
        "ax[2].set_title('różnica')\n",
        "for i in range(3):\n",
        "  ax[i].axis('off')"
      ]
    },
    {
      "cell_type": "markdown",
      "metadata": {
        "id": "k9A4Uh3a-vh7"
      },
      "source": [
        "### Gradienty (wykorzystanie pierwszej pochodnej obrazu)\n",
        "\n",
        "1. Wczytaj obraz _kw.png_. Stwórz odpowiednie maski opisane w kolejnych punktach i dokonaj filtracji.\n",
        "2. Wykorzystując gradient Robertsa przeprowadź detekcję krawędzi - poprzez wykonanie konwolucji obrazu z daną maską:\n",
        "\\begin{equation}\n",
        "R1 = \\begin{bmatrix} 0 & 0 & 0 \\\\ -1 & 0 & 0 \\\\ 0 & 1 & 0 \\end{bmatrix}   \n",
        "R2 = \\begin{bmatrix} 0 & 0 & 0 \\\\ 0 & 0 & -1 \\\\ 0 & 1 & 0 \\end{bmatrix}\n",
        "\\tag{2}\n",
        "\\end{equation}\n",
        "\n",
        "Wykorzystaj stworzony wcześniej kod (przy laplasjanie) - dwie metody normalizacji oraz sposób wyświetlania.\n",
        "\n",
        "3. Analogicznie przeprowadź detekcję krawędzi za pomocą gradientu Prewitta (pionowy i poziomy)\n",
        "\\begin{equation}\n",
        "P1 = \\begin{bmatrix} -1 & 0 & 1 \\\\ -1 & 0 & 1 \\\\ -1 & 0 & 1 \\end{bmatrix}   \n",
        "P2 = \\begin{bmatrix} -1 & -1 & -1 \\\\ 0 & 0 & 0 \\\\ 1 & 1 & 1 \\end{bmatrix}\n",
        "\\tag{3}\n",
        "\\end{equation}\n",
        "\n",
        "4. Podobnie skonstruowany jest gradient Sobela (występuje osiem masek, zaprezentowane są dwie `prostopadłe`):\n",
        "\\begin{equation}\n",
        "S1 = \\begin{bmatrix} -1 & 0 & 1 \\\\ -2 & 0 & 2 \\\\ -1 & 0 & 1 \\end{bmatrix}   \n",
        "S2 = \\begin{bmatrix} -1 & -2 & -1 \\\\ 0 & 0 & 0 \\\\ 1 & 2 & 1 \\end{bmatrix}\n",
        "\\tag{4}\n",
        "\\end{equation}\n",
        "\n",
        "Przeprowadź detekcję krawędzi za pomocą gradientu Sobela. "
      ]
    },
    {
      "cell_type": "code",
      "execution_count": null,
      "metadata": {
        "scrolled": true,
        "id": "sDnWbFwU-vh8"
      },
      "outputs": [],
      "source": [
        "kw=cv2.imread('kw.png',cv2.IMREAD_GRAYSCALE)\n",
        "#gradient Robertsa\n",
        "#R1\n",
        "R1=np.array([[0,0,0],[-1,0,0],[0,1,0]])/9\n",
        "kw_n=cv2.filter2D(kw,-1,R1)\n",
        "#normalizacja maski\n",
        "kw1=kw_n+128\n",
        "kw2=np.abs(kw_n)\n",
        "\n",
        "fig,ax=plt.subplots(1,3,figsize=(10,10))\n",
        "ax[0].imshow(kw,cmap='gray')\n",
        "ax[0].set_title('obraz oryginalny')\n",
        "ax[1].imshow(kw1,cmap='gray')\n",
        "ax[1].set_title('R1-skalowanie')\n",
        "ax[2].imshow(kw2,cmap='gray')\n",
        "ax[2].set_title('R1-moduł')\n",
        "for i in range(3):\n",
        "  ax[i].axis('off')\n",
        "#R2\n",
        "R2=np.array([[0,0,0],[0,0,-1],[0,1,0]])/9\n",
        "kw_n=cv2.filter2D(kw,-1,R2)\n",
        "#normalizacja maski\n",
        "kw1=kw_n+128\n",
        "kw2=np.abs(kw_n)\n",
        "\n",
        "fig,ax=plt.subplots(1,3,figsize=(10,10))\n",
        "ax[0].imshow(kw,cmap='gray')\n",
        "ax[0].set_title('obraz oryginalny')\n",
        "ax[1].imshow(kw1,cmap='gray')\n",
        "ax[1].set_title('R2-skalowanie')\n",
        "ax[2].imshow(kw2,cmap='gray')\n",
        "ax[2].set_title('R2-moduł')\n",
        "for i in range(3):\n",
        "  ax[i].axis('off')"
      ]
    },
    {
      "cell_type": "code",
      "source": [
        "#gradient Prewitta\n",
        "#P1\n",
        "P1=np.array([[-1,0,1],[-1,0,1],[-1,0,1]])/9\n",
        "kw_n=cv2.filter2D(kw,-1,P1)\n",
        "#normalizacja maski\n",
        "kw1=kw_n+128\n",
        "kw2=np.abs(kw_n)\n",
        "\n",
        "fig,ax=plt.subplots(1,3,figsize=(10,10))\n",
        "ax[0].imshow(kw,cmap='gray')\n",
        "ax[0].set_title('obraz oryginalny')\n",
        "ax[1].imshow(kw1,cmap='gray')\n",
        "ax[1].set_title('P1-skalowanie')\n",
        "ax[2].imshow(kw2,cmap='gray')\n",
        "ax[2].set_title('P1-moduł')\n",
        "for i in range(3):\n",
        "  ax[i].axis('off')\n",
        "#P2\n",
        "P2=np.array([[-1,-1,-1],[0,0,0],[1,1,1]])/9\n",
        "kw_n=cv2.filter2D(kw,-1,P2)\n",
        "#normalizacja maski\n",
        "kw1=kw_n+128\n",
        "kw2=np.abs(kw_n)\n",
        "\n",
        "fig,ax=plt.subplots(1,3,figsize=(10,10))\n",
        "ax[0].imshow(kw,cmap='gray')\n",
        "ax[0].set_title('obraz oryginalny')\n",
        "ax[1].imshow(kw1,cmap='gray')\n",
        "ax[1].set_title('P2-skalowanie')\n",
        "ax[2].imshow(kw2,cmap='gray')\n",
        "ax[2].set_title('P2-moduł')\n",
        "for i in range(3):\n",
        "  ax[i].axis('off')"
      ],
      "metadata": {
        "id": "WPuhG7XXkf9X"
      },
      "execution_count": null,
      "outputs": []
    },
    {
      "cell_type": "code",
      "source": [
        "#gradient Prewitta\n",
        "#S1\n",
        "S1=np.array([[-1,0,1],[-2,0,2],[-1,0,1]])/9\n",
        "kw_n=cv2.filter2D(kw,-1,S1)\n",
        "#normalizacja maski\n",
        "kw1=kw_n+128\n",
        "kw2=np.abs(kw_n)\n",
        "\n",
        "fig,ax=plt.subplots(1,3,figsize=(10,10))\n",
        "ax[0].imshow(kw,cmap='gray')\n",
        "ax[0].set_title('obraz oryginalny')\n",
        "ax[1].imshow(kw1,cmap='gray')\n",
        "ax[1].set_title('S1-skalowanie')\n",
        "ax[2].imshow(kw2,cmap='gray')\n",
        "ax[2].set_title('S1-moduł')\n",
        "for i in range(3):\n",
        "  ax[i].axis('off')\n",
        "#S2\n",
        "S2=np.array([[-1,-2,-1],[0,0,0],[1,2,1]])/9\n",
        "kw_n=cv2.filter2D(kw,-1,S2)\n",
        "#normalizacja maski\n",
        "kw1=kw_n+128\n",
        "kw2=np.abs(kw_n)\n",
        "\n",
        "fig,ax=plt.subplots(1,3,figsize=(10,10))\n",
        "ax[0].imshow(kw,cmap='gray')\n",
        "ax[0].set_title('obraz oryginalny')\n",
        "ax[1].imshow(kw1,cmap='gray')\n",
        "ax[1].set_title('S2-skalowanie')\n",
        "ax[2].imshow(kw2,cmap='gray')\n",
        "ax[2].set_title('S2-moduł')\n",
        "for i in range(3):\n",
        "  ax[i].axis('off')"
      ],
      "metadata": {
        "id": "DLDbrXqpk5Lh"
      },
      "execution_count": null,
      "outputs": []
    },
    {
      "cell_type": "markdown",
      "metadata": {
        "id": "YliwTyGG-vh8"
      },
      "source": [
        "5. Na podstawie dwóch ortogonalnych masek np. Sobela można stworzyć tzw. filtr kombinowany - pierwiastek kwadratowy z sumy kwadratów gradientów:\n",
        "\\begin{equation}\n",
        "OW = \\sqrt{(O * S1)^2 + (O * S2)^2}\n",
        "\\tag{5}\n",
        "\\end{equation}\n",
        "gdzie:  $OW$ - obraz wyjściowy, $O$ - obraz oryginalny (wejściowy), $S1,S2$ - maski Sobela, $*$ - operacja konwolucji.\n",
        "\n",
        "Zaimplementuj filtr kombinowany.\n",
        "\n",
        "Uwaga. Proszę zwrócić uwagę na konieczność zmiany formatu danych obrazu wejściowego - na typ znakiem\n",
        "\n"
      ]
    },
    {
      "cell_type": "code",
      "execution_count": null,
      "metadata": {
        "id": "gHp8iZDk-vh8"
      },
      "outputs": [],
      "source": [
        "def combination_filter(image,S1,S2):\n",
        "  image=image.astype('int16')\n",
        "  OW=np.sqrt(np.power(cv2.filter2D(image,-1,S1),2)+np.power(cv2.filter2D(image,-1,S2),2))\n",
        "  fig,ax=plt.subplots(1,2,figsize=(7,7))  \n",
        "  ax[0].imshow(image,cmap='gray')\n",
        "  ax[0].set_title('obraz oryginalny')\n",
        "  ax[1].imshow(OW,cmap='gray')\n",
        "  ax[1].set_title('obraz po filtracji-pierwsza wersja')\n",
        "  for i in range(2):\n",
        "    ax[i].axis('off')"
      ]
    },
    {
      "cell_type": "markdown",
      "metadata": {
        "id": "YnUH5AE4-vh9"
      },
      "source": [
        "6. Istnieje alternatywna wersja filtra kombinowanego, która zamiast pierwiastka z sumy kwadratów wykorzystuje sumę modułów (prostsze obliczenia). \n",
        "Zaimplementuj tę wersję. "
      ]
    },
    {
      "cell_type": "code",
      "execution_count": null,
      "metadata": {
        "scrolled": true,
        "id": "akNL8R1t-vh9"
      },
      "outputs": [],
      "source": [
        "def combination_filter2(image,S1,S2):\n",
        "  image=image.astype('int16')\n",
        "  OW=np.sqrt(np.abs(cv2.filter2D(image,-1,S1))+np.abs(cv2.filter2D(image,-1,S2)))\n",
        "  fig,ax=plt.subplots(1,2,figsize=(7,7))  \n",
        "  ax[0].imshow(image,cmap='gray')\n",
        "  ax[0].set_title('obraz oryginalny')\n",
        "  ax[1].imshow(OW,cmap='gray')\n",
        "  ax[1].set_title('obraz po filtracji-druga wersja')\n",
        "  for i in range(2):\n",
        "    ax[i].axis('off')"
      ]
    },
    {
      "cell_type": "markdown",
      "metadata": {
        "id": "361hbJ8_-vh9"
      },
      "source": [
        "7. Wczytaj plik _jet.png_ (zamiast _kw.png_).\n",
        "Sprawdź działanie obu wariantów filtracji kombinowanej."
      ]
    },
    {
      "cell_type": "code",
      "execution_count": null,
      "metadata": {
        "pycharm": {
          "name": "#%%\n"
        },
        "id": "cspOC0og-vh9"
      },
      "outputs": [],
      "source": [
        "jet=cv2.imread('jet.png',cv2.IMREAD_GRAYSCALE)\n",
        "S1=np.array([[-1,0,1],[-2,0,2],[-1,0,1]])/9\n",
        "S2=np.array([[-1,-2,-1],[0,0,0],[1,2,1]])/9\n",
        "combination_filter(jet,S1,S2)\n",
        "combination_filter2(jet,S1,S2)"
      ]
    }
  ],
  "metadata": {
    "celltoolbar": "Raw Cell Format",
    "kernelspec": {
      "display_name": "Python 3",
      "language": "python",
      "name": "python3"
    },
    "language_info": {
      "codemirror_mode": {
        "name": "ipython",
        "version": 3
      },
      "file_extension": ".py",
      "mimetype": "text/x-python",
      "name": "python",
      "nbconvert_exporter": "python",
      "pygments_lexer": "ipython3",
      "version": "3.7.6"
    },
    "colab": {
      "name": "06_contet.ipynb",
      "provenance": []
    }
  },
  "nbformat": 4,
  "nbformat_minor": 0
}