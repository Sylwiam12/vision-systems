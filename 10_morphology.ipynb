{
  "cells": [
    {
      "cell_type": "markdown",
      "metadata": {
        "id": "cZzBCWkkDQrz"
      },
      "source": [
        "# Przekształcenia morfologiczne\n",
        "\n",
        "## Cel:\n",
        "- zapoznanie z podstawowymi przekształceniami morfologicznymi – erozją, dylatacją, otwarciem, zamknieciem, transformacją trafi, nie trafi,\n",
        "- zapoznanie ze złożonymi operacjami morfologicznymi wykorzystującymi rekonstrukcję morfologiczną,\n",
        "- zapoznanie z operacjami morfologicznym dla obrazów w odcieniach szarości – erozją, dylatacją, otwarciem, zamknieciem, filtrami top-hat i bottom-hat,\n",
        "- zapoznanie z wykorzystaniem złożonych operacji morfologicznych przy rozwiązywaniu konkretnego problemu,\n",
        "- zadanie domowe: wykorzystanie morfologii do implementacji ,,gry w życie''."
      ]
    },
    {
      "cell_type": "markdown",
      "metadata": {
        "id": "J7z_FL3ZDQr4"
      },
      "source": [
        "## Przypomnienie teorii\n",
        "\n",
        "### Element strukturalny\n",
        "\n",
        "Element strukturalny obrazu jest to pewien wycinek obrazu (przy dyskretnej reprezentacji obrazu – pewien podzbiór jego elementów). Najcześciej stosowanym elementem strukturalnym jest kwadratowa maska o rozmiarze 3×3 lub 5×5. Niekiedy pożądane są maski o innym kształcie, np. zbliżonym do elipsy.\n",
        "\n",
        "### Erozja\n",
        "\n",
        "Erozja (ang. _erosion_) jest podstawowym przekształceniem morfologicznym. Zakładamy, że obraz wyjściowy zawiera pewien obszar (figurę) X, wyróżniający się pewną charakterystyczną cechą (np. odróżniającą się od tła jasnością). Figura X po wykonaniu operacji erozji to zbiór punktów centralnych wszystkich elementów strukturalnych, które w całości mieszczą się we wnetrzu obszaru X. Miarą stopnia erozji jest wielkość elementu strukturalnego.\n",
        "\n",
        "Erozje można traktować jako filtr minimalny, tj. z danego otoczenia piksela (określanego przez maskę) do obrazu wynikowego wybierana jest wartość minimalna.\n",
        "\n",
        "### Dylatacja\n",
        "\n",
        "Dylatacja (ang. _dilation_): Zakładamy, że obraz wejściowy zawiera obszar X wyróżniający się pewną charakterystyczną cechą (np. jasnością). Figura przekształcona przez dylatacje to zbiór punktów centralnych wszystkich elementów strukturalnych, których którykolwiek punkt mieści sie we wnetrzu obszaru X. Miarą  dylatacji jest wielkość elementu strukturalnego.\n",
        "\n",
        "Dylatacje można traktować jako filtr maksymalny, tj. z danego otoczenia piksela (określanego\n",
        "przez maske) do obrazu wynikowego wybierana jest wartość maksymalna.\n",
        "\n",
        "### Otwarcie i zamknięcie\n",
        "\n",
        "Otwarcie (ang. _opening_) polega na wykonaniu najpierw operacji erozji, a nastepnie dylatacji.\n",
        "\n",
        "> Otwarcie = erozja + dylatacja\n",
        "\n",
        "Zamkniecie (ang. _closing_) polega na wykonaniu najpierw operacji dylatacji, a nastepnie erozji.\n",
        "\n",
        "> Zamkniecie = dylatacja + erozja\n",
        "\n",
        "### Obrazy w odcieniu szarości\n",
        "\n",
        "Obrazy w odcieniu szarości – detekcja dolin i szczytów (top-hat, bottom-hat):\n",
        "\n",
        "Aby wyodrebnić z obrazu lokalne ekstrema można wykorzystać zdefiniowane wcześniej przekształcenia: otwarcie i zamkniecie. W celu wyszukania lokalnych maksimów (szczytów) należy od wyniku otwarcia danego obrazu odjąć obraz wyjściowy. Analogicznie, aby wyodrebnić lokalne minima obrazu, należy dokonać podobnej operacji, z tym że pierwszą operacją bedzie zamkniecie. Uwaga! Należy zwrócić uwagę, że poniższe metody służą do detekcji (pokreślenia) tylko lokalnych ekstremów!"
      ]
    },
    {
      "cell_type": "markdown",
      "metadata": {
        "id": "s5Qw96B8DQr6"
      },
      "source": [
        "## Podstawowe operacje morfologiczne: erozja, dylatacja, otwarcie, zamknięcie, trafi nie trafi\n",
        "\n",
        "1. Wczytaj obraz ertka.bmp\n",
        "2. Wykonaj operację erozji `cv2.erode`. Parametrami funkcji są obraz oraz element strukturalny. Element można stworzyć samodzielnie jako tablicę składającą się z 0 i 1 `np.ones((3,3))` lub posłużyć się funkcją `cv2.getStructuringElement`, do której należy podać kształt `cv2.MORPH_RECT` oraz wielkość elementu `(3,3)`. Na początku użyj kwadratu o rozmiarze 3 pikseli.\n",
        "3. Wyświetl obraz oryginalny oraz po wykonaniu erozji – najlepiej na wspólnym wykresie. Upewnij się, że rozumiesz, jak działa erozja.\n",
        "4. Zmień element strukturalny (inny kształt – koło, diament lub inny rozmiar). Ponownie wykonaj erozję, sprawdź rezultat działania operacji.\n",
        "5. Oprócz zmiany elementu strukturalnego na rezultat erozji można wpłynąć zwiększając liczbę iteracji (np. wykonać erozję trzykrotnie). Ustal element strukturalny na kwadrat o boku 3 piksele. Wykonaj erozję obrazu _ertka_ dwukrotnie, a następnie trzykrotnie. Zaobserwuj rezultaty. Wskazówka: warto zajrzeć do dokumentacji funkcji `erode`.\n",
        "6. Wczytaj obraz buzka.bmp. Dobierz element strukturalny (zdefiniuj go ręcznie jako macierz 0 i 1) w taki sposób, aby usunąć włosy o określonej orientacji (ukośnie lewo lub prawo).\n",
        "7. Uwaga: pokazane metody wpływania na rezultaty erozji wykorzystuje się identycznie dla pozostałych operacji morfologicznych – dylatacji, otwarcia i zamknięcia.\n",
        "8. Operacją odwrotną do erozji jest dylatacja `cv2.dilate`. Ustal element strukturalny na kwadrat o boku 3 piksele. Wykonaj dylatację obrazu _ertka_. Zapoznaj się z rezultatem działania.\n",
        "9. Na wspólnym wykresie wyświetl obraz oryginalny oraz obrazy po operacjach morfologicznych: erozja, dylatacja, otwarcie i zamkniecie. Otwarcie i zamknięcie można uzyskać za pomocą `cv2.morphologyEx(img, operacja, element_strukturalny)`, gdzie typem operacji jest `cv2.MORPH_OPEN` lub `cv2.MORPH_CLOSE`.\n",
        "10. Zmień obraz _ertka_ na _wyspa_, a następnie na _kolka_. Wykonaj na każdym cztery przedstawione operacje morfologiczne. Zaobserwuj rezultaty.\n",
        "11. Minizadanko: wykorzystując poznane operacje morfologiczne spowoduj, że na obrazie _ertka_ pozostanie tylko napis RT (bez wypustek i dziur).\n",
        "12. Niekiedy potrzebne jest wykrycie konkretnych konfiguracji pikseli na obrazie – przydaje się do tego transformacja trafi, nie trafi (ang. _hit-or-miss_). Pozwala ona wykryć na obrazie obecność elementów, które dokładnie odpowiadają masce.\n",
        "13. Wczytaj obraz hom.bmp. Wyświetl go. Załóżmy, że chcemy wykryć na obrazie krzyżyki 3x3. Zdefiniuj następujący element strukturalny:\n",
        "```\n",
        "[0,1,0]\n",
        "[1,1,1]\n",
        "[0,1,0]\n",
        "```\n",
        "Wykonaj transformację trafi, nie trafi – `cv2.morphologyEx(hom, cv2.MORPH_HITMISS, se1)`. Rezultat operacji wyświetl. Czy udało się zrealizować zadanie? Jeżeli pojawiają się u Państwa błędy związane z typem danych, należy obraz wejściowy przekonwertować na skalę szarości: `cv2.cvtColor(hom, cv2.COLOR_BGR2GRAY)`.\n"
      ]
    },
    {
      "cell_type": "code",
      "execution_count": null,
      "metadata": {
        "id": "NPyuxes3DQr9"
      },
      "outputs": [],
      "source": [
        "import matplotlib.pyplot as plt\n",
        "import cv2\n",
        "import numpy as np\n",
        "import os\n",
        "\n",
        "if not os.path.exists(\"buzka.bmp\") :\n",
        "    !wget https://raw.githubusercontent.com/vision-agh/poc_sw/master/10_Morphology/buzka.bmp --no-check-certificate\n",
        "if not os.path.exists(\"calculator.bmp\") :\n",
        "    !wget https://raw.githubusercontent.com/vision-agh/poc_sw/master/10_Morphology/calculator.bmp --no-check-certificate\n",
        "if not os.path.exists(\"ertka.bmp\") :\n",
        "    !wget https://raw.githubusercontent.com/vision-agh/poc_sw/master/10_Morphology/ertka.bmp --no-check-certificate\n",
        "if not os.path.exists(\"ferrari.bmp\") :\n",
        "    !wget https://raw.githubusercontent.com/vision-agh/poc_sw/master/10_Morphology/ferrari.bmp --no-check-certificate\n",
        "if not os.path.exists(\"fingerprint.bmp\") :\n",
        "    !wget https://raw.githubusercontent.com/vision-agh/poc_sw/master/10_Morphology/fingerprint.bmp --no-check-certificate\n",
        "if not os.path.exists(\"hom.bmp\") :\n",
        "    !wget https://raw.githubusercontent.com/vision-agh/poc_sw/master/10_Morphology/hom.bmp --no-check-certificate\n",
        "if not os.path.exists(\"kolka.bmp\") :\n",
        "    !wget https://raw.githubusercontent.com/vision-agh/poc_sw/master/10_Morphology/kolka.bmp --no-check-certificate\n",
        "if not os.path.exists(\"kosc.bmp\") :\n",
        "    !wget https://raw.githubusercontent.com/vision-agh/poc_sw/master/10_Morphology/kosc.bmp --no-check-certificate\n",
        "if not os.path.exists(\"szkielet.bmp\") :\n",
        "    !wget https://raw.githubusercontent.com/vision-agh/poc_sw/master/10_Morphology/szkielet.bmp --no-check-certificate\n",
        "if not os.path.exists(\"text.bmp\") :\n",
        "    !wget https://raw.githubusercontent.com/vision-agh/poc_sw/master/10_Morphology/text.bmp --no-check-certificate\n",
        "if not os.path.exists(\"wyspa.bmp\") :\n",
        "    !wget https://raw.githubusercontent.com/vision-agh/poc_sw/master/10_Morphology/wyspa.bmp --no-check-certificate\n",
        "if not os.path.exists(\"rice.png\") :\n",
        "    !wget https://raw.githubusercontent.com/vision-agh/poc_sw/master/10_Morphology/rice.png --no-check-certificate"
      ]
    },
    {
      "cell_type": "code",
      "source": [
        "#erozja\n",
        "ertka=cv2.imread('ertka.bmp',cv2.IMREAD_GRAYSCALE)\n",
        "ertka_erode=cv2.erode(ertka, np.ones((3,3)))\n",
        "fig,ax=plt.subplots(1,2,figsize=(10,10))\n",
        "ax[0].imshow(ertka,cmap='gray')\n",
        "ax[0].axis('off')\n",
        "ax[0].set_title('obraz')\n",
        "ax[1].imshow(ertka_erode,cmap='gray')\n",
        "ax[1].axis('off')\n",
        "ax[1].set_title('obraz po erozji')\n",
        "#inny element strukturalny\n",
        "new_structure=cv2.getStructuringElement(cv2.MORPH_ELLIPSE,(5,5))\n",
        "ertka_erode2=cv2.erode(ertka,new_structure)\n",
        "fig,ax=plt.subplots(1,2,figsize=(10,10))\n",
        "ax[0].imshow(ertka,cmap='gray')\n",
        "ax[0].axis('off')\n",
        "ax[0].set_title('obraz')\n",
        "ax[1].imshow(ertka_erode2,cmap='gray')\n",
        "ax[1].axis('off')\n",
        "ax[1].set_title('obraz po erozji')\n",
        "#iteracje\n",
        "#2\n",
        "square=np.ones((3,3))\n",
        "ertka_erode2=cv2.erode(ertka,square,iterations=2)\n",
        "fig,ax=plt.subplots(1,2,figsize=(10,10))\n",
        "ax[0].imshow(ertka,cmap='gray')\n",
        "ax[0].axis('off')\n",
        "ax[0].set_title('obraz')\n",
        "ax[1].imshow(ertka_erode2,cmap='gray')\n",
        "ax[1].axis('off')\n",
        "ax[1].set_title('obraz po erozji-2 iteracje')\n",
        "#3\n",
        "square=np.ones((3,3))\n",
        "ertka_erode2=cv2.erode(ertka,square,iterations=3)\n",
        "fig,ax=plt.subplots(1,2,figsize=(10,10))\n",
        "ax[0].imshow(ertka,cmap='gray')\n",
        "ax[0].axis('off')\n",
        "ax[0].set_title('obraz')\n",
        "ax[1].imshow(ertka_erode2,cmap='gray')\n",
        "ax[1].axis('off')\n",
        "ax[1].set_title('obraz po erozji-3 iteracje')\n",
        "#operacje na obrazie bluzka\n",
        "bluzka=cv2.imread('bluzka.bmp',cv2.IMREAD_GRAYSCALE)\n",
        "structure=np.array([[1,0,0],[0,1,0],[0,0,1]],np.uint8)\n",
        "ertka_erode=cv2.erode(ertka,structure)\n",
        "fig,ax=plt.subplots(1,2,figsize=(10,10))\n",
        "ax[0].imshow(ertka,cmap='gray')\n",
        "ax[0].axis('off')\n",
        "ax[0].set_title('obraz')\n",
        "ax[1].imshow(ertka_erode2,cmap='gray')\n",
        "ax[1].axis('off')\n",
        "ax[1].set_title('obraz po erozji')"
      ],
      "metadata": {
        "id": "0WvX-cJ3FP-Z"
      },
      "execution_count": null,
      "outputs": []
    },
    {
      "cell_type": "code",
      "source": [
        "#dylatacja\n",
        "ertka=cv2.imread('ertka.bmp',cv2.IMREAD_GRAYSCALE)\n",
        "ertka_dilate=cv2.dilate(ertka, np.ones((3,3)))\n",
        "# fig,ax=plt.subplots(1,2,figsize=(10,10))\n",
        "# ax[0].imshow(ertka,cmap='gray')\n",
        "# ax[0].axis('off')\n",
        "# ax[0].set_title('obraz')\n",
        "# ax[1].imshow(ertka_dilate,cmap='gray')\n",
        "# ax[1].axis('off')\n",
        "# ax[1].set_title('obraz po erozji')\n",
        "\n",
        "def morfology(image,structure):\n",
        "  image_erode=cv2.erode(image, structure)\n",
        "  image_dilate=cv2.dilate(image,structure)\n",
        "  image_open=cv2.morphologyEx(image,cv2.MORPH_OPEN,structure)\n",
        "  image_close=cv2.morphologyEx(image,cv2.MORPH_CLOSE,structure)\n",
        "  fig2,ax=plt.subplots(1,5,figsize=(14,14))\n",
        "  ax[0].imshow(image,cmap='gray')\n",
        "  ax[0].axis('off')\n",
        "  ax[0].set_title('obraz')\n",
        "  ax[1].imshow(image_erode,cmap='gray')\n",
        "  ax[1].axis('off')\n",
        "  ax[1].set_title('obraz po erozji')\n",
        "  ax[2].imshow(image_dilate,cmap='gray')\n",
        "  ax[2].axis('off')\n",
        "  ax[2].set_title('obraz po dylatacji')\n",
        "  ax[3].imshow(image_open,cmap='gray')\n",
        "  ax[3].axis('off')\n",
        "  ax[3].set_title('obraz po otwarciu')  \n",
        "  ax[4].imshow(image_open,cmap='gray')\n",
        "  ax[4].axis('off')\n",
        "  ax[4].set_title('obraz po zamknięciu') \n",
        "\n",
        "morfology(ertka,np.ones((3,3)))\n",
        "wyspa=cv2.imread('wyspa.bmp',cv2.IMREAD_GRAYSCALE)\n",
        "kolka=cv2.imread('kolka.bmp',cv2.IMREAD_GRAYSCALE)\n",
        "morfology(wyspa,np.ones((3,3)))\n",
        "morfology(kolka,np.ones((3,3)))"
      ],
      "metadata": {
        "id": "8tsCMZl2Jm9F"
      },
      "execution_count": null,
      "outputs": []
    },
    {
      "cell_type": "code",
      "source": [
        "#minizadanko\n",
        "ertka=cv2.imread('ertka.bmp',cv2.IMREAD_GRAYSCALE)\n",
        "ertka_open=cv2.morphologyEx(ertka,cv2.MORPH_OPEN,np.ones((3,3)))\n",
        "ertka_oclose=cv2.morphologyEx(ertka_open,cv2.MORPH_CLOSE,np.ones((3,3)))\n",
        "plt.imshow(ertka_oclose,cmap='gray')\n",
        "plt.title('minizadanko')\n",
        "plt.axis('off')\n"
      ],
      "metadata": {
        "id": "stqrQh5HO88k"
      },
      "execution_count": null,
      "outputs": []
    },
    {
      "cell_type": "code",
      "source": [
        "#home\n",
        "structure=np.array([[0,1,0],[1,1,1],[0,1,0]])\n",
        "hom=cv2.imread('hom.bmp',cv2.IMREAD_GRAYSCALE)\n",
        "result=cv2.morphologyEx(hom, cv2.MORPH_HITMISS, structure)\n",
        "plt.imshow(result,cmap='gray')\n",
        "plt.axis('off')"
      ],
      "metadata": {
        "id": "aTbWimi5LMEj"
      },
      "execution_count": null,
      "outputs": []
    },
    {
      "cell_type": "markdown",
      "metadata": {
        "id": "XkZMCqsSDQsB"
      },
      "source": [
        "## Inne operacje morfologiczne\n",
        "Do innych operacji morfologicznych należą między innymi ścienianie (ang. _thinning_), szkieletyzacja (ang. _skeletonization_), rekonstrukcja morfologiczna (ang. _morphological reconstruction_), czyszczenie brzegu (ang. _clearing border_) i uzupełnianie dziur (ang. _filling holes_). W tym rozdziale zostanie zaprezentowana rekonstrukcja morfologiczna.\n",
        "\n",
        "Rekonstrukcja morfologiczna jest operacją trójargumentową. Wymaga podania markera (obrazu, od którego zacznie się transformacja), maski (ograniczenia transformacji) oraz elementu strukturalnego. Operacja polega na wykonywaniu kroków (dopóki w dwóch kolejnych iteracjach nic się nie zmieni):\n",
        "- dylatacja obrazu markera (z danym elementem strukturalnym),\n",
        "- nowy marker = część wspólna dylatacji starego markera i maski.\n",
        "\n",
        "Trzy operacje, które wykorzystują schemat rekonstrukcji to: \n",
        "- otwarcie poprzez rekonstrukcję,\n",
        "- wypełnianie dziur,\n",
        "- czyszczenie brzegu.\n",
        "\n",
        "### Otwarcie poprzez rekonstrukcję:\n",
        "- Wczytaj obraz text.bmp, wyświetl go.\n",
        "- Załóżmy, że chcemy wykryć na obrazie litery, które zawierają długie pionowe fragmenty. W pierwszym podejściu stosujemy morfologiczne otwarcie z maską pionową o wysokości 51 pikseli (taka jest średnia wysokość liter na obrazie – `np.ones((51,1))`. Sprawdź rezultat takiej operacji.\n",
        "- Detekcja wprawdzie sie udała, ale otrzymujemy tylko pionowe kreski.\n",
        "- Rozwiązaniem jest rekonstrukcja – jako marker wybieramy obraz oryginalny poddany erozji. Maskę stanowi obraz oryginalny. Samodzielnie dobierz element strukturalny.\n",
        "- Zaimplementuj rekonstrukcję i porównaj efekt otwarcia i rekonstrukcji.\n"
      ]
    },
    {
      "cell_type": "code",
      "execution_count": null,
      "metadata": {
        "id": "d-t_LbSzDQsC"
      },
      "outputs": [],
      "source": [
        "text=cv2.imread('text.bmp',cv2.IMREAD_GRAYSCALE)\n",
        "plt.imshow(text,cmap='gray')\n",
        "plt.axis('off')"
      ]
    },
    {
      "cell_type": "code",
      "source": [
        "mask=np.ones((51,1))\n",
        "text_open=cv2.morphologyEx(text,cv2.MORPH_OPEN,mask)\n",
        "plt.imshow(text_open, 'gray', vmin=0, vmax=256)\n",
        "plt.axis('off')\n",
        "plt.show()"
      ],
      "metadata": {
        "id": "9RLK0ERq-pab"
      },
      "execution_count": null,
      "outputs": []
    },
    {
      "cell_type": "code",
      "source": [
        "#rekonstrukcja obrazu text\n",
        "kernel=np.ones(((51,1)), dtype=np.uint8)\n",
        "mask=text\n",
        "marker=cv2.erode(text,kernel)\n",
        "\n",
        "while True:\n",
        "    text_dilate = cv2.dilate(marker,np.ones((3,3)))\n",
        "    text_dilate=cv2.bitwise_and(text_dilate,mask)\n",
        "\n",
        "    if (marker == text_dilate).all():\n",
        "        marker = text_dilate\n",
        "        break\n",
        "    marker = text_dilate\n",
        "    \n",
        "plt.imshow(marker, cmap='gray')\n",
        "plt.axis('off')\n",
        "plt.show()"
      ],
      "metadata": {
        "id": "EU7KAP6_CqaC"
      },
      "execution_count": null,
      "outputs": []
    },
    {
      "cell_type": "markdown",
      "metadata": {
        "id": "ddV1yWRSDQsC"
      },
      "source": [
        "## Operacje morfologiczne dla obrazów w skali szarości\n",
        "\n",
        "Wszystkie dotychczasowe operacje (oprócz transformacji trafi, nie trafi) mają swoje odpowieniki dla obrazów w skali szarości. Konieczne jest tylko podanie definicji erozji i dylatacji w nieco innej formie:\n",
        "- Erozja – filtr minimalny.\n",
        "- Dylatacja – filtr maksymalny.\n",
        "\n",
        "\n",
        "1. Wczytaj obraz ferrari.bmp i wykonaj operacje morfologiczne: erozję i dylatację. Element strukturalny ustal na kwadrat 3×3. Oblicz też różnicę pomiędzy obrazem po dylatacji a po erozji – czyli tzw. gradient morfologiczny. Rezultaty wyświetl na wspólnym wykresie.\n",
        "2. Otwarcie to tłumienie jasnych detali na obrazie. Zamkniecie to tłumienie ciemnych detali na obrazie. Potwierdź powyższe stwierdzenia wykonując obie operacje na obrazie _ferrari_.\n",
        "3. Wykonaj operacje top-hat i bottom-hat `cv2.morphologyEx(img, cv2.MORPH_TOPHAT, strel)` oraz `cv2.morphologyEx(img, cv2.MORPH_BLACKHAT, strel)` na obrazie _ferrari_. Jakie obszary udało sie wykryć za pomocą tej operacji? Z jakich operacji składa sie filtr top-hat?\n",
        "4. Wczytaj obraz rice.png (z laboratorium o binaryzacji). Wyświetl go. Zwróć uwage na niejednorodne oświetlenie. Wykonaj operacje top-hat z dużym elementem strukturalnym (np. koło o rozmiarze 10) na tym obrazie. Wynik wyświetl. Co stało się z niejednorodnością oświetlenia?"
      ]
    },
    {
      "cell_type": "code",
      "execution_count": null,
      "metadata": {
        "pycharm": {
          "name": "#%%\n"
        },
        "id": "8sVwf6AADQsD"
      },
      "outputs": [],
      "source": [
        "#erozja i dylatacja \n",
        "ferrari=cv2.imread('ferrari.bmp',cv2.IMREAD_GRAYSCALE)\n",
        "structure=np.ones((3,3))\n",
        "ferrari_erode=cv2.erode(ferrari,structure)\n",
        "ferrari_dilate=cv2.dilate(ferrari,structure)\n",
        "difference=np.abs(ferrari_dilate-ferrari_erode)\n",
        "fig2,ax=plt.subplots(1,4,figsize=(20,20))\n",
        "ax[0].imshow(ferrari,cmap='gray')\n",
        "ax[0].axis('off')\n",
        "ax[0].set_title('obraz')\n",
        "ax[1].imshow(ferrari_erode,cmap='gray')\n",
        "ax[1].axis('off')\n",
        "ax[1].set_title('obraz po erozji')\n",
        "ax[2].imshow(ferrari_dilate,cmap='gray')\n",
        "ax[2].axis('off')\n",
        "ax[2].set_title('obraz po dylatacji')\n",
        "ax[3].imshow(difference,cmap='gray')\n",
        "ax[3].axis('off')\n",
        "ax[3].set_title('różnica')\n",
        "\n",
        "\n",
        "ferrari_tophat=cv2.morphologyEx(ferrari, cv2.MORPH_TOPHAT, structure)\n",
        "ferrari_bottomhat=cv2.morphologyEx(ferrari, cv2.MORPH_BLACKHAT, structure)\n",
        "fig2,ax=plt.subplots(1,2,figsize=(10,20))\n",
        "ax[0].imshow(ferrari_tophat,cmap='gray')\n",
        "ax[0].axis('off')\n",
        "ax[0].set_title('top-hat')\n",
        "ax[1].imshow(ferrari_bottomhat,cmap='gray')\n",
        "ax[1].axis('off')\n",
        "ax[1].set_title('bottom-hat')\n",
        "#za  pomocą operacji top-hat zostały wyróżnione jasne elemeny na ciemnym tle\n",
        "#za pomocą operacji bottom-hat zostały wyróżnione ciemne elementy na jasnym tle\n",
        "\n"
      ]
    },
    {
      "cell_type": "code",
      "source": [
        "#obraz rice\n",
        "rice=cv2.imread('rice.png',cv2.IMREAD_GRAYSCALE)\n",
        "rice_tophat=cv2.morphologyEx(rice, cv2.MORPH_TOPHAT, np.ones((10,10)))\n",
        "fig,ax=plt.subplots(2,1,figsize=(7,7))\n",
        "ax[0].imshow(rice,cmap='gray')\n",
        "ax[0].axis('off')\n",
        "ax[0].set_title('obraz oryginalny')\n",
        "ax[1].imshow(rice_tophat,cmap='gray')\n",
        "ax[1].axis('off')\n",
        "ax[1].set_title('po wykorzystaniu top-hat')\n",
        "#po wykonaniu operacji nie widać,że oświetlanie było początkowo niejednorode,więc oświelenie zostało wyrównane"
      ],
      "metadata": {
        "id": "JMJQOOJ_MY6e"
      },
      "execution_count": null,
      "outputs": []
    },
    {
      "cell_type": "markdown",
      "metadata": {
        "id": "PVValUv8DQsE"
      },
      "source": [
        "## Przykład zastosowania morfologii\n",
        "\n",
        "1. Wczytaj obraz calculator.bmp. Wyświetl go. Zadanie do realizacji: wyizolować tekst na klawiszach kalkulatora.\n",
        "2. W pierwszym kroku usunięte zostaną poziome odbicia znajdujące się na górnej krawędzi każdego z klawiszy. Wykorzystamy fakt, że odbicie jest dłuższe niż jakikolwiek pojedynczy znak. Wykonujemy otwarcie przez rekonstrukcję (można wykorzystać kod z wcześniejszego zadania, ale tym razem mamy do czynienia z obrazem w skali szarości zamiast z binarnym – proszę się zastanowić, jaka operacja jest odpowiednikiem operacji AND?):\n",
        "  - początkowo wykonujemy erozję z elementem strukturalnym w postaci poziomej linii — `np.ones((1,71))`,\n",
        "  - następnie dokonujemy rekonstrukcji: marker – obraz po erozji, maska – obraz oryginalny,\n",
        "  - wynik operacji wyświetl. Dla porównania wyświetl wynik klasycznego otwarcia z takim samym elementem strukturalnym. W czym otwarcie przez rekonstrukcję jest lepsze od klasycznego?\n",
        "3. W poprzednim kroku (tj. w wyniku otwarcia przez rekonstrukcję) uzyskaliśmy obraz tła. Należy go teraz odjąć od obrazu oryginalnego. Ten rodzaj operacji można nazwać top-hat poprzez rekonstrukcję. Wynik wyświetl. Dla porównania wyświetl wynik klasycznej operacji top-hat – różnicy miedzy obrazem oryginalnym a obrazem po klasycznym otwarciu.\n",
        "4. W podobny sposób należy zlikwidować odblaski pionowe:\n",
        "  - erozja z elementem strukturalnym w postaci poziomej linii – `np.ones((1,11))` – zostaną zachowane wszystkie znaki (bo prawie wszystkie są szersze). Uwaga. Operacje wykonujemy na uzyskanym w kroku 3 rezultacie odjęcia od obrazu oryginalnego, obrazu po rekonstrukcji.\n",
        "  - rekonstrukcja: marker – obraz po erozji, maska – obraz z punktu 3 (różnica oryginalnego i tła),\n",
        "  - wynik wyświetl.\n",
        "5. Rezultat jest niemal satysfakcjonujący, ale wystąpił problem z cienkimi pionowymi elementami napisów – np. I na klawiszu ASIN. Wykorzystując fakt, że usunięte znaki znajdują się w bezpośrednim sąsiedztwie istniejących znaków wykonujemy następujące operacje:\n",
        "  - dylatacja z elementem `np.ones((1,21))`,\n",
        "  - rekonstrukcja z markerem w postaci – minimum(obraz po dylatacji z punktu powyżej, obraz uzyskany w punkcie 3, tj. różnica oryginalnego i tła) oraz maską – obraz z pkt. 3.\n",
        "6. Rezultat wyświetl. Czy za pomocą zaproponowanych operacji udało się uzyskać zamierzony efekt – ekstrakcję napisów?\n"
      ]
    },
    {
      "cell_type": "code",
      "execution_count": null,
      "metadata": {
        "pycharm": {
          "name": "#%%\n"
        },
        "id": "yRVlyGOnDQsF"
      },
      "outputs": [],
      "source": [
        "calculator=cv2.imread('calculator.bmp',cv2.IMREAD_GRAYSCALE)\n",
        "plt.imshow(calculator,cmap='gray')\n",
        "plt.axis('off')"
      ]
    },
    {
      "cell_type": "code",
      "source": [
        "def reconstruction(mask,kernel,marker=None):\n",
        "    if marker is None:\n",
        "        marker=cv2.erode(mask,kernel)\n",
        "    while True:\n",
        "        text_dilate = cv2.dilate(marker,np.ones((3,3)))\n",
        "        text_dilate=np.min((text_dilate, mask),axis=0)\n",
        "        if (marker == text_dilate).all():\n",
        "            return marker\n",
        "        marker = text_dilate"
      ],
      "metadata": {
        "id": "b94rmrQX6pwB"
      },
      "execution_count": null,
      "outputs": []
    },
    {
      "cell_type": "code",
      "source": [
        "reconstruction1=reconstruction(calculator,np.ones((1,71)))\n",
        "plt.imshow(reconstruction1,cmap='gray')\n",
        "plt.axis('off')"
      ],
      "metadata": {
        "id": "PSYEVD84D-ZX"
      },
      "execution_count": null,
      "outputs": []
    },
    {
      "cell_type": "code",
      "source": [
        "calculator_open=cv2.morphologyEx(calculator,cv2.MORPH_OPEN,np.ones((1,71)))\n",
        "plt.imshow(calculator_open, cmap='gray')\n",
        "plt.axis('off')"
      ],
      "metadata": {
        "id": "I61g59Xl7cHi"
      },
      "execution_count": null,
      "outputs": []
    },
    {
      "cell_type": "code",
      "source": [
        "calculator_tophat=calculator-reconstruction1\n",
        "plt.imshow(calculator_tophat,cmap= 'gray')\n",
        "plt.axis('off')"
      ],
      "metadata": {
        "id": "yGCvFhSM8Mrq"
      },
      "execution_count": null,
      "outputs": []
    },
    {
      "cell_type": "code",
      "source": [
        "reconstruction_tophat=cv2.morphologyEx(calculator, cv2.MORPH_TOPHAT, np.ones((1,71)))\n",
        "plt.imshow(reconstruction_tophat, cmap='gray')\n",
        "plt.axis('off')"
      ],
      "metadata": {
        "id": "J60OxRFo9DBD"
      },
      "execution_count": null,
      "outputs": []
    },
    {
      "cell_type": "code",
      "source": [
        "calculator2=reconstruction(reconstruction_tophat,np.ones((1,11)))\n",
        "plt.imshow(calculator2, cmap='gray')\n",
        "plt.axis('off')"
      ],
      "metadata": {
        "id": "pk1ni4AV9dXt"
      },
      "execution_count": null,
      "outputs": []
    },
    {
      "cell_type": "code",
      "source": [
        "calculator_dilate=cv2.dilate(calculator2,np.ones((1,21)))\n",
        "marker = np.min((calculator_dilate,reconstruction_tophat),axis=0)\n",
        "kernel1=np.ones((1,21))\n",
        "result=reconstruction(reconstruction_tophat,kernel1,marker)\n",
        "plt.imshow(result,cmap='gray')\n",
        "plt.axis('off')\n",
        "#udało się uzyskać zamierzony efekt"
      ],
      "metadata": {
        "id": "3lhI3T_N-XR8"
      },
      "execution_count": null,
      "outputs": []
    }
  ],
  "metadata": {
    "celltoolbar": "Raw Cell Format",
    "kernelspec": {
      "display_name": "Python 3",
      "language": "python",
      "name": "python3"
    },
    "language_info": {
      "codemirror_mode": {
        "name": "ipython",
        "version": 3
      },
      "file_extension": ".py",
      "mimetype": "text/x-python",
      "name": "python",
      "nbconvert_exporter": "python",
      "pygments_lexer": "ipython3",
      "version": "3.9.10"
    },
    "colab": {
      "name": "10_morphology.ipynb",
      "provenance": [],
      "collapsed_sections": []
    }
  },
  "nbformat": 4,
  "nbformat_minor": 0
}