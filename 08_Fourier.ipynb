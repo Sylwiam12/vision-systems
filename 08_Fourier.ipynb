{
  "cells": [
    {
      "cell_type": "markdown",
      "metadata": {
        "pycharm": {
          "name": "#%% md\n"
        },
        "id": "upZf4-bZAfFP"
      },
      "source": [
        "# Transformata Fouriera dla obrazów cyfrowych. Filtracja w dziedzinie częstotliwości."
      ]
    },
    {
      "cell_type": "markdown",
      "metadata": {
        "collapsed": false,
        "pycharm": {
          "name": "#%% md\n"
        },
        "id": "DBYJ3eMyAfFS"
      },
      "source": [
        "## Cel ćwiczenia\n",
        "\n",
        "- Zapoznanie z wykorzystaniem transformaty Fouriera w przetwarzaniu obrazów cyfrowych.\n",
        "- Zapoznanie z pojęciem F-obrazu (amplitudy i fazy).\n",
        "- Zapoznanie z własnościami transformaty Fouriera.\n",
        "- Zapoznanie z filtracją w dziedzinie częstotliwości.\n",
        "\n",
        "Na jednym z poprzednich ćwiczeń zetknęliśmy się z pojęciem konwolucji.\n",
        "Przykładem może być filtracja dolno i górnoprzepustowa.\n",
        "Operacja ta odpowiada mnożeniu w dziedzinie częstotliwości zgodnie z zależnością:\n",
        "\n",
        "\\begin{equation}\n",
        "\\mathcal{F}(g(x,y)*h(x,y)) = \\mathcal{F}(g(x,y)) \\cdot \\mathcal{F}(h(x,y))\n",
        "\\tag{1}\n",
        "\\end{equation}\n",
        "\n",
        "gdzie: $\\mathcal{F}$ oznacza transformatę Fouriera, a $*$ jest splotem.\n",
        "\n",
        "Operacja filtracji w dziedzinie częstotliwości może okazać się bardziej efektywna, jeżeli operacje $fft$ i $ifft$ (odpowiednio szybka transformata Fouriera -- *fast Fourier transform* -- oraz odwrotna szybka transformata Fouriera -- *inverse fast Fourier transform*) zajmą mniej czasu niż klasyczna konwolucja (zazwyczaj ma to miejsce dla dużego obrazu, z dużą maską).\n",
        "\n",
        "Sama filtracja w dziedzinie częstotliwości to mnożenie punktowe całego obrazu przez jedną maskę.\n",
        "\n",
        "W przypadku filtracji w dziedzinie częstotliwości zakłada się, że obraz \"zawija się\" na brzegach, co może powodować pewne artefakty (zostanie to pokazane w trakcie ćwiczenia).\n",
        "\n",
        "W dziedzinie częstotliwości \"działają\" tylko filtry liniowe.\n",
        "Filtry medianowe, maksymalne, minimalne itp. nie mają swoich odpowiedników."
      ]
    },
    {
      "cell_type": "markdown",
      "metadata": {
        "collapsed": false,
        "pycharm": {
          "name": "#%% md\n"
        },
        "id": "69LYhit9AfFS"
      },
      "source": [
        "## Dwuwymiarowa transformata Fouriera\n",
        "\n",
        "1. Wczytaj plik \"dwieFale.bmp\" w skali szarości.\n",
        "Jest to obraz powstały na podstawie następującej zależności:\n",
        "\n",
        "\\begin{equation}\n",
        "L(m, n) = 128 + 127 \\cdot \\cos(\\frac{2\\pi m}{32}+\\frac{3\\pi}{4}) \\cdot \\cos(\\frac{2\\pi n}{8}-\\frac{\\pi}{2})\n",
        "\\tag{2}\n",
        "\\end{equation}\n",
        "\n",
        "gdzie: $m$ i $n$ są odpowiednio numerami wierszy i kolumn.\n",
        "\n",
        "2. Do realizacji dwuwymiarowej transformaty Fouriera służy funkcja `cv2.dft`.\n",
        "Ustaw flagę `flags=cv2.DFT_COMPLEX_OUTPUT`.\n",
        "Wykonaj transformatę na wczytanym obrazie.\n",
        "W ten sposób uzyskuje się tzw. F-obraz.\n",
        "\n",
        "3. Najniższe częstotliwości znajdują się w lewym-górnym rogu obrazu.\n",
        "Dla celów wizualizacji (ale też przetwarzania) często wykonuje się tzw. przesunięcie F-obrazu, które powoduje, że niskie częstotliwości przesuwane są do środka obrazu.\n",
        "Wykorzystaj funkcję `np.fft.fftshift`.\n",
        "Jako pierwszy argument podaj wynik transformaty Fouriera.\n",
        "Jako drugi argument podaj numery osi, wzdłuż których należy wykonać operację.\n",
        "Pierwsza oś odnosi się do wierszy obrazu.\n",
        "Druga oś odnosi się do kolumn obrazu.\n",
        "Trzecia oś to część rzeczywista (`[:, :, 0]`) lub urojona (`[:, :, 1]`).\n",
        "W naszym przypadku argument powinien wyglądać tak `[0,1]`.\n",
        "\n",
        "4. Wyświetl wynik transformaty.\n",
        "Na wspólnym wykresie umieść obraz oryginalny, amplitudę i fazę F-obrazu.\n",
        "Amplitudę i fazę wyznacz za pomocą funkcji `cv2.cartToPolar`.\n",
        "Pierwszym argumentem funkcji jest część rzeczywista wyniku, a drugim urojona.\n",
        "Uwaga. W razie wątpliwości proszę sprawdzić rozmiary rezultatu transformaty Fouriera oraz przesunięcia.\n",
        "\n",
        "5. Dla wizualizacji oblicz logarytm dziesiętny amplitudy: `ALog = np.log10(A + 1)`.\n",
        "Wyświetl go zamiast amplitudy na poprzednim wykresie.\n",
        "\n",
        "6. Wczytaj obrazy *kolo.bmp*, *kwadrat.bmp*, *kwadrat45.bmp*, *trojkat.bmp*.\n",
        "Czy analizując F-obraz można coś powiedzieć o kierunku krawędzi obiektów?\n",
        "\n",
        "7. Sprawdź (empirycznie) poprawność stwierdzenia:\n",
        "\n",
        "`Dwuwymiarowa transformata Fouriera jest złożeniem dwóch transformat jednowymiarowych (wykonanych np. najpierw wierszowo, a później kolumnowo).` \n",
        "Jednowymiarowa transformata realizowana jest za pomocą funkcji fft (z bibloteki Numpy).\n",
        "\n",
        "Wykonaj najpierw transformatę po wierszach: `FRow = np.fft.fft(I, axis=0)`.\n",
        "Następnie po kolumnach: `FCol = np.fft.fft(FRow, axis=1)`.\n",
        "Numpy zwraca wynik jako tablicę liczb zespolonych.\n",
        "Część rzeczywistą można otrzymać w następujący sposób: `FCol.real`, a urojoną: `FCol.imag`.\n",
        "Porównaj tak uzyskany wynik z rezultatem działania funkcji `cv2.dft`.\n",
        "Można to zrobić wizualnie lub z wykorzystaniem funkcji `cv2.absdiff`."
      ]
    },
    {
      "cell_type": "code",
      "execution_count": null,
      "metadata": {
        "pycharm": {
          "name": "#%% Zadanie 1 - wyświetlanie\n"
        },
        "id": "6dSE3vdmAfFT"
      },
      "outputs": [],
      "source": [
        "import cv2\n",
        "from matplotlib import pyplot as plt\n",
        "import numpy as np\n",
        "import math\n",
        "import os\n",
        "\n",
        "# Load required files\n",
        "if not os.path.exists(\"dwieFale.bmp\") :\n",
        "    !wget https://raw.githubusercontent.com/vision-agh/poc_sw/master/08_Fourier/dwieFale.bmp --no-check-certificate\n",
        "if not os.path.exists(\"kolo.bmp\") :\n",
        "    !wget https://raw.githubusercontent.com/vision-agh/poc_sw/master/08_Fourier/kolo.bmp --no-check-certificate\n",
        "if not os.path.exists(\"kwadrat.bmp\") :\n",
        "    !wget https://raw.githubusercontent.com/vision-agh/poc_sw/master/08_Fourier/kwadrat.bmp --no-check-certificate\n",
        "if not os.path.exists(\"kwadrat45.bmp\") :\n",
        "    !wget https://raw.githubusercontent.com/vision-agh/poc_sw/master/08_Fourier/kwadrat45.bmp --no-check-certificate\n",
        "if not os.path.exists(\"kwadratKL.bmp\") :\n",
        "    !wget https://raw.githubusercontent.com/vision-agh/poc_sw/master/08_Fourier/kwadratKL.bmp --no-check-certificate\n",
        "if not os.path.exists(\"kwadratS.bmp\") :\n",
        "    !wget https://raw.githubusercontent.com/vision-agh/poc_sw/master/08_Fourier/kwadratS.bmp --no-check-certificate\n",
        "if not os.path.exists(\"kwadratT.bmp\") :\n",
        "    !wget https://raw.githubusercontent.com/vision-agh/poc_sw/master/08_Fourier/kwadratT.bmp --no-check-certificate\n",
        "if not os.path.exists(\"lena.bmp\") :\n",
        "    !wget https://raw.githubusercontent.com/vision-agh/poc_sw/master/08_Fourier/lena.bmp --no-check-certificate\n",
        "if not os.path.exists(\"trojkat.bmp\") :\n",
        "    !wget https://raw.githubusercontent.com/vision-agh/poc_sw/master/08_Fourier/trojkat.bmp --no-check-certificate\n",
        "if not os.path.exists(\"literki.bmp\") :\n",
        "    !wget https://raw.githubusercontent.com/vision-agh/poc_sw/master/08_Fourier/literki.bmp --no-check-certificate\n",
        "if not os.path.exists(\"wzorA.bmp\") :\n",
        "    !wget https://raw.githubusercontent.com/vision-agh/poc_sw/master/08_Fourier/wzorA.bmp --no-check-certificate\n",
        "\n",
        "I_Fale = cv2.imread('dwieFale.bmp', cv2.IMREAD_GRAYSCALE)\n",
        "\n",
        "figFale, axsFale = plt.subplots()\n",
        "\n",
        "axsFale.imshow(I_Fale, 'gray', vmin=0, vmax=256)\n",
        "axsFale.axis('off')\n",
        "\n",
        "figFale.show()"
      ]
    },
    {
      "cell_type": "code",
      "execution_count": null,
      "metadata": {
        "pycharm": {
          "name": "#%% Zadanie 1 - FFT2\n"
        },
        "id": "FxExyRedAfFU"
      },
      "outputs": [],
      "source": [
        "kolo=cv2.imread('kolo.bmp', cv2.IMREAD_GRAYSCALE)\n",
        "kwadrat=cv2.imread('kwadrat.bmp', cv2.IMREAD_GRAYSCALE)\n",
        "kwadrat45=cv2.imread('kwadrat45.bmp', cv2.IMREAD_GRAYSCALE)\n",
        "trojkat=cv2.imread('trojkat.bmp', cv2.IMREAD_GRAYSCALE)\n",
        "def fourier(image):\n",
        "  image=image.astype('float32')\n",
        "  f_image=cv2.dft(image,flags=cv2.DFT_COMPLEX_OUTPUT)\n",
        "  result_img=np.fft.fftshift(f_image,[0,1])\n",
        "  mag,ang=cv2.cartToPolar(result_img[:, :, 0],result_img[:, :, 1])\n",
        "  return mag,ang\n",
        "\n",
        "def show_results(image1,image2,image3):  \n",
        "  figure,ax=plt.subplots(1,3,figsize=(12,12))\n",
        "  ax[0].imshow(image1,cmap='gray')\n",
        "  ax[0].set_title('obraz oryginalny')\n",
        "  ax[0].axis('off')\n",
        "  ax[1].imshow(image2,cmap='gray')\n",
        "  ax[1].set_title('amplituda')\n",
        "  ax[1].axis('off')\n",
        "  ax[2].imshow(image3,cmap='gray')\n",
        "  ax[2].set_title('faza')\n",
        "  ax[2].axis('off') \n",
        "\n",
        "kolof=fourier(kolo)\n",
        "kwadratf=fourier(kwadrat)\n",
        "kwadrat45f=fourier(kwadrat45)\n",
        "trojkatf=fourier(trojkat)\n",
        "show_results(kolo,kolof[0],kolof[1])\n",
        "show_results(kwadrat,kwadratf[0],kwadratf[1])\n",
        "show_results(kwadrat45,kwadrat45f[0],kwadrat45f[1])\n",
        "show_results(trojkat,trojkatf[0],trojkatf[1])\n"
      ]
    },
    {
      "cell_type": "code",
      "source": [
        "#z amplitudą wyrażoną logarytmicznie\n",
        "\n",
        "def fourier_log(image):\n",
        "  image=image.astype('float32')\n",
        "  f_image=cv2.dft(image,flags=cv2.DFT_COMPLEX_OUTPUT)\n",
        "  result_img=np.fft.fftshift(f_image,[0,1])\n",
        "  mag,ang=cv2.cartToPolar(result_img[:, :, 0],result_img[:, :, 1])\n",
        "  mag_log = np.log10(mag+1)\n",
        "  return mag_log,ang\n",
        "\n",
        "\n",
        "kolof=fourier_log(kolo)\n",
        "kwadratf=fourier_log(kwadrat)\n",
        "kwadrat45f=fourier_log(kwadrat45)\n",
        "trojkatf=fourier_log(trojkat)\n",
        "show_results(kolo,kolof[0],kolof[1])\n",
        "show_results(kwadrat,kwadratf[0],kwadratf[1])\n",
        "show_results(kwadrat45,kwadrat45f[0],kwadrat45f[1])\n",
        "show_results(trojkat,trojkatf[0],trojkatf[1])\n",
        "\n",
        "#sprawdzenie poprawności stwierdzenia o transformacie(pkt.7)\n",
        "def fourier2in1(image):\n",
        "  FRow = np.fft.fft(image, axis=0)\n",
        "  FCol = np.fft.fft(FRow, axis=1)\n",
        "  mag,ang=cv2.cartToPolar(FCol.real,FCol.imag)\n",
        "  mag_log = np.log10(mag+1)\n",
        "  return mag_log,ang"
      ],
      "metadata": {
        "id": "pY_Hd4InIzcx"
      },
      "execution_count": null,
      "outputs": []
    },
    {
      "cell_type": "code",
      "source": [
        "#porównanie zostało przeprowadzone na obrazie kwadrat\n",
        "kwadrat_nf=fourier2in1(kwadrat)\n",
        "show_results(kwadrat,kwadratf[0],kwadratf[1])\n",
        "show_results(kwadrat,kwadrat_nf[0],kwadrat_nf[1])"
      ],
      "metadata": {
        "id": "g97f4M4GIufC"
      },
      "execution_count": null,
      "outputs": []
    },
    {
      "cell_type": "markdown",
      "metadata": {
        "collapsed": false,
        "pycharm": {
          "name": "#%% md\n"
        },
        "id": "g867JncuAfFW"
      },
      "source": [
        "## Własności dwuwymiarowej transformaty Fouriera\n",
        "\n",
        "1. Zbadaj jak zmienia się F-obraz (amplituda i faza) podczas następujących operacji: translacja, rotacja, zmiana rozmiaru, kombinacja liniowa.\n",
        "Wykorzystaj stworzony wcześniej kod.<br>\n",
        "Uwaga. Należy użyć przygotowanych obrazów, a nie \"generować\" własne.\n",
        "2. Do badania translacji wykorzystaj obrazy *kwadrat.bmp* i *kwadratT.bmp*.\n",
        "3. Przy badaniu rotacji wykorzystaj obrazy *kwadrat.bmp* i *kwadrat45.bmp*.\n",
        "4. Przy badaniu zmiany rozmiaru wykorzystaj obrazy *kwadrat.bmp* i *kwadratS.bmp*.\n",
        "5. Przy badaniu kombinacji liniowej wykorzystaj obrazy *kwadrat.bmp*, *kwadrat45.bmp* i *kwadratKL.bmp*."
      ]
    },
    {
      "cell_type": "code",
      "execution_count": null,
      "metadata": {
        "pycharm": {
          "name": "#%% Zadanie 2 - własności\n"
        },
        "id": "RrN-GK9hAfFW"
      },
      "outputs": [],
      "source": [
        "#translacja\n",
        "kwadrat=cv2.imread('kwadrat.bmp', cv2.IMREAD_GRAYSCALE)\n",
        "kwadratT=cv2.imread('kwadratT.bmp', cv2.IMREAD_GRAYSCALE)\n",
        "f1=fourier_log(kwadrat)\n",
        "f2=fourier_log(kwadratT)\n",
        "show_results(kwadrat,f1[0],f1[1])\n",
        "show_results(kwadratT,f2[0],f2[1])"
      ]
    },
    {
      "cell_type": "code",
      "source": [
        "#rotacja\n",
        "kwadrat=cv2.imread('kwadrat.bmp', cv2.IMREAD_GRAYSCALE)\n",
        "kwadrat45=cv2.imread('kwadrat45.bmp', cv2.IMREAD_GRAYSCALE)\n",
        "f1=fourier_log(kwadrat)\n",
        "f2=fourier_log(kwadrat45)\n",
        "show_results(kwadrat,f1[0],f1[1])\n",
        "show_results(kwadrat45,f2[0],f2[1])"
      ],
      "metadata": {
        "id": "GJaYmbtlK4BE"
      },
      "execution_count": null,
      "outputs": []
    },
    {
      "cell_type": "code",
      "source": [
        "#zmiana rozmiaru\n",
        "kwadrat=cv2.imread('kwadrat.bmp', cv2.IMREAD_GRAYSCALE)\n",
        "kwadratS=cv2.imread('kwadratS.bmp', cv2.IMREAD_GRAYSCALE)\n",
        "f1=fourier_log(kwadrat)\n",
        "f2=fourier_log(kwadratS)\n",
        "show_results(kwadrat,f1[0],f1[1])\n",
        "show_results(kwadratS,f2[0],f2[1])"
      ],
      "metadata": {
        "id": "kB7BKPt4K6Pc"
      },
      "execution_count": null,
      "outputs": []
    },
    {
      "cell_type": "code",
      "source": [
        "#kombinacja liniowa\n",
        "kwadrat=cv2.imread('kwadrat.bmp', cv2.IMREAD_GRAYSCALE)\n",
        "kwadrat45=cv2.imread('kwadrat45.bmp', cv2.IMREAD_GRAYSCALE)\n",
        "kwadratKL=cv2.imread('kwadratKL.bmp', cv2.IMREAD_GRAYSCALE)\n",
        "f1=fourier_log(kwadrat)\n",
        "f2=fourier_log(kwadrat45)\n",
        "f3=fourier_log(kwadratKL)\n",
        "show_results(kwadrat,f1[0],f1[1])\n",
        "show_results(kwadrat45,f2[0],f2[1])\n",
        "show_results(kwadratKL,f3[0],f3[1])"
      ],
      "metadata": {
        "id": "3D8yB_hVK6fE"
      },
      "execution_count": null,
      "outputs": []
    },
    {
      "cell_type": "markdown",
      "metadata": {
        "collapsed": false,
        "pycharm": {
          "name": "#%% md\n"
        },
        "id": "ZdtmrnUQAfFW"
      },
      "source": [
        "## Odwrotna dwuwymiarowa transformata Fouriera\n",
        "\n",
        "1. Wykorzystaj stworzony wcześniej kod. Wybierz dowolny obraz np \"kolo.bmp\".\n",
        "2. Przed realizacją odwrotnego przekszałcenia należy wykonać odwrotne przesunięcie.\n",
        "Wykorzystaj funkcję `np.fft.ifftshift`.\n",
        "Pierwszym argumentem jest wynik transformaty Fouriera.\n",
        "Drugim argumentem są numery osi, wzdłuż których należy wykonać operację.\n",
        "3. Wykonaj odwrotną transformatę Fouriera za pomocą funkcji `cv2.idft`.\n",
        "Jako drugi argument przekaż następujące flagi: `flags=cv2.DFT_SCALE | cv2.DFT_COMPLEX_OUTPUT`.\n",
        "Wynik może mieć małą część urojoną przez błędy numeryczne.\n",
        "Aby pozbyć się tego efekty należy obliczyć amplitudę:\n",
        "        `imgIFFT = cv2.magnitude(ifft[:, :, 0], ifft[:, :, 1])`\n",
        "Następnie wynik należy zaokrąglić (`np.round`) i zrzutować do typu `uint8`.\n",
        "4. Wyświetl wynik.\n",
        "Sprawdź (wizualnie i poprzez odjęcie) czy obraz oryginalny i po przekształceniach są takie same."
      ]
    },
    {
      "cell_type": "code",
      "execution_count": null,
      "metadata": {
        "pycharm": {
          "name": "#%% Zadanie 3 - odwrotna\n"
        },
        "id": "iR0rchKlAfFW"
      },
      "outputs": [],
      "source": [
        "def new_fourier(image):\n",
        "  image=image.astype('float32')\n",
        "  f_image=cv2.dft(image,flags=cv2.DFT_COMPLEX_OUTPUT)\n",
        "  result_img=np.fft.fftshift(f_image,[0,1])\n",
        "  return result_img\n",
        "\n",
        "kolo=cv2.imread('kolo.bmp', cv2.IMREAD_GRAYSCALE)\n",
        "kolof=new_fourier(kolo)\n",
        "kolo_shf=np.fft.ifftshift(kolof,[0,1])\n",
        "kolo_idft=cv2.idft(kolo_shf,flags=cv2.DFT_SCALE | cv2.DFT_COMPLEX_OUTPUT)\n",
        "koloIFFT = cv2.magnitude(kolo_idft[:, :, 0], kolo_idft[:, :, 1])\n",
        "reverse_kolo=np.round(koloIFFT).astype('uint8')\n",
        "diff=np.abs(kolo-reverse_kolo)\n",
        "\n",
        "figure,ax=plt.subplots(1,3,figsize=(12,12))\n",
        "ax[0].imshow(kolo,cmap='gray')\n",
        "ax[0].set_title('obraz oryginalny')\n",
        "ax[0].axis('off')\n",
        "ax[1].imshow(reverse_kolo,cmap='gray')\n",
        "ax[1].set_title('obraz po przekształceniu')\n",
        "ax[1].axis('off')\n",
        "ax[2].imshow(diff,cmap='gray')\n",
        "ax[2].set_title('różnica')\n",
        "ax[2].axis('off') "
      ]
    },
    {
      "cell_type": "markdown",
      "metadata": {
        "collapsed": false,
        "pycharm": {
          "name": "#%% md\n"
        },
        "id": "Bo5Ps6uYAfFX"
      },
      "source": [
        "## Filtracja obrazu w dziedzinie częstotliwości\n",
        "\n",
        "1. Wczytaj obraz \"lena.bmp\" w skali szarości.\n",
        "Wykonaj transformatę Fouriera.\n",
        "Wykorzystaj stworzony poprzednio kod.\n",
        "Wyświetl obraz oryginalny, amplitudę (w skali logarytmicznej) i fazę.\n",
        "\n",
        "2. Przeprowadź filtrację dolnoprzepustową - usuń górne częstotliwości.\n",
        "Dla F-obrazu po operacji przesunięcia (`fftshift`) niskie częstotliwości leżą w jego centrum.\n",
        "\n",
        "3. Na początku stwórz filtr \"kołowy\", dolnoprzepustowy.\n",
        "Należy wygenerować macierze opisujące przestrzeń w dziedzinie częstotliwości.\n",
        "Ich rozmiar musi być taki sam jak rozmiar przetwarzanego obrazu.\n",
        "\n",
        "        lenaSize = I_Lena.shape\n",
        "        FSpaceRows = 2 * np.fft.fftshift(np.fft.fftfreq(lenaSize[0]))\n",
        "        FSpaceRowsM = np.outer(FSpaceRows, np.ones([1, lenaSize[1]]))\n",
        "        FSpaceCols = 2 * np.fft.fftshift(np.fft.fftfreq(lenaSize[1]))\n",
        "        FSpaceColsM = np.outer(np.ones([1, lenaSize[0]]), FSpaceCols)\n",
        "        \n",
        "Powyższy kod wygeneruje dwie znormalizowane macierze częstotliwości: *FSpaceRowsM* i *FSpaceColsM*.\n",
        "Następnie należy wyznaczyć macierz zawierającą \"odległość\" od składowej stałej.\n",
        "        `FreqR = np.sqrt(np.square(FSpaceRowsM) + np.square(FSpaceColsM))`\n",
        "\n",
        "Uwagi:\n",
        "- funkcja `fftfreq` generuje wektor częstotliwości $[-0.5, 0.5]$ o określonym rozmiarze, przy czym układ wartości jest taki, że najpierw od 0 do 0.5, a potem od -0.5 do 0,\n",
        "- operacja `fftshift` zmienia ten układ na $[-0.5, 0.5]$,\n",
        "- mnożenie przez 2 ustala ostatecznie zakres na $[-1, 1]$,\n",
        "- operacja `outer` to tzw. iloczyn zewnętrzy dwóch wektorów, w naszym przypadku powoduje, że wektor pionowy lub poziomy jest \"powielany\" odpowiednią liczbę razy.   \n",
        "- sugeruje się, aby przyglądnąć się jak wygląda macierz `FreqR` - czy to w debugerze, czy poprzez wizualizację.\n",
        "\n",
        "4. Teraz należy wybrać interesujący zakres.\n",
        "Tu można zdefiniować typ filtru (dolno, górno, pasmowoprzepustowy).\n",
        "\n",
        "        FilterF = FreqR <= 0.1 \n",
        "\n",
        "Filtr należy zwizualizować:\n",
        "\n",
        "        figFilter = plt.figure()\n",
        "        axsFilter = figFilter.add_subplot(projection='3d')\n",
        "        axsFilter.plot_surface(FSpaceRowsM, FSpaceColsM, FilterF, rstride=1, cstride=1, cmap=plt.get_cmap('gray'), linewidth=0)\n",
        "        figFilter.show()\n",
        "\n",
        "4. Wykonaj właściwą filtrację, czyli mnożenie F-obrazu przez filtr FilterF.\n",
        "Trzeba pamiętać, że F-obraz ma 2 kanały (rzeczywisty i urojony).\n",
        "By mnożenie było możliwe należy więc powielić filtr również na 2 kanały.\n",
        "\n",
        "        FilterF3 = np.repeat(FilterF[:, :, np.newaxis], 2, axis=2)\n",
        "\n",
        "5. Wykonaj operację odwrotnego przesunięcia i odwrotnej transformaty.\n",
        "Oblicz wartość bezwzględną wyniku.\n",
        "Wykorzystaj funkcję `cv2.magnitude`.\n",
        "Pierwszym argumentem jest część rzeczywista.\n",
        "Drugim argumentem jest część urojona.\n",
        "Wynik wyświetl.\n",
        "\n",
        "6. Poeksperymentuj z rozmiarem filtru (promieniem).\n",
        "Zaimplementuj filtr górnoprzepustowy (zmiana znaku przy warunku na odległość) oraz pasmowoprzepustowy (dwa warunki na promień połączone operatorem AND '&' ).\n",
        "Wykonaj co najmniej trzy filtry i wyświetl wyniki.\n",
        "\n",
        "7. W ten sposób zaimplementowana filtracja wprowadza pewne artefakty w postaci \"pierścieni\" wokół krawędzi.\n",
        "Zapobiec temu zjawisku można poprzez odpowiednie \"modelowanie\" filtra.\n",
        "W tym celu wykorzystać należy okna, np. Hamminga, Hanninga, Chebysheva (znane z przetwarzania sygnałów 1D).\n",
        "Zagadnienie to jest tematem zadania domowego do tego ćwiczenia."
      ]
    },
    {
      "cell_type": "code",
      "execution_count": null,
      "metadata": {
        "pycharm": {
          "name": "#%% Zadanie 4 - filtracja\n"
        },
        "id": "q_KxfalYAfFX"
      },
      "outputs": [],
      "source": [
        "lena=cv2.imread('lena.bmp', cv2.IMREAD_GRAYSCALE)\n",
        "lenaf=fourier_log(lena)\n",
        "lenaf2=new_fourier(lena)\n",
        "show_results(lena,lenaf[0],lenaf[1])"
      ]
    },
    {
      "cell_type": "code",
      "source": [
        "#dolnoprzepustowy\n",
        "lenaSize =lena.shape\n",
        "FSpaceRows = 2 * np.fft.fftshift(np.fft.fftfreq(lenaSize[0]))\n",
        "FSpaceRowsM = np.outer(FSpaceRows, np.ones([1, lenaSize[1]]))\n",
        "FSpaceCols = 2 * np.fft.fftshift(np.fft.fftfreq(lenaSize[1]))\n",
        "FSpaceColsM = np.outer(np.ones([1, lenaSize[0]]), FSpaceCols)\n",
        "FreqR = np.sqrt(np.square(FSpaceRowsM) + np.square(FSpaceColsM))\n",
        "\n",
        "Filter_lowpass = FreqR <= 0.1\n",
        "\n",
        "figFilter = plt.figure()\n",
        "axsFilter = figFilter.add_subplot(projection='3d')\n",
        "axsFilter.plot_surface(FSpaceRowsM, FSpaceColsM, Filter_lowpass, rstride=1, cstride=1, cmap=plt.get_cmap('gray'), linewidth=0)\n",
        "figFilter.show()\n",
        "\n",
        "FilterF3 = np.repeat(Filter_lowpass[:, :, np.newaxis], 2, axis=2)\n",
        "Filter_l=FilterF3*lenaf2\n",
        "lena_shf=np.fft.ifftshift(Filter_l,[0,1])\n",
        "lena_idft=cv2.idft(lena_shf,flags=cv2.DFT_SCALE | cv2.DFT_COMPLEX_OUTPUT | cv2.DFT_COMPLEX_INPUT )\n",
        "lenaIFFT = cv2.magnitude(lena_idft[:, :, 0], lena_idft[:, :, 1])\n",
        "reverse_lena=np.round(lenaIFFT).astype('uint8')\n",
        "diff=np.abs(lena-reverse_lena)\n",
        "\n",
        "figure,ax=plt.subplots(1,3,figsize=(12,12))\n",
        "ax[0].imshow(lena,cmap='gray')\n",
        "ax[0].set_title('obraz oryginalny')\n",
        "ax[0].axis('off')\n",
        "ax[1].imshow(reverse_lena,cmap='gray')\n",
        "ax[1].set_title('obraz po przekształceniu')\n",
        "ax[1].axis('off')\n",
        "ax[2].imshow(diff,cmap='gray')\n",
        "ax[2].set_title('różnica')\n",
        "ax[2].axis('off') "
      ],
      "metadata": {
        "id": "XqxDKlk2PMMm"
      },
      "execution_count": null,
      "outputs": []
    },
    {
      "cell_type": "code",
      "source": [
        "#górnoprzepustowy\n",
        "lenaSize =lena.shape\n",
        "FSpaceRows = 2 * np.fft.fftshift(np.fft.fftfreq(lenaSize[0]))\n",
        "FSpaceRowsM = np.outer(FSpaceRows, np.ones([1, lenaSize[1]]))\n",
        "FSpaceCols = 2 * np.fft.fftshift(np.fft.fftfreq(lenaSize[1]))\n",
        "FSpaceColsM = np.outer(np.ones([1, lenaSize[0]]), FSpaceCols)\n",
        "FreqR = np.sqrt(np.square(FSpaceRowsM) + np.square(FSpaceColsM))\n",
        "\n",
        "Filter_highpass = FreqR >= 0.1\n",
        "\n",
        "figFilter = plt.figure()\n",
        "axsFilter = figFilter.add_subplot(projection='3d')\n",
        "axsFilter.plot_surface(FSpaceRowsM, FSpaceColsM, Filter_highpass, rstride=1, cstride=1, cmap=plt.get_cmap('gray'), linewidth=0)\n",
        "figFilter.show()\n",
        "\n",
        "FilterF3 = np.repeat(Filter_highpass[:, :, np.newaxis], 2, axis=2)\n",
        "Filter_l=FilterF3*lenaf2\n",
        "lena_shf=np.fft.ifftshift(Filter_l,[0,1])\n",
        "lena_idft=cv2.idft(lena_shf,flags=cv2.DFT_SCALE | cv2.DFT_COMPLEX_OUTPUT | cv2.DFT_COMPLEX_INPUT )\n",
        "lenaIFFT = cv2.magnitude(lena_idft[:, :, 0], lena_idft[:, :, 1])\n",
        "reverse_lena=np.round(lenaIFFT).astype('uint8')\n",
        "diff=np.abs(lena-reverse_lena)\n",
        "\n",
        "figure,ax=plt.subplots(1,3,figsize=(12,12))\n",
        "ax[0].imshow(lena,cmap='gray')\n",
        "ax[0].set_title('obraz oryginalny')\n",
        "ax[0].axis('off')\n",
        "ax[1].imshow(reverse_lena,cmap='gray')\n",
        "ax[1].set_title('obraz po przekształceniu')\n",
        "ax[1].axis('off')\n",
        "ax[2].imshow(diff,cmap='gray')\n",
        "ax[2].set_title('różnica')\n",
        "ax[2].axis('off') "
      ],
      "metadata": {
        "id": "XKwQ8EwNPYC0"
      },
      "execution_count": null,
      "outputs": []
    },
    {
      "cell_type": "code",
      "source": [
        "#pasmowooprzepustowy\n",
        "lenaSize =lena.shape\n",
        "FSpaceRows = 2 * np.fft.fftshift(np.fft.fftfreq(lenaSize[0]))\n",
        "FSpaceRowsM = np.outer(FSpaceRows, np.ones([1, lenaSize[1]]))\n",
        "FSpaceCols = 2 * np.fft.fftshift(np.fft.fftfreq(lenaSize[1]))\n",
        "FSpaceColsM = np.outer(np.ones([1, lenaSize[0]]), FSpaceCols)\n",
        "FreqR = np.sqrt(np.square(FSpaceRowsM) + np.square(FSpaceColsM))\n",
        "f1= FreqR >= 0.4\n",
        "f2=FreqR <= 0.75\n",
        "Filter_bandpass = f1 &f2 \n",
        "\n",
        "figFilter = plt.figure()\n",
        "axsFilter = figFilter.add_subplot(projection='3d')\n",
        "axsFilter.plot_surface(FSpaceRowsM, FSpaceColsM, Filter_bandpass, rstride=1, cstride=1, cmap=plt.get_cmap('gray'), linewidth=0)\n",
        "figFilter.show()\n",
        "\n",
        "FilterF3 = np.repeat(Filter_bandpass[:, :, np.newaxis], 2, axis=2)\n",
        "Filter_l=FilterF3*lenaf2\n",
        "lena_shf=np.fft.ifftshift(Filter_l,[0,1])\n",
        "lena_idft=cv2.idft(lena_shf,flags=cv2.DFT_SCALE | cv2.DFT_COMPLEX_OUTPUT | cv2.DFT_COMPLEX_INPUT )\n",
        "lenaIFFT = cv2.magnitude(lena_idft[:, :, 0], lena_idft[:, :, 1])\n",
        "reverse_lena=np.round(lenaIFFT).astype('uint8')\n",
        "diff=np.abs(lena-reverse_lena)\n",
        "\n",
        "figure,ax=plt.subplots(1,3,figsize=(12,12))\n",
        "ax[0].imshow(lena,cmap='gray')\n",
        "ax[0].set_title('obraz oryginalny')\n",
        "ax[0].axis('off')\n",
        "ax[1].imshow(reverse_lena,cmap='gray')\n",
        "ax[1].set_title('obraz po przekształceniu')\n",
        "ax[1].axis('off')\n",
        "ax[2].imshow(diff,cmap='gray')\n",
        "ax[2].set_title('różnica')\n",
        "ax[2].axis('off') "
      ],
      "metadata": {
        "id": "zrlhZ7NNRuIb"
      },
      "execution_count": null,
      "outputs": []
    },
    {
      "cell_type": "markdown",
      "metadata": {
        "collapsed": false,
        "pycharm": {
          "name": "#%% md\n"
        },
        "id": "eO-tQ3iNAfFX"
      },
      "source": [
        "## Implementacja wyszukiwania wzorca za pomocą FFT\n",
        "\n",
        "1. Wczytaj w skali szarości i wyświetl obrazy *literki.bmp* i *wzorA.bmp*.\n",
        "\n",
        "2. Wyznacz transformatę Fouriera obrazu *literki.bmp*.\n",
        "\n",
        "3. Obróć drugi obraz o $180^\\circ$.\n",
        "Zastosuj funkcję `np.rot90`.\n",
        "Pierwszym argumentem jest obracana macierz, a drugim liczba obrotów o $90^\\circ$.\n",
        "\n",
        "4. Należy wyznaczyć transformatę Fouriera obróconego obrazu w taki sposób, żeby miała ona taki sam rozmiar jak pierwszy obraz.\n",
        "W tym celu należy zastosować *Zero Padding*.\n",
        "Operacja ta polega na uzupełnieniu obrazu zerami do oczekiwanego rozmiaru.\n",
        "Uzupełnij obraz zerami z **prawej** strony i z **dołu**.\n",
        "W tym celu należy wykorzystać funkcję `cv2.copyMakeBorder`.\n",
        "    - Pierwszym argumentem jest obraz wejściowy.\n",
        "    - Drugim argumentem jest liczba wierszy u góry.\n",
        "    - Trzecim argumentem jest liczba wierszy u dołu.\n",
        "    - Czwartym argumentem jest liczba kolumn z lewej.\n",
        "    - Piątym argumentem jest liczba kolumn z prawej.\n",
        "    - Szóstym argumentem jest flaga typu wypełnienia.\n",
        "    Dla stałej wartości podaj `cv2.BORDER_CONSTANT`.\n",
        "    - Siódmym argumentem jest wartość pikseli w ramce.\n",
        "    Przekaż `value=0`.\n",
        "\n",
        "5. Wyznacz transformatę Fouriera obrazu stworzonego w poprzednim punkcie.\n",
        "\n",
        "6. Wyniki obu transformat należy przekonwertować do liczb zespolonych.\n",
        "Obecnie jest to dwukanałowa macierz.\n",
        "Pierwszy kanał odpowiada za część rzeczywistą.\n",
        "Drugi kanał odpowiada za część urojoną.\n",
        "Aby to osiągnąć wystarczy wykonać działanie:\n",
        "\n",
        "        Complex = Real + Imag * 1j\n",
        "\n",
        "7. Przemnóż ze sobą zespolone wyniki transformat.\n",
        "\n",
        "8. Wynik należy powrotnie przekształcić do dwukanałowej macierzy.\n",
        "Aby to zrobić wykonaj operację:\n",
        "\n",
        "        CompMat = cv2.merge([np.real(Complex), np.imag(Complex)])\n",
        "\n",
        "9. Wykonaj odwrotną transformatę Fouriera.\n",
        "Dodaj flagę `flags=cv2.DFT_COMPLEX_INPUT`.\n",
        "\n",
        "10. Oblicz wartość bezwzględną wyniku.\n",
        "\n",
        "11. Wykonaj morfologiczną operację **Top-Hat**, by znaleźć maksima lokalne.\n",
        "Operacja ta zostanie dokładnej wyjaśniona w jednym z kolejnych ćwiczeń.\n",
        "W tym celu wykorzystaj operację:\n",
        "\n",
        "        cv2.morphologyEx(correlation, cv2.MORPH_TOPHAT, np.ones((3, 3), np.uint8))\n",
        "\n",
        "12. Wyświetl obok siebie obraz wejściowy i wynik wykonanych operacji.\n",
        "Czy możesz wskazać położenie wzoru na podstawie drugiego obrazu?"
      ]
    },
    {
      "cell_type": "code",
      "execution_count": null,
      "metadata": {
        "pycharm": {
          "name": "#%% Zadanie 4 - wyszukiwanie wzorca\n"
        },
        "id": "_oFkSSS2AfFY"
      },
      "outputs": [],
      "source": [
        "literki=cv2.imread('literki.bmp', cv2.IMREAD_GRAYSCALE)\n",
        "wzorA=cv2.imread('wzorA.bmp', cv2.IMREAD_GRAYSCALE)\n",
        "literkif=new_fourier(literki)\n",
        "wzorA_rotate=np.rot90(wzorA,2)\n",
        "size=wzorA.shape\n",
        "wzorA_pad=cv2.copyMakeBorder(wzorA_rotate,(256-size[0]),0,(256-size[1]),0,cv2.BORDER_CONSTANT,value=0)\n",
        "wzorAf=new_fourier(wzorA_pad)\n",
        "#konwersja do zespolonych\n",
        "literki_compl= literkif[:, :, 0] + literkif[:, :, 1]* 1j\n",
        "wzorA_compl= wzorAf[:, :, 0] + wzorAf[:, :, 1]* 1j\n",
        "result=literki_compl*wzorA_compl\n",
        "result_compmat= cv2.merge([np.real(result), np.imag(result)])\n",
        "#odwrotna transformata\n",
        "rcf_shf=np.fft.ifftshift(result_compmat,[0,1])\n",
        "rcf_idft=cv2.idft(rcf_shf,flags=cv2.DFT_SCALE | cv2.DFT_COMPLEX_OUTPUT | cv2.DFT_COMPLEX_INPUT )\n",
        "rcfIFFT = cv2.magnitude(rcf_idft[:, :, 0], rcf_idft[:, :, 1])\n",
        "rcf_abs=np.abs(rcfIFFT)\n",
        "max_points=cv2.morphologyEx(rcf_abs, cv2.MORPH_TOPHAT, np.ones((3, 3), np.uint8))\n",
        "#wizualizacja\n",
        "fig,ax=plt.subplots(2,1,figsize=(10,10))\n",
        "ax[0].imshow(literki,cmap='gray')\n",
        "ax[0].set_title('obraz oryginalny')\n",
        "ax[0].axis('off')\n",
        "ax[1].imshow(max_points,cmap='gray')\n",
        "ax[1].set_title('obraz po operacjach')\n",
        "ax[1].axis('off')\n",
        "#nie jest to od razu zauważalne"
      ]
    }
  ],
  "metadata": {
    "kernelspec": {
      "display_name": "Python 3",
      "language": "python",
      "name": "python3"
    },
    "language_info": {
      "codemirror_mode": {
        "name": "ipython",
        "version": 3
      },
      "file_extension": ".py",
      "mimetype": "text/x-python",
      "name": "python",
      "nbconvert_exporter": "python",
      "pygments_lexer": "ipython3",
      "version": "3.8.3"
    },
    "colab": {
      "name": "08_Fourier.ipynb",
      "provenance": [],
      "collapsed_sections": []
    }
  },
  "nbformat": 4,
  "nbformat_minor": 0
}